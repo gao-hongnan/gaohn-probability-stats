{
 "cells": [
  {
   "cell_type": "code",
   "execution_count": 2,
   "metadata": {},
   "outputs": [],
   "source": [
    "import pandas as pd\n",
    "import numpy as np\n",
    "import seaborn as sns \n",
    "import matplotlib.pyplot as plt\n",
    "import matplotlib.patches as mpatches\n",
    "sns.set_style('white')"
   ]
  },
  {
   "attachments": {},
   "cell_type": "markdown",
   "metadata": {},
   "source": [
    "There exist multiple penguin species throughout Antarctica, including the Adelie, Chinstrap, and Gentoo. When encountering one of these penguins on an Antarctic trip, we might classify its species\n",
    "$$\n",
    "Y= \\begin{cases}A & \\text { Adelie } \\\\ C & \\text { Chinstrap } \\\\ G & \\text { Gentoo }\\end{cases}\n",
    "$$\n",
    "by examining various physical characteristics, such as whether the penguin weighs more than the average $4200 \\mathrm{~g}$,\n",
    "$$\n",
    "X_1= \\begin{cases}1 & \\text { above-average weight } \\\\ 0 & \\text { below-average weight }\\end{cases}\n",
    "$$\n",
    "as well as measurements of the penguin's bill\n",
    "$$\n",
    "\\begin{aligned}\n",
    "& X_2=\\text { bill length }(\\text { in } \\mathrm{mm}) \\\\\n",
    "& X_3=\\text { flipper length }(\\text { in } \\mathrm{mm})\n",
    "\\end{aligned}\n",
    "$$\n",
    "The penguins_bayes data, originally made available by Gorman, Williams, and Fraser (2014) and distributed by Horst, Hill, and Gorman (2020), contains the above species and feature information for a sample of 344 Antarctic penguins:"
   ]
  },
  {
   "cell_type": "code",
   "execution_count": 3,
   "metadata": {},
   "outputs": [
    {
     "data": {
      "text/html": [
       "<div>\n",
       "<style scoped>\n",
       "    .dataframe tbody tr th:only-of-type {\n",
       "        vertical-align: middle;\n",
       "    }\n",
       "\n",
       "    .dataframe tbody tr th {\n",
       "        vertical-align: top;\n",
       "    }\n",
       "\n",
       "    .dataframe thead th {\n",
       "        text-align: right;\n",
       "    }\n",
       "</style>\n",
       "<table border=\"1\" class=\"dataframe\">\n",
       "  <thead>\n",
       "    <tr style=\"text-align: right;\">\n",
       "      <th></th>\n",
       "      <th>species</th>\n",
       "      <th>island</th>\n",
       "      <th>bill_length_mm</th>\n",
       "      <th>bill_depth_mm</th>\n",
       "      <th>flipper_length_mm</th>\n",
       "      <th>body_mass_g</th>\n",
       "      <th>sex</th>\n",
       "    </tr>\n",
       "  </thead>\n",
       "  <tbody>\n",
       "    <tr>\n",
       "      <th>0</th>\n",
       "      <td>Adelie</td>\n",
       "      <td>Torgersen</td>\n",
       "      <td>39.1</td>\n",
       "      <td>18.7</td>\n",
       "      <td>181.0</td>\n",
       "      <td>3750.0</td>\n",
       "      <td>Male</td>\n",
       "    </tr>\n",
       "    <tr>\n",
       "      <th>1</th>\n",
       "      <td>Adelie</td>\n",
       "      <td>Torgersen</td>\n",
       "      <td>39.5</td>\n",
       "      <td>17.4</td>\n",
       "      <td>186.0</td>\n",
       "      <td>3800.0</td>\n",
       "      <td>Female</td>\n",
       "    </tr>\n",
       "    <tr>\n",
       "      <th>2</th>\n",
       "      <td>Adelie</td>\n",
       "      <td>Torgersen</td>\n",
       "      <td>40.3</td>\n",
       "      <td>18.0</td>\n",
       "      <td>195.0</td>\n",
       "      <td>3250.0</td>\n",
       "      <td>Female</td>\n",
       "    </tr>\n",
       "    <tr>\n",
       "      <th>3</th>\n",
       "      <td>Adelie</td>\n",
       "      <td>Torgersen</td>\n",
       "      <td>NaN</td>\n",
       "      <td>NaN</td>\n",
       "      <td>NaN</td>\n",
       "      <td>NaN</td>\n",
       "      <td>NaN</td>\n",
       "    </tr>\n",
       "    <tr>\n",
       "      <th>4</th>\n",
       "      <td>Adelie</td>\n",
       "      <td>Torgersen</td>\n",
       "      <td>36.7</td>\n",
       "      <td>19.3</td>\n",
       "      <td>193.0</td>\n",
       "      <td>3450.0</td>\n",
       "      <td>Female</td>\n",
       "    </tr>\n",
       "  </tbody>\n",
       "</table>\n",
       "</div>"
      ],
      "text/plain": [
       "  species     island  bill_length_mm  bill_depth_mm  flipper_length_mm  \\\n",
       "0  Adelie  Torgersen            39.1           18.7              181.0   \n",
       "1  Adelie  Torgersen            39.5           17.4              186.0   \n",
       "2  Adelie  Torgersen            40.3           18.0              195.0   \n",
       "3  Adelie  Torgersen             NaN            NaN                NaN   \n",
       "4  Adelie  Torgersen            36.7           19.3              193.0   \n",
       "\n",
       "   body_mass_g     sex  \n",
       "0       3750.0    Male  \n",
       "1       3800.0  Female  \n",
       "2       3250.0  Female  \n",
       "3          NaN     NaN  \n",
       "4       3450.0  Female  "
      ]
     },
     "metadata": {},
     "output_type": "display_data"
    },
    {
     "name": "stdout",
     "output_type": "stream",
     "text": [
      "<class 'pandas.core.frame.DataFrame'>\n",
      "RangeIndex: 344 entries, 0 to 343\n",
      "Data columns (total 7 columns):\n",
      " #   Column             Non-Null Count  Dtype  \n",
      "---  ------             --------------  -----  \n",
      " 0   species            344 non-null    object \n",
      " 1   island             344 non-null    object \n",
      " 2   bill_length_mm     342 non-null    float64\n",
      " 3   bill_depth_mm      342 non-null    float64\n",
      " 4   flipper_length_mm  342 non-null    float64\n",
      " 5   body_mass_g        342 non-null    float64\n",
      " 6   sex                333 non-null    object \n",
      "dtypes: float64(4), object(3)\n",
      "memory usage: 18.9+ KB\n"
     ]
    },
    {
     "data": {
      "text/plain": [
       "None"
      ]
     },
     "metadata": {},
     "output_type": "display_data"
    },
    {
     "data": {
      "text/html": [
       "<div>\n",
       "<style scoped>\n",
       "    .dataframe tbody tr th:only-of-type {\n",
       "        vertical-align: middle;\n",
       "    }\n",
       "\n",
       "    .dataframe tbody tr th {\n",
       "        vertical-align: top;\n",
       "    }\n",
       "\n",
       "    .dataframe thead th {\n",
       "        text-align: right;\n",
       "    }\n",
       "</style>\n",
       "<table border=\"1\" class=\"dataframe\">\n",
       "  <thead>\n",
       "    <tr style=\"text-align: right;\">\n",
       "      <th></th>\n",
       "      <th>bill_length_mm</th>\n",
       "      <th>bill_depth_mm</th>\n",
       "      <th>flipper_length_mm</th>\n",
       "      <th>body_mass_g</th>\n",
       "    </tr>\n",
       "  </thead>\n",
       "  <tbody>\n",
       "    <tr>\n",
       "      <th>count</th>\n",
       "      <td>342.000000</td>\n",
       "      <td>342.000000</td>\n",
       "      <td>342.000000</td>\n",
       "      <td>342.000000</td>\n",
       "    </tr>\n",
       "    <tr>\n",
       "      <th>mean</th>\n",
       "      <td>43.921930</td>\n",
       "      <td>17.151170</td>\n",
       "      <td>200.915205</td>\n",
       "      <td>4201.754386</td>\n",
       "    </tr>\n",
       "    <tr>\n",
       "      <th>std</th>\n",
       "      <td>5.459584</td>\n",
       "      <td>1.974793</td>\n",
       "      <td>14.061714</td>\n",
       "      <td>801.954536</td>\n",
       "    </tr>\n",
       "    <tr>\n",
       "      <th>min</th>\n",
       "      <td>32.100000</td>\n",
       "      <td>13.100000</td>\n",
       "      <td>172.000000</td>\n",
       "      <td>2700.000000</td>\n",
       "    </tr>\n",
       "    <tr>\n",
       "      <th>25%</th>\n",
       "      <td>39.225000</td>\n",
       "      <td>15.600000</td>\n",
       "      <td>190.000000</td>\n",
       "      <td>3550.000000</td>\n",
       "    </tr>\n",
       "    <tr>\n",
       "      <th>50%</th>\n",
       "      <td>44.450000</td>\n",
       "      <td>17.300000</td>\n",
       "      <td>197.000000</td>\n",
       "      <td>4050.000000</td>\n",
       "    </tr>\n",
       "    <tr>\n",
       "      <th>75%</th>\n",
       "      <td>48.500000</td>\n",
       "      <td>18.700000</td>\n",
       "      <td>213.000000</td>\n",
       "      <td>4750.000000</td>\n",
       "    </tr>\n",
       "    <tr>\n",
       "      <th>max</th>\n",
       "      <td>59.600000</td>\n",
       "      <td>21.500000</td>\n",
       "      <td>231.000000</td>\n",
       "      <td>6300.000000</td>\n",
       "    </tr>\n",
       "  </tbody>\n",
       "</table>\n",
       "</div>"
      ],
      "text/plain": [
       "       bill_length_mm  bill_depth_mm  flipper_length_mm  body_mass_g\n",
       "count      342.000000     342.000000         342.000000   342.000000\n",
       "mean        43.921930      17.151170         200.915205  4201.754386\n",
       "std          5.459584       1.974793          14.061714   801.954536\n",
       "min         32.100000      13.100000         172.000000  2700.000000\n",
       "25%         39.225000      15.600000         190.000000  3550.000000\n",
       "50%         44.450000      17.300000         197.000000  4050.000000\n",
       "75%         48.500000      18.700000         213.000000  4750.000000\n",
       "max         59.600000      21.500000         231.000000  6300.000000"
      ]
     },
     "metadata": {},
     "output_type": "display_data"
    }
   ],
   "source": [
    "penguins = sns.load_dataset('penguins')\n",
    "display(penguins.head())\n",
    "display(penguins.info())\n",
    "display(penguins.describe())"
   ]
  },
  {
   "attachments": {},
   "cell_type": "markdown",
   "metadata": {},
   "source": [
    "Among these penguins, 152 are Adelies, 68 are Chinstraps, and 124 are Gentoos. We’ll assume throughout that the proportional breakdown of these species in our dataset reflects the species breakdown in the wild. That is, our prior assumption about any new penguin is that it’s most likely an Adelie and least likely a Chinstrap:"
   ]
  },
  {
   "cell_type": "code",
   "execution_count": 4,
   "metadata": {},
   "outputs": [
    {
     "data": {
      "text/plain": [
       "Adelie       152\n",
       "Gentoo       124\n",
       "Chinstrap     68\n",
       "Name: species, dtype: int64"
      ]
     },
     "metadata": {},
     "output_type": "display_data"
    },
    {
     "data": {
      "text/plain": [
       "Adelie       0.441860\n",
       "Gentoo       0.360465\n",
       "Chinstrap    0.197674\n",
       "Name: species, dtype: float64"
      ]
     },
     "metadata": {},
     "output_type": "display_data"
    }
   ],
   "source": [
    "display(penguins['species'].value_counts(normalize=False))\n",
    "display(penguins['species'].value_counts(normalize=True))"
   ]
  },
  {
   "attachments": {},
   "cell_type": "markdown",
   "metadata": {},
   "source": [
    "We drop `sex` column for simplicity as there are quite a few missing values in it."
   ]
  },
  {
   "cell_type": "code",
   "execution_count": 5,
   "metadata": {},
   "outputs": [],
   "source": [
    "penguins = penguins.drop(columns=[\"sex\"], inplace=False).reset_index(drop=True)"
   ]
  },
  {
   "attachments": {},
   "cell_type": "markdown",
   "metadata": {},
   "source": [
    "We also drop the other NA rows, there are only 2 of them."
   ]
  },
  {
   "cell_type": "code",
   "execution_count": 6,
   "metadata": {},
   "outputs": [
    {
     "data": {
      "text/html": [
       "<div>\n",
       "<style scoped>\n",
       "    .dataframe tbody tr th:only-of-type {\n",
       "        vertical-align: middle;\n",
       "    }\n",
       "\n",
       "    .dataframe tbody tr th {\n",
       "        vertical-align: top;\n",
       "    }\n",
       "\n",
       "    .dataframe thead th {\n",
       "        text-align: right;\n",
       "    }\n",
       "</style>\n",
       "<table border=\"1\" class=\"dataframe\">\n",
       "  <thead>\n",
       "    <tr style=\"text-align: right;\">\n",
       "      <th></th>\n",
       "      <th>species</th>\n",
       "      <th>island</th>\n",
       "      <th>bill_length_mm</th>\n",
       "      <th>bill_depth_mm</th>\n",
       "      <th>flipper_length_mm</th>\n",
       "      <th>body_mass_g</th>\n",
       "    </tr>\n",
       "  </thead>\n",
       "  <tbody>\n",
       "    <tr>\n",
       "      <th>0</th>\n",
       "      <td>Adelie</td>\n",
       "      <td>Torgersen</td>\n",
       "      <td>39.1</td>\n",
       "      <td>18.7</td>\n",
       "      <td>181.0</td>\n",
       "      <td>3750.0</td>\n",
       "    </tr>\n",
       "    <tr>\n",
       "      <th>1</th>\n",
       "      <td>Adelie</td>\n",
       "      <td>Torgersen</td>\n",
       "      <td>39.5</td>\n",
       "      <td>17.4</td>\n",
       "      <td>186.0</td>\n",
       "      <td>3800.0</td>\n",
       "    </tr>\n",
       "    <tr>\n",
       "      <th>2</th>\n",
       "      <td>Adelie</td>\n",
       "      <td>Torgersen</td>\n",
       "      <td>40.3</td>\n",
       "      <td>18.0</td>\n",
       "      <td>195.0</td>\n",
       "      <td>3250.0</td>\n",
       "    </tr>\n",
       "    <tr>\n",
       "      <th>3</th>\n",
       "      <td>Adelie</td>\n",
       "      <td>Torgersen</td>\n",
       "      <td>36.7</td>\n",
       "      <td>19.3</td>\n",
       "      <td>193.0</td>\n",
       "      <td>3450.0</td>\n",
       "    </tr>\n",
       "    <tr>\n",
       "      <th>4</th>\n",
       "      <td>Adelie</td>\n",
       "      <td>Torgersen</td>\n",
       "      <td>39.3</td>\n",
       "      <td>20.6</td>\n",
       "      <td>190.0</td>\n",
       "      <td>3650.0</td>\n",
       "    </tr>\n",
       "    <tr>\n",
       "      <th>...</th>\n",
       "      <td>...</td>\n",
       "      <td>...</td>\n",
       "      <td>...</td>\n",
       "      <td>...</td>\n",
       "      <td>...</td>\n",
       "      <td>...</td>\n",
       "    </tr>\n",
       "    <tr>\n",
       "      <th>337</th>\n",
       "      <td>Gentoo</td>\n",
       "      <td>Biscoe</td>\n",
       "      <td>47.2</td>\n",
       "      <td>13.7</td>\n",
       "      <td>214.0</td>\n",
       "      <td>4925.0</td>\n",
       "    </tr>\n",
       "    <tr>\n",
       "      <th>338</th>\n",
       "      <td>Gentoo</td>\n",
       "      <td>Biscoe</td>\n",
       "      <td>46.8</td>\n",
       "      <td>14.3</td>\n",
       "      <td>215.0</td>\n",
       "      <td>4850.0</td>\n",
       "    </tr>\n",
       "    <tr>\n",
       "      <th>339</th>\n",
       "      <td>Gentoo</td>\n",
       "      <td>Biscoe</td>\n",
       "      <td>50.4</td>\n",
       "      <td>15.7</td>\n",
       "      <td>222.0</td>\n",
       "      <td>5750.0</td>\n",
       "    </tr>\n",
       "    <tr>\n",
       "      <th>340</th>\n",
       "      <td>Gentoo</td>\n",
       "      <td>Biscoe</td>\n",
       "      <td>45.2</td>\n",
       "      <td>14.8</td>\n",
       "      <td>212.0</td>\n",
       "      <td>5200.0</td>\n",
       "    </tr>\n",
       "    <tr>\n",
       "      <th>341</th>\n",
       "      <td>Gentoo</td>\n",
       "      <td>Biscoe</td>\n",
       "      <td>49.9</td>\n",
       "      <td>16.1</td>\n",
       "      <td>213.0</td>\n",
       "      <td>5400.0</td>\n",
       "    </tr>\n",
       "  </tbody>\n",
       "</table>\n",
       "<p>342 rows × 6 columns</p>\n",
       "</div>"
      ],
      "text/plain": [
       "    species     island  bill_length_mm  bill_depth_mm  flipper_length_mm  \\\n",
       "0    Adelie  Torgersen            39.1           18.7              181.0   \n",
       "1    Adelie  Torgersen            39.5           17.4              186.0   \n",
       "2    Adelie  Torgersen            40.3           18.0              195.0   \n",
       "3    Adelie  Torgersen            36.7           19.3              193.0   \n",
       "4    Adelie  Torgersen            39.3           20.6              190.0   \n",
       "..      ...        ...             ...            ...                ...   \n",
       "337  Gentoo     Biscoe            47.2           13.7              214.0   \n",
       "338  Gentoo     Biscoe            46.8           14.3              215.0   \n",
       "339  Gentoo     Biscoe            50.4           15.7              222.0   \n",
       "340  Gentoo     Biscoe            45.2           14.8              212.0   \n",
       "341  Gentoo     Biscoe            49.9           16.1              213.0   \n",
       "\n",
       "     body_mass_g  \n",
       "0         3750.0  \n",
       "1         3800.0  \n",
       "2         3250.0  \n",
       "3         3450.0  \n",
       "4         3650.0  \n",
       "..           ...  \n",
       "337       4925.0  \n",
       "338       4850.0  \n",
       "339       5750.0  \n",
       "340       5200.0  \n",
       "341       5400.0  \n",
       "\n",
       "[342 rows x 6 columns]"
      ]
     },
     "execution_count": 6,
     "metadata": {},
     "output_type": "execute_result"
    }
   ],
   "source": [
    "penguins = penguins.dropna().reset_index(drop=True) # drop rows with NAs, only 2 rows\n",
    "penguins"
   ]
  },
  {
   "cell_type": "code",
   "execution_count": 7,
   "metadata": {},
   "outputs": [
    {
     "data": {
      "text/plain": [
       "Adelie       151\n",
       "Gentoo       123\n",
       "Chinstrap     68\n",
       "Name: species, dtype: int64"
      ]
     },
     "metadata": {},
     "output_type": "display_data"
    },
    {
     "data": {
      "text/plain": [
       "Adelie       0.441520\n",
       "Gentoo       0.359649\n",
       "Chinstrap    0.198830\n",
       "Name: species, dtype: float64"
      ]
     },
     "metadata": {},
     "output_type": "display_data"
    }
   ],
   "source": [
    "display(penguins['species'].value_counts(normalize=False))\n",
    "display(penguins['species'].value_counts(normalize=True))"
   ]
  },
  {
   "cell_type": "code",
   "execution_count": 8,
   "metadata": {},
   "outputs": [
    {
     "name": "stdout",
     "output_type": "stream",
     "text": [
      "The mean body mass of penguins is 4201.75 grams.\n"
     ]
    }
   ],
   "source": [
    "print(f\"The mean body mass of penguins is {penguins['body_mass_g'].mean():.2f} grams.\")"
   ]
  },
  {
   "attachments": {},
   "cell_type": "markdown",
   "metadata": {},
   "source": [
    "We create a new categorical feature `overweight` which is 1 if the `body_mass_g` is over the \n",
    "mean, and 0 otherwise. This feature corresponds to our earlier defined random variable $X_1$."
   ]
  },
  {
   "cell_type": "code",
   "execution_count": 9,
   "metadata": {},
   "outputs": [
    {
     "data": {
      "text/plain": [
       "0    193\n",
       "1    149\n",
       "Name: overweight, dtype: int64"
      ]
     },
     "metadata": {},
     "output_type": "display_data"
    }
   ],
   "source": [
    "penguins[\"overweight\"] = (penguins[\"body_mass_g\"] > penguins[\"body_mass_g\"].mean()).astype(int)\n",
    "display(penguins[\"overweight\"].value_counts())"
   ]
  },
  {
   "attachments": {},
   "cell_type": "markdown",
   "metadata": {},
   "source": [
    "## The Prior\n",
    "\n",
    "The prior distribution for $Y$ is a categorical distribution with three categories, one for each species. The prior probabilities are given by the relative frequencies of each species in the dataset:\n",
    "\n",
    "$$\n",
    "\\begin{aligned}\n",
    "& \\text { A } \\sim \\text { Categorical }(\\pi_A=0.44) \\\\\n",
    "& \\text { C } \\sim \\text { Categorical }(\\pi_C=0.20) \\\\\n",
    "& \\text { G } \\sim \\text { Categorical }(\\pi_G=0.36)\n",
    "\\end{aligned}\n",
    "$$\n",
    "\n",
    "which implies\n",
    "\n",
    "$$\n",
    "\\begin{aligned}\n",
    "\\mathbb{P}(Y=A) &= 0.44 \\\\\n",
    "\\mathbb{P}(Y=C) &= 0.20 \\\\\n",
    "\\mathbb{P}(Y=G) &= 0.36\n",
    "\\end{aligned}\n",
    "$$\n",
    "\n",
    "Given a new penguin not in the dataset, the **prior assumption** says that the probability \n",
    "of it being an Adelie is $0.44$, the probability of it being a Chinstrap is $0.20$, and the probability of it being a Gentoo is $0.36$. \n",
    "\n",
    "Reference: [The Bayes Rules Book](https://www.bayesrulesbook.com/chapter-2.html#building-a-bayesian-model-for-events)."
   ]
  },
  {
   "attachments": {},
   "cell_type": "markdown",
   "metadata": {},
   "source": [
    "## Classifying one penguin\n",
    "\n",
    "Consider a new penguin with the following features:\n",
    "\n",
    "- `body_mass_g`: $< 4200 \\mathrm{~g}$\n",
    "- `bill_length_mm`: $50 \\mathrm{~mm}$\n",
    "- `flipper_length_mm`: $195 \\mathrm{~mm}$\n",
    "\n",
    "Then we want to find out the posterior distribution of the species of this penguin, given the features. \n",
    "In other words, what is the probability of this penguin being an Adelie, Chinstrap, or Gentoo, given the features?"
   ]
  },
  {
   "attachments": {},
   "cell_type": "markdown",
   "metadata": {},
   "source": [
    "### One Categorical Feature\n",
    "\n",
    "Let's start with the first feature, `body_mass_g` and since the penguin weights less than the average weight of $4200 \\mathrm{~g}$, it belongs to the category $0$ of the feature `overweight`."
   ]
  },
  {
   "cell_type": "code",
   "execution_count": 10,
   "metadata": {},
   "outputs": [
    {
     "data": {
      "text/html": [
       "<div>\n",
       "<style scoped>\n",
       "    .dataframe tbody tr th:only-of-type {\n",
       "        vertical-align: middle;\n",
       "    }\n",
       "\n",
       "    .dataframe tbody tr th {\n",
       "        vertical-align: top;\n",
       "    }\n",
       "\n",
       "    .dataframe thead th {\n",
       "        text-align: right;\n",
       "    }\n",
       "</style>\n",
       "<table border=\"1\" class=\"dataframe\">\n",
       "  <thead>\n",
       "    <tr style=\"text-align: right;\">\n",
       "      <th></th>\n",
       "      <th>species</th>\n",
       "      <th>counts</th>\n",
       "    </tr>\n",
       "  </thead>\n",
       "  <tbody>\n",
       "    <tr>\n",
       "      <th>0</th>\n",
       "      <td>Adelie</td>\n",
       "      <td>151</td>\n",
       "    </tr>\n",
       "    <tr>\n",
       "      <th>1</th>\n",
       "      <td>Chinstrap</td>\n",
       "      <td>68</td>\n",
       "    </tr>\n",
       "    <tr>\n",
       "      <th>2</th>\n",
       "      <td>Gentoo</td>\n",
       "      <td>123</td>\n",
       "    </tr>\n",
       "  </tbody>\n",
       "</table>\n",
       "</div>"
      ],
      "text/plain": [
       "     species  counts\n",
       "0     Adelie     151\n",
       "1  Chinstrap      68\n",
       "2     Gentoo     123"
      ]
     },
     "metadata": {},
     "output_type": "display_data"
    },
    {
     "data": {
      "text/html": [
       "<div>\n",
       "<style scoped>\n",
       "    .dataframe tbody tr th:only-of-type {\n",
       "        vertical-align: middle;\n",
       "    }\n",
       "\n",
       "    .dataframe tbody tr th {\n",
       "        vertical-align: top;\n",
       "    }\n",
       "\n",
       "    .dataframe thead th {\n",
       "        text-align: right;\n",
       "    }\n",
       "</style>\n",
       "<table border=\"1\" class=\"dataframe\">\n",
       "  <thead>\n",
       "    <tr style=\"text-align: right;\">\n",
       "      <th></th>\n",
       "      <th>species</th>\n",
       "      <th>overweight</th>\n",
       "    </tr>\n",
       "  </thead>\n",
       "  <tbody>\n",
       "    <tr>\n",
       "      <th>0</th>\n",
       "      <td>Adelie</td>\n",
       "      <td>25</td>\n",
       "    </tr>\n",
       "    <tr>\n",
       "      <th>1</th>\n",
       "      <td>Chinstrap</td>\n",
       "      <td>7</td>\n",
       "    </tr>\n",
       "    <tr>\n",
       "      <th>2</th>\n",
       "      <td>Gentoo</td>\n",
       "      <td>117</td>\n",
       "    </tr>\n",
       "  </tbody>\n",
       "</table>\n",
       "</div>"
      ],
      "text/plain": [
       "     species  overweight\n",
       "0     Adelie          25\n",
       "1  Chinstrap           7\n",
       "2     Gentoo         117"
      ]
     },
     "metadata": {},
     "output_type": "display_data"
    },
    {
     "data": {
      "text/html": [
       "<div>\n",
       "<style scoped>\n",
       "    .dataframe tbody tr th:only-of-type {\n",
       "        vertical-align: middle;\n",
       "    }\n",
       "\n",
       "    .dataframe tbody tr th {\n",
       "        vertical-align: top;\n",
       "    }\n",
       "\n",
       "    .dataframe thead th {\n",
       "        text-align: right;\n",
       "    }\n",
       "</style>\n",
       "<table border=\"1\" class=\"dataframe\">\n",
       "  <thead>\n",
       "    <tr style=\"text-align: right;\">\n",
       "      <th></th>\n",
       "      <th>species</th>\n",
       "      <th>counts</th>\n",
       "    </tr>\n",
       "  </thead>\n",
       "  <tbody>\n",
       "    <tr>\n",
       "      <th>0</th>\n",
       "      <td>Adelie</td>\n",
       "      <td>100.0</td>\n",
       "    </tr>\n",
       "    <tr>\n",
       "      <th>1</th>\n",
       "      <td>Chinstrap</td>\n",
       "      <td>100.0</td>\n",
       "    </tr>\n",
       "    <tr>\n",
       "      <th>2</th>\n",
       "      <td>Gentoo</td>\n",
       "      <td>100.0</td>\n",
       "    </tr>\n",
       "  </tbody>\n",
       "</table>\n",
       "</div>"
      ],
      "text/plain": [
       "     species  counts\n",
       "0     Adelie   100.0\n",
       "1  Chinstrap   100.0\n",
       "2     Gentoo   100.0"
      ]
     },
     "metadata": {},
     "output_type": "display_data"
    },
    {
     "data": {
      "text/html": [
       "<div>\n",
       "<style scoped>\n",
       "    .dataframe tbody tr th:only-of-type {\n",
       "        vertical-align: middle;\n",
       "    }\n",
       "\n",
       "    .dataframe tbody tr th {\n",
       "        vertical-align: top;\n",
       "    }\n",
       "\n",
       "    .dataframe thead th {\n",
       "        text-align: right;\n",
       "    }\n",
       "</style>\n",
       "<table border=\"1\" class=\"dataframe\">\n",
       "  <thead>\n",
       "    <tr style=\"text-align: right;\">\n",
       "      <th></th>\n",
       "      <th>species</th>\n",
       "      <th>overweight</th>\n",
       "    </tr>\n",
       "  </thead>\n",
       "  <tbody>\n",
       "    <tr>\n",
       "      <th>0</th>\n",
       "      <td>Adelie</td>\n",
       "      <td>16.556291</td>\n",
       "    </tr>\n",
       "    <tr>\n",
       "      <th>1</th>\n",
       "      <td>Chinstrap</td>\n",
       "      <td>10.294118</td>\n",
       "    </tr>\n",
       "    <tr>\n",
       "      <th>2</th>\n",
       "      <td>Gentoo</td>\n",
       "      <td>95.121951</td>\n",
       "    </tr>\n",
       "  </tbody>\n",
       "</table>\n",
       "</div>"
      ],
      "text/plain": [
       "     species  overweight\n",
       "0     Adelie   16.556291\n",
       "1  Chinstrap   10.294118\n",
       "2     Gentoo   95.121951"
      ]
     },
     "metadata": {},
     "output_type": "display_data"
    }
   ],
   "source": [
    "total = penguins.groupby(\"species\").size().reset_index(name=\"counts\")\n",
    "display(total)\n",
    "\n",
    "overweight = (\n",
    "    penguins[penguins[\"overweight\"] == 1]\n",
    "    .groupby(\"species\")[\"overweight\"]\n",
    "    .sum()\n",
    "    .reset_index()\n",
    ")\n",
    "display(overweight)\n",
    "\n",
    "overweight[\"overweight\"] = [\n",
    "    i / j * 100 for i, j in zip(overweight[\"overweight\"], total[\"counts\"])\n",
    "]\n",
    "total[\"counts\"] = [i / j * 100 for i, j in zip(total[\"counts\"], total[\"counts\"])]\n",
    "\n",
    "display(total)\n",
    "display(overweight)  # percentage of overweight penguins for each species"
   ]
  },
  {
   "cell_type": "code",
   "execution_count": 11,
   "metadata": {},
   "outputs": [
    {
     "data": {
      "image/png": "[encoded data removed]",
      "text/plain": [
       "<Figure size 640x480 with 1 Axes>"
      ]
     },
     "metadata": {},
     "output_type": "display_data"
    }
   ],
   "source": [
    "# bar chart 1 -> top bars (group of 'overweight=No')\n",
    "bar1 = sns.barplot(x=\"species\", y=\"counts\", data=total, color=\"darkblue\")\n",
    "\n",
    "# bar chart 2 -> bottom bars (group of 'overweight=Yes')\n",
    "bar2 = sns.barplot(x=\"species\", y=\"overweight\", data=overweight, color=\"lightblue\")\n",
    "\n",
    "# add legend\n",
    "top_bar = mpatches.Patch(color=\"darkblue\", label=\"overweight = No\")\n",
    "bottom_bar = mpatches.Patch(color=\"lightblue\", label=\"overweight = Yes\")\n",
    "plt.legend(handles=[top_bar, bottom_bar])\n",
    "\n",
    "# show the graph\n",
    "plt.show()"
   ]
  },
  {
   "attachments": {},
   "cell_type": "markdown",
   "metadata": {},
   "source": [
    "Before we do anything, we are given one categorical variable and for this penguin, it falls under\n",
    "category $0$ of the `overweight` feature (i.e. underweight).\n",
    "\n",
    "From the conditionals below, the Chinstrap species have the highest probability of underweight penguins by\n",
    "the relative freqeuncy table. That is, for each species, we compute the relative frequency within each species as \n",
    "\n",
    "$$\n",
    "\\begin{aligned}\n",
    "\\mathbb{P}[X_1=0|Y=A] &= 0.8344 \\\\\n",
    "\\mathbb{P}[X_1=0|Y=C] &= 0.8971 \\\\\n",
    "\\mathbb{P}[X_1=0|Y=G] &= 0.0488 \\\\\n",
    "\\end{aligned}\n",
    "$$\n",
    "\n",
    "Note that we are abusing the notation $\\mathbb{P}$ here, since we are not talking about the probability of a random variable, but rather the relative frequency of a feature within a species.\n",
    "Also note the above expressions is the conditional probability of $X_1=0$ given $Y$ is a certain species, also termed as the **likelihood** of $Y$ being a certain species given $X_1=0$. Again, we are being loose with notation here as everything here is empirical!\n",
    "\n",
    "So one might say that the Chinstrap species is the least likely to be overweight, and the Gentoo species is the most likely to be overweight. Well, this makes intuitive sense since we are talking\n",
    "about \"likelihood\" here: of all $P(X_1=0|Y=A)$, $P(X_0=1|Y=C)$, and $P(X_1=0|Y=G)$, the Chinstrap species is the least likely to be overweight.\n",
    "\n",
    "Yet before we can make any conclusions, we need to take into account the prior probabilities of each species. We should weight the relative frequencies by the prior probabilities of each species. Intuitively, since Chinstrap is also the ***rarest*** species, it diminishes the likelihood of the penguin being a Chinstrap."
   ]
  },
  {
   "attachments": {},
   "cell_type": "markdown",
   "metadata": {},
   "source": [
    "We need to use both the prior and the likelihood to compute the posterior distribution of the species of the penguin. The posterior distribution is the probability of the species of the penguin given the features.\n",
    "\n",
    "$$\n",
    "\\begin{aligned}\n",
    "\\mathbb{P}[Y=y|X_1=x_1] = \\frac{\\mathbb{P}[X_1=x_1|Y=y] \\mathbb{P}[Y=y]}{\\mathbb{P}[X_1=x_1]}\n",
    "\\end{aligned}\n",
    "$$\n",
    "\n",
    "For example, if our given feature of the test penguin is $X_1=0$, then we need\n",
    "to find the posterior distribution of **all** species given $X_1=0$. That is, we need to compute\n",
    "\n",
    "$$\n",
    "\\begin{aligned}\n",
    "\\mathbb{P}[Y=A|X_1=0] &= \\frac{\\mathbb{P}[X_1=0|Y=A] \\mathbb{P}[Y=A]}{\\mathbb{P}[X_1=0]} \\\\\n",
    "\\mathbb{P}[Y=C|X_1=0] &= \\frac{\\mathbb{P}[X_1=0|Y=C] \\mathbb{P}[Y=C]}{\\mathbb{P}[X_1=0]} \\\\\n",
    "\\mathbb{P}[Y=G|X_1=0] &= \\frac{\\mathbb{P}[X_1=0|Y=G] \\mathbb{P}[Y=G]}{\\mathbb{P}[X_1=0]}\n",
    "\\end{aligned}\n",
    "$$\n",
    "\n",
    "and get the **argmax** of the above three expressions. The argmax is the species with the highest probability.\n",
    "Note this makes sense because $\\mathbb{P}[Y=y|X_1=x_1]$ is a legitimate probability measure, since it sums to $1$.\n",
    "\n",
    "The **argmax** expression is as follows:\n",
    "\n",
    "$$\n",
    "\\begin{aligned}\n",
    "\\text{argmax}_{y \\in \\{A, C, G\\}} \\mathbb{P}[Y=y|X_1=0] &= \\text{argmax}_{y \\in \\{A, C, G\\}} \\frac{\\mathbb{P}[X_1=0|Y=y] \\mathbb{P}[Y=y]}{\\mathbb{P}[X_1=0]} \\\\\n",
    "&= \\text{argmax}_{y \\in \\{A, C, G\\}} \\frac{\\mathbb{P}[X_1=0|Y=y] \\mathbb{P}[Y=y]}{\\sum_{y' \\in \\{A, C, G\\}} \\mathbb{P}[X_1=0|Y=y'] \\mathbb{P}[Y=y']}\n",
    "\\end{aligned}\n",
    "$$\n",
    "\n",
    "Often times, it is better to see it in terms of the probability density function (PDF), since\n",
    "we are talking about conditional probabilities of a random variable. The PDF of the posterior distribution is\n",
    "\n",
    "$$\n",
    "\\begin{aligned}\n",
    "f_{Y|X_1}(y|x_1) = \\frac{f_{X_1|Y}(x_1|y) f_{Y}(y)}{f_{X_1}(x_1)}\n",
    "\\end{aligned}\n",
    "$$\n",
    "\n",
    "Again, we assume that PDF and PMF are the same thing.\n"
   ]
  },
  {
   "attachments": {},
   "cell_type": "markdown",
   "metadata": {},
   "source": [
    "The table below breaks down the joint distribution table of $Y$ and $X_1$, since\n",
    "both are categorical, it is easy to compute the joint distribution table.\n",
    "\n",
    "| $Y$ | $X_1 = 0$ | $X_1 = 1$ | $\\sum$ |\n",
    "| --- | --- | --- | --- |\n",
    "| A | 126 | 25 | 151 |\n",
    "| C | 61 | 7 | 68 |\n",
    "| G | 6 | 117 | 123 |\n",
    "| $\\sum$ | 193 | 149 | 342 |\n",
    "\n",
    "\n",
    "| $Y$ | $X_1 = 0$ | $X_1 = 1$ | $\\sum$ |\n",
    "| --- | --- | --- | --- |\n",
    "| A | 0.365 | 0.072 | 0.437 |\n",
    "| C | 0.178 | 0.020 | 0.198 |\n",
    "| G | 0.017 | 0.342 | 0.359 |\n",
    "| $\\sum$ | 0.560 | 0.434 | 1.000 |\n",
    "\n"
   ]
  },
  {
   "attachments": {},
   "cell_type": "markdown",
   "metadata": {},
   "source": [
    "The image is a sketch of the joint distribution table of $Y$ and $X_1$.\n",
    "\n",
    "<img src=\"../assets/penguin_overweight_joint.jpg\" alt=\"alt text\" height=\"500\"/>"
   ]
  },
  {
   "cell_type": "code",
   "execution_count": 12,
   "metadata": {},
   "outputs": [
    {
     "data": {
      "image/png": "[encoded data removed]",
      "text/plain": [
       "<Figure size 600x600 with 4 Axes>"
      ]
     },
     "metadata": {},
     "output_type": "display_data"
    }
   ],
   "source": [
    "g = sns.JointGrid(data=penguins, x=\"overweight\", y=\"species\")\n",
    "low, high = 0, 1\n",
    "# bins =  np.arange(0, high + 1.5) - 0.5 # [-0.5, 0.5, 1.5]\n",
    "g.plot_joint(sns.histplot,discrete=True, cbar=True, color=\"red\")\n",
    "g.plot_marginals(sns.histplot, discrete=True, color=\"red\");"
   ]
  },
  {
   "attachments": {},
   "cell_type": "markdown",
   "metadata": {},
   "source": [
    "We can also use seaborns `jointgrid` to do a joint distribution plot, the darker tone of red\n",
    "corresponds to a higher impulse of the joint distribution.\n",
    "\n",
    "Indeed we can see that Adelie + overweight = 0 and Gentoo + overweight = 1 are the\n",
    "most red tone, indicating that $\\mathbb{P}[X_1=0, Y=A]$ and $\\mathbb{P}[X_1=1, Y=G]$ are the highest\n",
    "impulses of the joint distribution.\n",
    "\n",
    "In our table they correspond to 0.365 and 0.342 respectively.\n",
    "\n",
    "The top and right are the marginal distribution of $Y$ and $X_1$ respectively. They are\n",
    "just relative frequencies.\n",
    "\n",
    "Note the above all uses histo plot as default, where we used normal histograms to\n",
    "\"estimate\" the PDF of the joint distribution. We can also use a kernel density estimation (KDE) to\n",
    "do so, which is a bit more smooth and accurate. Note everything here is JUST an estimation. We will\n",
    "use it in continuous distributions later."
   ]
  },
  {
   "attachments": {},
   "cell_type": "markdown",
   "metadata": {},
   "source": [
    "To see the empirical conditional distribution of $X_1=0$ given $Y=C$ for example,\n",
    "it is simply given by the table above. To calculate we ask ourselves the following question:\n",
    "\n",
    "what is $P(X_1=0|Y=C)$? We simply look at the table EARLIER and see that it is $0.8971$. But to \n",
    "read it off this joint distribution table, you first need to recognize that when $Y=C$, we have shrinked our table to only the rows where $Y=C$ (2nd row). Then we look at the column where $X_1=0$ and see that it is 61, then we divide by the sum of the row, which is 68, to get $0.8971$."
   ]
  },
  {
   "attachments": {},
   "cell_type": "markdown",
   "metadata": {},
   "source": [
    "In this scenario, the author mentioned that we can actually directly compute the posterior probability from the empirical joint distribution table.\n",
    "\n",
    "For example, if we want to calculate the posterior probability of $Y=A$ given $X_1=0$, \n",
    "we simply look at the column $X_1=0$ and calculate the relative frequency of $Y=A$,\n",
    "\n",
    "$$\n",
    "\\mathbb{P}[Y=A|X_1=0] = \\frac{126}{193} = 0.652\n",
    "$$\n",
    "\n",
    "or equivalently\n",
    "\n",
    "$$\n",
    "\\mathbb{P}[Y=A|X_1=0] = \\frac{0.365}{0.560} = 0.652\n",
    "$$\n",
    "\n",
    "Note that we are still talking about empirical here, so nothing is really proven yet.\n",
    "\n",
    "In a similar fashion, we have\n",
    "\n",
    "$$\n",
    "\\mathbb{P}[Y=C|X_1=0] = \\frac{61}{193} = 0.315\n",
    "$$\n",
    "\n",
    "\n",
    "$$\n",
    "\\mathbb{P}[Y=G|X_1=0] = \\frac{6}{193} = 0.031\n",
    "$$\n"
   ]
  },
  {
   "attachments": {},
   "cell_type": "markdown",
   "metadata": {},
   "source": [
    "We can confirm this by computing the posterior distribution using the formula above.\n",
    "\n",
    "Firstly, our prior says that\n",
    "\n",
    "$$\n",
    "\\begin{aligned}\n",
    "\\mathbb{P}[Y=A] &= \\frac{151}{342} = 0.4415 \\\\\n",
    "\\mathbb{P}[Y=C] &= \\frac{68}{342} = 0.1988 \\\\\n",
    "\\mathbb{P}[Y=G] &= \\frac{123}{342} = 0.3596 \\\\\n",
    "\\end{aligned}\n",
    "$$\n",
    "\n",
    "These values will handle the $\\mathbb{P}[Y=y]$ term in the formula above.\n",
    "I have to emphasize again that all of these are empirical probabilities, the actual\n",
    "probability of the species of the penguin is not known, i.e $\\mathbb{P}[Y=y]$ is not known\n",
    "but we can reasonably estimate it using statistics, and in this case we estimate\n",
    "it using the relative frequency of each species, we will see later that the\n",
    "relative frequency is a good estimator of the actual probability by Maximum Likelihood Estimation."
   ]
  },
  {
   "attachments": {},
   "cell_type": "markdown",
   "metadata": {},
   "source": [
    "Next, we find the likelihood terms of $\\mathbb{P}[X_1=0|Y=y]$ for each species $y$. \n",
    "\n",
    "$$\n",
    "\\begin{aligned}\n",
    "\\mathbb{P}[X_1=0|Y=A] &= \\frac{126}{151} = 0.8344 \\\\\n",
    "\\mathbb{P}[X_1=0|Y=C] &= \\frac{61}{68} = 0.8971 \\\\\n",
    "\\mathbb{P}[X_1=0|Y=G] &= \\frac{6}{123} = 0.0488 \\\\\n",
    "\\end{aligned}\n",
    "$$\n",
    "\n",
    "Again, these are empirical probabilities, we are not sure if these are the actual probabilities of the features given the species, but we can reasonably estimate it using statistics, and\n",
    "in this case we again use relative frequency to estimate it. We will see later this is modelled\n",
    "by the Multinomial distribution with parameter $\\pi_y$.\n",
    "\n",
    "See WIKIPEDIA: When k is 2 and n is 1, the multinomial distribution is the Bernoulli distribution. When k is 2 and n is bigger than 1, it is the binomial distribution. When k is bigger than 2 and n is 1, it is the categorical distribution.\n",
    "\n"
   ]
  },
  {
   "attachments": {},
   "cell_type": "markdown",
   "metadata": {},
   "source": [
    "Plugging these **priors** and **likelihoods** into the formula above, we get the \n",
    "denominator, the normalizing constant, which is\n",
    "\n",
    "$$\n",
    "\\begin{aligned}\n",
    "\\mathbb{P}[X_1=0] &= \\mathbb{P}[X_1=0|Y=A] \\mathbb{P}[Y=A] \\\\\n",
    "&+ \\mathbb{P}[X_1=0|Y=C] \\mathbb{P}[Y=C] \\\\\n",
    "&+ \\mathbb{P}[X_1=0|Y=G] \\mathbb{P}[Y=G] \\\\\n",
    "&= \\dfrac{193}{342} = 0.565\n",
    "\\end{aligned}\n",
    "$$\n",
    "\n",
    "\n",
    "We pause a while to note that $\\mathbb{P}[X_1]$ is the probability of observing $X_1=x_1$,\n",
    "which is independent of $Y$, so we can compute it using the law of total probability. \n",
    "\n",
    "Of course, this is also merely the relative frequency of $X_1=0$ in the dataset, which is expected\n",
    "by intuition, but we will never know the actual probability of $X_1=0$. We can also\n",
    "estimate it using Binomial distribution if we assume that it is a Bernoulli process, but\n",
    "if it is continuous, then it is often harder to estimate it. We will see later that\n",
    "we can omit the denominator since it is \"constant\" for all $Y$.\n"
   ]
  },
  {
   "attachments": {},
   "cell_type": "markdown",
   "metadata": {},
   "source": [
    "Finally, by Bayes' rule, we get the posterior probability of $Y=A$ given $X_1=0$,\n",
    "\n",
    "$$\n",
    "\\begin{aligned}\n",
    "\\mathbb{P}[Y=A|X_1=0] &= \\dfrac{\\mathbb{P}[X_1=0|Y=A] \\mathbb{P}[Y=A]}{\\mathbb{P}[X_1=0]} \\\\\n",
    "&= \\dfrac{151/342 \\times 126/151}{193/342} \\\\\n",
    "&= \\dfrac{126}{193} = 0.6528\n",
    "\\end{aligned}\n",
    "$$\n",
    "\n",
    "which is the same as the one we calculated earlier using the empirical joint distribution table.\n",
    "\n",
    "In a similar fashion, we get the posterior probability of $Y=C$ given $X_1=0$, and $Y=G$ given $X_1=0$.\n",
    "\n",
    "$$\n",
    "\\begin{aligned}\n",
    "\\mathbb{P}[Y=C|X_1=0] &= \\dfrac{68/342 \\times 61/68}{193/342} = \\dfrac{61}{193} = 0.3161 \\\\\n",
    "\\mathbb{P}[Y=G|X_1=0] &= \\dfrac{123/342 \\times 6/123}{193/342} = \\dfrac{6}{193} = 0.0311\n",
    "\\end{aligned}\n",
    "$$\n",
    "\n",
    "And the argmax of these three posterior probabilities is $Y=A$, so we predict that the penguin is of species $A$.\n",
    "We observe that to get the argmax, we do not need the denominator, because it is the same for all $Y$.\n",
    "\n",
    "So we can omit the denominator, and we get the same result, it may no longer sum to 1, but \n",
    "it does not affect the final result.\n",
    "\n",
    "We also saw here that if our prior is very low, then even though the likelihood is high, the posterior can still be\n",
    "low if `prior << likelihood`. This is the reason why we need to use prior knowledge to help us make better predictions."
   ]
  },
  {
   "attachments": {},
   "cell_type": "markdown",
   "metadata": {},
   "source": [
    "### One Quantitative Predictor\n",
    "\n",
    "We now ignore the earlier categorical predictor $X_1$ and focus on the quantitative predictor $X_2$.\n",
    "This penguin has a `bill_length_mm` of 50mm, so we want to predict the species of the penguin given this information.\n",
    "\n",
    "We know that as we move on to continuous space, we can no longer use \"relative frequency\" to estimate the probability of a continuous variable happening, as we will see later.\n",
    "\n",
    "Let's do some EDA."
   ]
  },
  {
   "cell_type": "code",
   "execution_count": 13,
   "metadata": {},
   "outputs": [
    {
     "data": {
      "text/html": [
       "<div>\n",
       "<style scoped>\n",
       "    .dataframe tbody tr th:only-of-type {\n",
       "        vertical-align: middle;\n",
       "    }\n",
       "\n",
       "    .dataframe tbody tr th {\n",
       "        vertical-align: top;\n",
       "    }\n",
       "\n",
       "    .dataframe thead th {\n",
       "        text-align: right;\n",
       "    }\n",
       "</style>\n",
       "<table border=\"1\" class=\"dataframe\">\n",
       "  <thead>\n",
       "    <tr style=\"text-align: right;\">\n",
       "      <th></th>\n",
       "      <th>bill_length_mm</th>\n",
       "      <th>species</th>\n",
       "    </tr>\n",
       "  </thead>\n",
       "  <tbody>\n",
       "    <tr>\n",
       "      <th>0</th>\n",
       "      <td>39.1</td>\n",
       "      <td>Adelie</td>\n",
       "    </tr>\n",
       "    <tr>\n",
       "      <th>1</th>\n",
       "      <td>39.5</td>\n",
       "      <td>Adelie</td>\n",
       "    </tr>\n",
       "    <tr>\n",
       "      <th>2</th>\n",
       "      <td>40.3</td>\n",
       "      <td>Adelie</td>\n",
       "    </tr>\n",
       "    <tr>\n",
       "      <th>3</th>\n",
       "      <td>36.7</td>\n",
       "      <td>Adelie</td>\n",
       "    </tr>\n",
       "    <tr>\n",
       "      <th>4</th>\n",
       "      <td>39.3</td>\n",
       "      <td>Adelie</td>\n",
       "    </tr>\n",
       "    <tr>\n",
       "      <th>...</th>\n",
       "      <td>...</td>\n",
       "      <td>...</td>\n",
       "    </tr>\n",
       "    <tr>\n",
       "      <th>337</th>\n",
       "      <td>47.2</td>\n",
       "      <td>Gentoo</td>\n",
       "    </tr>\n",
       "    <tr>\n",
       "      <th>338</th>\n",
       "      <td>46.8</td>\n",
       "      <td>Gentoo</td>\n",
       "    </tr>\n",
       "    <tr>\n",
       "      <th>339</th>\n",
       "      <td>50.4</td>\n",
       "      <td>Gentoo</td>\n",
       "    </tr>\n",
       "    <tr>\n",
       "      <th>340</th>\n",
       "      <td>45.2</td>\n",
       "      <td>Gentoo</td>\n",
       "    </tr>\n",
       "    <tr>\n",
       "      <th>341</th>\n",
       "      <td>49.9</td>\n",
       "      <td>Gentoo</td>\n",
       "    </tr>\n",
       "  </tbody>\n",
       "</table>\n",
       "<p>342 rows × 2 columns</p>\n",
       "</div>"
      ],
      "text/plain": [
       "     bill_length_mm species\n",
       "0              39.1  Adelie\n",
       "1              39.5  Adelie\n",
       "2              40.3  Adelie\n",
       "3              36.7  Adelie\n",
       "4              39.3  Adelie\n",
       "..              ...     ...\n",
       "337            47.2  Gentoo\n",
       "338            46.8  Gentoo\n",
       "339            50.4  Gentoo\n",
       "340            45.2  Gentoo\n",
       "341            49.9  Gentoo\n",
       "\n",
       "[342 rows x 2 columns]"
      ]
     },
     "execution_count": 13,
     "metadata": {},
     "output_type": "execute_result"
    }
   ],
   "source": [
    "bill_length_mm = penguins[['bill_length_mm', 'species']]\n",
    "bill_length_mm"
   ]
  },
  {
   "cell_type": "code",
   "execution_count": 14,
   "metadata": {},
   "outputs": [
    {
     "data": {
      "image/png": "[encoded data removed]",
      "text/plain": [
       "<Figure size 640x480 with 1 Axes>"
      ]
     },
     "metadata": {},
     "output_type": "display_data"
    }
   ],
   "source": [
    "# plotting both distibutions on the same figure\n",
    "_ = sns.kdeplot(data=penguins, x=\"bill_length_mm\", fill=True, common_norm=False, alpha=.5, linewidth=0, legend=True)\n",
    "# plot vertical line \n",
    "_ = plt.axvline(x=penguins[\"bill_length_mm\"].mean(), color='red', linestyle='--')\n",
    "# plt.legend()\n",
    "plt.show();"
   ]
  },
  {
   "attachments": {},
   "cell_type": "markdown",
   "metadata": {},
   "source": [
    "The kdeplot above is for an univariate, empirical estimation of the whole dataset, not\n",
    "conditional on any class label.\n",
    "\n",
    "To see the conditional distribution, we can use the `hue` parameter in `seaborn.kdeplot` to plot the conditional distribution of $X_2$ given $Y=y$. You just imagine that given\n",
    "say Adelie has happened, then we zoom into the reduced sample space of Adelie, and plot the distribution of $X_2$ in this **reduced sample space**. Things get a bit more complicated when we have more than one predictor, but the idea is the same, we will see later as well.\n",
    "\n",
    "I want to emphasize that for 1 predictor conditioned on another random variable,\n",
    "in this case $X_2$ conditioned on $Y$, the conditional distribution is a **marginal distribution**,\n",
    "or we can view it as **univariate distribution**. This is because once we $Y=y$ has happened,\n",
    "there is no randomness left in $Y$, we are only looking at the distribution of $X_2$ in the reduced sample space $\\mathcal{\\Omega}_{X_2|Y}$."
   ]
  },
  {
   "cell_type": "code",
   "execution_count": 15,
   "metadata": {},
   "outputs": [
    {
     "data": {
      "image/png": "[encoded data removed]",
      "text/plain": [
       "<Figure size 640x480 with 1 Axes>"
      ]
     },
     "metadata": {},
     "output_type": "display_data"
    }
   ],
   "source": [
    "# plotting both distibutions on the same figure\n",
    "x2 = 50\n",
    "_ = sns.kdeplot(\n",
    "    data=penguins,\n",
    "    x=\"bill_length_mm\",\n",
    "    hue=\"species\",\n",
    "    fill=True,\n",
    "    common_norm=False,\n",
    "    alpha=0.5,\n",
    "    linewidth=0,\n",
    "    legend=True,\n",
    ")\n",
    "# plot vertical line\n",
    "_ = plt.axvline(x2, color=\"r\", linestyle=\"--\", label=\"50 mm\")\n",
    "# plt.legend()\n",
    "plt.show();"
   ]
  },
  {
   "attachments": {},
   "cell_type": "markdown",
   "metadata": {},
   "source": [
    "Before we move on, some EDA on the joint distribution of $X_2$ and $Y$. \n",
    "Note very carefully that this is a **joint distribution** of $X_2$ and $Y$, not a **conditional distribution** of $X_2$ given $Y$. "
   ]
  },
  {
   "cell_type": "code",
   "execution_count": 29,
   "metadata": {},
   "outputs": [
    {
     "data": {
      "text/plain": [
       "<seaborn.axisgrid.JointGrid at 0x20f2df02af0>"
      ]
     },
     "execution_count": 29,
     "metadata": {},
     "output_type": "execute_result"
    },
    {
     "data": {
      "image/png": "[encoded data removed]",
      "text/plain": [
       "<Figure size 600x600 with 4 Axes>"
      ]
     },
     "metadata": {},
     "output_type": "display_data"
    },
    {
     "data": {
      "image/png": "[encoded data removed]",
      "text/plain": [
       "<Figure size 600x600 with 3 Axes>"
      ]
     },
     "metadata": {},
     "output_type": "display_data"
    }
   ],
   "source": [
    "g = sns.JointGrid(data=penguins, x=\"bill_length_mm\", y=\"species\")\n",
    "g.plot_joint(sns.histplot, color = \"red\", cbar=True)\n",
    "\n",
    "sns.jointplot(data=penguins, x=\"bill_length_mm\", y=\"species\")"
   ]
  },
  {
   "attachments": {},
   "cell_type": "markdown",
   "metadata": {},
   "source": [
    "We see that the for this penguin with `bill_length_mm` of 50mm, our gut feeling tells us\n",
    "that it most likely is not an Adelie, since the distribution of $X_2$ for Adelie is\n",
    "much less than 50 mm. It could be a Chinstrap or a Gentoo, but we are not sure which one,\n",
    "though Chinstrap is tends to be longer for bill length, but the earlier section has \n",
    "told us that we should weigh the prior probability of each species into consideration."
   ]
  },
  {
   "attachments": {},
   "cell_type": "markdown",
   "metadata": {},
   "source": [
    "We can again use Bayes' rule to compute the posterior probability of $Y=A$ given $X_2=50$,\n",
    "\n",
    "$$\n",
    "\\begin{aligned}\n",
    "\\mathbb{P}[Y=y|X_2=x_2] = \\frac{\\mathbb{P}[X_2=x_2|Y=y] \\mathbb{P}[Y=y]}{\\mathbb{P}[X_2=x_2]}\n",
    "\\end{aligned}\n",
    "$$\n",
    "\n",
    "For example, since our given feature is `bill_length_mm` of 50mm, we see\n",
    "\n",
    "$$ \n",
    "\\begin{aligned}\n",
    "\\mathbb{P}[Y=A|X_2=50] &= \\dfrac{\\mathbb{P}[X_2=50|Y=A] \\mathbb{P}[Y=A]}{\\mathbb{P}[X_2=50]} \\\\\n",
    "\\mathbb{P}[Y=C|X_2=50] &= \\dfrac{\\mathbb{P}[X_2=50|Y=C] \\mathbb{P}[Y=C]}{\\mathbb{P}[X_2=50]} \\\\\n",
    "\\mathbb{P}[Y=G|X_2=50] &= \\dfrac{\\mathbb{P}[X_2=50|Y=G] \\mathbb{P}[Y=G]}{\\mathbb{P}[X_2=50]}\n",
    "\\end{aligned}\n",
    "$$\n",
    "\n",
    "Again, we use argmax to solve the problem,\n",
    "\n",
    "$$\n",
    "\\begin{aligned}\n",
    "\\text{argmax}_{y \\in \\{A, C, G\\}} \\mathbb{P}[Y=y|X_2=50] &= \\text{argmax}_{y \\in \\{A, C, G\\}} \\dfrac{\\mathbb{P}[X_2=50|Y=y] \\mathbb{P}[Y=y]}{\\mathbb{P}[X_2=50]} \\\\\n",
    "&= \\text{argmax}_{y \\in \\{A, C, G\\}} \\dfrac{\\mathbb{P}[X_2=50|Y=y] \\mathbb{P}[Y=y]}{\\sum_{y' \\in \\{A, C, G\\}} \\mathbb{P}[X_2=50|Y=y'] \\mathbb{P}[Y=y']}\n",
    "\\end{aligned}\n",
    "$$\n",
    "\n"
   ]
  },
  {
   "attachments": {},
   "cell_type": "markdown",
   "metadata": {},
   "source": [
    "Now we met our first hurdle here since $\\mathbb{P}[X_2=50|Y=y]$ is not easy to compute since\n",
    "$X_2$ is a continuous variable, we cannot construct a empirical joint distribution table like\n",
    "how we did earlier (`species` vs `bill_length_mm` does not work here).\n",
    "\n",
    "Further, we haven't assumed a model for $X_2$ yet from which to define the likelihood $\\mathbb{P}[X_2=50|Y=y]$ or $\\mathcal{L}(X_2=50|Y=y)$. We can do like previously to assume **naively (pun intended)** that the distribution of $X_2$ **GIVEN Y** is Gaussian, note carefully\n",
    "that this is a **conditional distribution** of $X_2$ given $Y$, we can also say in same\n",
    "term that $X_2$ is **continuous** and **conditionally normal**.\n",
    "\n",
    "$$\n",
    "\\begin{aligned}\n",
    "X_2 \\mid Y=A \\sim \\mathcal{N}(\\mu_A, \\sigma_A^2) \\\\\n",
    "X_2 \\mid Y=C \\sim \\mathcal{N}(\\mu_C, \\sigma_C^2) \\\\\n",
    "X_2 \\mid Y=G \\sim \\mathcal{N}(\\mu_G, \\sigma_G^2)\n",
    "\\end{aligned}\n",
    "$$\n",
    "\n",
    "Notice here that it is possible that the three conditional distributions are different with\n",
    "different $\\mu$ and $\\sigma$. Technically, we can even assume that the three conditional\n",
    "distributions come from different families, but we will stick to the Gaussian family for now.\n",
    "We usually call this the **Gaussian Naive Bayes** model.\n",
    "\n",
    "Intuitively, we can see that the three species are not well separated in the joint distribution space, so we cannot expect a good performance from the Gaussian Naive Bayes model. For example,\n",
    "50 mm could well be either Gentoo or Chinstrap. (This understanding may be wrong?) In any case,\n",
    "in our example, the conditional distribution of $X_2$ given $Y$ appears quite Gaussian.\n",
    "Even if not so, the Central Limit Theorem tells us that the sum of many independent random\n",
    "variables tends to be Gaussian, so we can still use the Gaussian Naive Bayes model \n",
    "if we have enough data (?)."
   ]
  },
  {
   "attachments": {},
   "cell_type": "markdown",
   "metadata": {},
   "source": [
    "The next question is how do we estimate the $\\mu$ and $\\sigma$ for each $X_2$ given $Y$?\n",
    "We can use the **Maximum Likelihood Estimation** (MLE) method to estimate the parameters (clarify\n",
    "whether it is MLE of MAP?)\n",
    "\n",
    "It turns out that the MLE of $\\mu$ and $\\sigma$ for each $X_2$ given $Y$ is the sample mean\n",
    "and sample standard deviation of $X_2$ given $Y$. They are unbiased estimators of the true\n",
    "$\\mu$ and $\\sigma$! (**FILL In the blanks for the categorical part on Binomial and multinomial**)"
   ]
  },
  {
   "cell_type": "code",
   "execution_count": null,
   "metadata": {},
   "outputs": [],
   "source": []
  },
  {
   "cell_type": "code",
   "execution_count": null,
   "metadata": {},
   "outputs": [],
   "source": []
  },
  {
   "cell_type": "code",
   "execution_count": null,
   "metadata": {},
   "outputs": [],
   "source": []
  },
  {
   "cell_type": "code",
   "execution_count": null,
   "metadata": {},
   "outputs": [],
   "source": []
  },
  {
   "cell_type": "code",
   "execution_count": null,
   "metadata": {},
   "outputs": [],
   "source": []
  },
  {
   "cell_type": "code",
   "execution_count": null,
   "metadata": {},
   "outputs": [],
   "source": []
  },
  {
   "attachments": {},
   "cell_type": "markdown",
   "metadata": {},
   "source": [
    "MULTINOMIAL DISTRIBUTIO!"
   ]
  },
  {
   "attachments": {},
   "cell_type": "markdown",
   "metadata": {},
   "source": [
    "- prior is low but likelihood is high, so posterior may not be high if prior << likelihood\n",
    "- Normalizing constant. argmax so it does not matter if output is probability? because for an image vector input of a certain x = [1,2,3] for eg, the P(Y=k|x) for Y = 0, 1, 2,...9 for that image are fixed at the given x, and as a result we need to compare the p(y|x) for diff y and see which is highest value. MOreover, it says that in D2L the sum of p(y|x) over y is 1, so we can cross multiply anwyays to get?\n",
    "    - Furthermore, $P(X_i=x_i)$ is constant during argmax comparison, see 14.1.1 and 14.1.2 in bayes rules book, denominator is rules of total probability, so it is constant.\n",
    "- Key is estimating , like P(y) we dk population! but estimate from samples, so MLE tells us that indeed \n",
    "the best estimate is derived from the sample mean. Same for the mean of the conditional distribution.\n",
    "\n",
    "conditionally normal means within each class, the data is normal. reasonable assumption because of central limit theorem.\n",
    "\n",
    "- Plotting the tuned Normal models for each species confirms that this naive Bayes assumption isn’t perfect – it’s a bit more idealistic than the density plots of the raw data in Figure 14.2. But it’s fine enough to continue. THIS IS BECAUSE THE ORIGINAL DATA IS NOT EXACTLY NORMAL, BUT THE CONDITIONAL NORMAL ASSUMPTION IS GOOD ENOUGH TO CONTINUE.\n",
    "- Note only assumption of Naive Bayes is the random variables within xn are independent conditional on the class of observation."
   ]
  },
  {
   "attachments": {},
   "cell_type": "markdown",
   "metadata": {},
   "source": [
    "- The plot below is the 1-d empirical distribution of `bill_length_mm` for all species.\n",
    "- The vertical red line is the mean of the empirical distribution.\n",
    "- This is where one “naive” part of naive Bayes classification comes into play. The naive Bayes method typically assumes that any quantitative predictor, here `X_2 = bill_length_mm`\n",
    "    is continuous and conditionally Normal.\n",
    "\n",
    "**Important**\n",
    "\n",
    "From sklearn: and we can use Maximum A Posteriori (MAP) estimation to estimate $P(y)$  and $P(x_i|y)$ ; the former is then the relative frequency of class y in the training set.\n",
    "\n",
    "The different naive Bayes classifiers differ mainly by the assumptions they make regarding the distribution of $P(x_i|y)$.\n",
    "\n",
    "page 475 of chans book says that sample mean of the normal distribution coincides when you use MLE to estimate the mean parameter of the normal distribution.\n",
    "In other words, if $X_2 | Y = A \\sim N(\\mu_{A}, \\sigma_{A}^2)$, then to find the $P(X_2 | Y = A)$, which is the probability of $X_2=x_2$ given $Y=A$,\n",
    "we know that conditional PDF is about $X_2$ as $Y$ is fixed, so we need the parameters $\\mu_{A}$ and $\\sigma_{A}^2$ to find the PDF.  \n",
    "\n",
    "So this is an inverse problem of finding the parameters $\\mu_{A}$ and $\\sigma_{A}^2$. \n",
    "A bit confused see chans page 469, but overall, the idea is that we want to find the parameters of the normal distribution that best fit the data.\n",
    "And we use MLE to find the parameters of the normal distribution that best fit the data. It turns the parameters\n",
    "found through MLE are the sample mean and sample variance of the data."
   ]
  },
  {
   "attachments": {},
   "cell_type": "markdown",
   "metadata": {},
   "source": [
    "Penguin with bill length of 50mm.\n"
   ]
  },
  {
   "attachments": {},
   "cell_type": "markdown",
   "metadata": {},
   "source": [
    "$P(x_2=50|y=Adelie)$"
   ]
  },
  {
   "cell_type": "code",
   "execution_count": 20,
   "metadata": {},
   "outputs": [],
   "source": [
    "# plot conditional distribution of bill length given species\n",
    "\n"
   ]
  },
  {
   "cell_type": "code",
   "execution_count": 21,
   "metadata": {},
   "outputs": [
    {
     "data": {
      "text/plain": [
       "<seaborn.axisgrid.FacetGrid at 0x20f292add30>"
      ]
     },
     "execution_count": 21,
     "metadata": {},
     "output_type": "execute_result"
    },
    {
     "data": {
      "image/png": "[encoded data removed]",
      "text/plain": [
       "<Figure size 500x500 with 1 Axes>"
      ]
     },
     "metadata": {},
     "output_type": "display_data"
    }
   ],
   "source": [
    "sns.displot(penguins, x=\"bill_length_mm\", y=\"bill_depth_mm\")"
   ]
  },
  {
   "cell_type": "code",
   "execution_count": null,
   "metadata": {},
   "outputs": [],
   "source": []
  },
  {
   "cell_type": "code",
   "execution_count": 22,
   "metadata": {},
   "outputs": [
    {
     "data": {
      "text/plain": [
       "<seaborn.axisgrid.FacetGrid at 0x20f2338b730>"
      ]
     },
     "execution_count": 22,
     "metadata": {},
     "output_type": "execute_result"
    },
    {
     "data": {
      "image/png": "[encoded data removed]",
      "text/plain": [
       "<Figure size 609.5x500 with 1 Axes>"
      ]
     },
     "metadata": {},
     "output_type": "display_data"
    }
   ],
   "source": [
    "sns.displot(penguins, x=\"bill_length_mm\", y=\"bill_depth_mm\", hue=\"species\")"
   ]
  },
  {
   "attachments": {},
   "cell_type": "markdown",
   "metadata": {},
   "source": [
    "## Plotting joint and marginal distributions\n",
    "\n",
    "The first is jointplot(), which augments a bivariate relatonal or distribution plot with the marginal distributions of the two variables. By default, jointplot() represents the bivariate distribution using scatterplot() and the marginal distributions using histplot():"
   ]
  },
  {
   "cell_type": "markdown",
   "metadata": {},
   "source": []
  },
  {
   "cell_type": "code",
   "execution_count": 23,
   "metadata": {},
   "outputs": [
    {
     "data": {
      "text/plain": [
       "<seaborn.axisgrid.JointGrid at 0x20f293f0220>"
      ]
     },
     "execution_count": 23,
     "metadata": {},
     "output_type": "execute_result"
    },
    {
     "data": {
      "image/png": "[encoded data removed]",
      "text/plain": [
       "<Figure size 600x600 with 3 Axes>"
      ]
     },
     "metadata": {},
     "output_type": "display_data"
    }
   ],
   "source": [
    "sns.jointplot(data=penguins, x=\"bill_length_mm\", y=\"bill_depth_mm\")"
   ]
  },
  {
   "cell_type": "code",
   "execution_count": 24,
   "metadata": {},
   "outputs": [],
   "source": [
    "# ax = sns.histplot(x = df['class'], hue=df['survived'], multiple=\"dodge\", \n",
    "#                   stat = 'density', shrink = 0.8, common_norm=False)"
   ]
  },
  {
   "cell_type": "code",
   "execution_count": 25,
   "metadata": {},
   "outputs": [
    {
     "data": {
      "text/plain": [
       "<seaborn.axisgrid.FacetGrid at 0x20f296a0c70>"
      ]
     },
     "execution_count": 25,
     "metadata": {},
     "output_type": "execute_result"
    },
    {
     "data": {
      "image/png": "[encoded data removed]",
      "text/plain": [
       "<Figure size 609.5x500 with 1 Axes>"
      ]
     },
     "metadata": {},
     "output_type": "display_data"
    }
   ],
   "source": [
    "sns.displot(data=penguins, x=\"body_mass_g\", hue=\"species\", kind=\"kde\", fill=True)"
   ]
  },
  {
   "attachments": {},
   "cell_type": "markdown",
   "metadata": {},
   "source": [
    "## 2 Features + 1 Class Plots"
   ]
  },
  {
   "cell_type": "code",
   "execution_count": null,
   "metadata": {},
   "outputs": [],
   "source": [
    "g = sns.JointGrid(data=penguins, x=\"bill_length_mm\", y=\"bill_depth_mm\")"
   ]
  },
  {
   "cell_type": "code",
   "execution_count": 30,
   "metadata": {},
   "outputs": [
    {
     "data": {
      "text/html": [
       "<div>\n",
       "<style scoped>\n",
       "    .dataframe tbody tr th:only-of-type {\n",
       "        vertical-align: middle;\n",
       "    }\n",
       "\n",
       "    .dataframe tbody tr th {\n",
       "        vertical-align: top;\n",
       "    }\n",
       "\n",
       "    .dataframe thead th {\n",
       "        text-align: right;\n",
       "    }\n",
       "</style>\n",
       "<table border=\"1\" class=\"dataframe\">\n",
       "  <thead>\n",
       "    <tr style=\"text-align: right;\">\n",
       "      <th></th>\n",
       "      <th>species</th>\n",
       "      <th>island</th>\n",
       "      <th>bill_length_mm</th>\n",
       "      <th>bill_depth_mm</th>\n",
       "      <th>flipper_length_mm</th>\n",
       "      <th>body_mass_g</th>\n",
       "      <th>overweight</th>\n",
       "    </tr>\n",
       "  </thead>\n",
       "  <tbody>\n",
       "    <tr>\n",
       "      <th>0</th>\n",
       "      <td>Adelie</td>\n",
       "      <td>Torgersen</td>\n",
       "      <td>39.1</td>\n",
       "      <td>18.7</td>\n",
       "      <td>181.0</td>\n",
       "      <td>3750.0</td>\n",
       "      <td>0</td>\n",
       "    </tr>\n",
       "    <tr>\n",
       "      <th>1</th>\n",
       "      <td>Adelie</td>\n",
       "      <td>Torgersen</td>\n",
       "      <td>39.5</td>\n",
       "      <td>17.4</td>\n",
       "      <td>186.0</td>\n",
       "      <td>3800.0</td>\n",
       "      <td>0</td>\n",
       "    </tr>\n",
       "    <tr>\n",
       "      <th>2</th>\n",
       "      <td>Adelie</td>\n",
       "      <td>Torgersen</td>\n",
       "      <td>40.3</td>\n",
       "      <td>18.0</td>\n",
       "      <td>195.0</td>\n",
       "      <td>3250.0</td>\n",
       "      <td>0</td>\n",
       "    </tr>\n",
       "    <tr>\n",
       "      <th>3</th>\n",
       "      <td>Adelie</td>\n",
       "      <td>Torgersen</td>\n",
       "      <td>36.7</td>\n",
       "      <td>19.3</td>\n",
       "      <td>193.0</td>\n",
       "      <td>3450.0</td>\n",
       "      <td>0</td>\n",
       "    </tr>\n",
       "    <tr>\n",
       "      <th>4</th>\n",
       "      <td>Adelie</td>\n",
       "      <td>Torgersen</td>\n",
       "      <td>39.3</td>\n",
       "      <td>20.6</td>\n",
       "      <td>190.0</td>\n",
       "      <td>3650.0</td>\n",
       "      <td>0</td>\n",
       "    </tr>\n",
       "    <tr>\n",
       "      <th>...</th>\n",
       "      <td>...</td>\n",
       "      <td>...</td>\n",
       "      <td>...</td>\n",
       "      <td>...</td>\n",
       "      <td>...</td>\n",
       "      <td>...</td>\n",
       "      <td>...</td>\n",
       "    </tr>\n",
       "    <tr>\n",
       "      <th>337</th>\n",
       "      <td>Gentoo</td>\n",
       "      <td>Biscoe</td>\n",
       "      <td>47.2</td>\n",
       "      <td>13.7</td>\n",
       "      <td>214.0</td>\n",
       "      <td>4925.0</td>\n",
       "      <td>1</td>\n",
       "    </tr>\n",
       "    <tr>\n",
       "      <th>338</th>\n",
       "      <td>Gentoo</td>\n",
       "      <td>Biscoe</td>\n",
       "      <td>46.8</td>\n",
       "      <td>14.3</td>\n",
       "      <td>215.0</td>\n",
       "      <td>4850.0</td>\n",
       "      <td>1</td>\n",
       "    </tr>\n",
       "    <tr>\n",
       "      <th>339</th>\n",
       "      <td>Gentoo</td>\n",
       "      <td>Biscoe</td>\n",
       "      <td>50.4</td>\n",
       "      <td>15.7</td>\n",
       "      <td>222.0</td>\n",
       "      <td>5750.0</td>\n",
       "      <td>1</td>\n",
       "    </tr>\n",
       "    <tr>\n",
       "      <th>340</th>\n",
       "      <td>Gentoo</td>\n",
       "      <td>Biscoe</td>\n",
       "      <td>45.2</td>\n",
       "      <td>14.8</td>\n",
       "      <td>212.0</td>\n",
       "      <td>5200.0</td>\n",
       "      <td>1</td>\n",
       "    </tr>\n",
       "    <tr>\n",
       "      <th>341</th>\n",
       "      <td>Gentoo</td>\n",
       "      <td>Biscoe</td>\n",
       "      <td>49.9</td>\n",
       "      <td>16.1</td>\n",
       "      <td>213.0</td>\n",
       "      <td>5400.0</td>\n",
       "      <td>1</td>\n",
       "    </tr>\n",
       "  </tbody>\n",
       "</table>\n",
       "<p>342 rows × 7 columns</p>\n",
       "</div>"
      ],
      "text/plain": [
       "    species     island  bill_length_mm  bill_depth_mm  flipper_length_mm  \\\n",
       "0    Adelie  Torgersen            39.1           18.7              181.0   \n",
       "1    Adelie  Torgersen            39.5           17.4              186.0   \n",
       "2    Adelie  Torgersen            40.3           18.0              195.0   \n",
       "3    Adelie  Torgersen            36.7           19.3              193.0   \n",
       "4    Adelie  Torgersen            39.3           20.6              190.0   \n",
       "..      ...        ...             ...            ...                ...   \n",
       "337  Gentoo     Biscoe            47.2           13.7              214.0   \n",
       "338  Gentoo     Biscoe            46.8           14.3              215.0   \n",
       "339  Gentoo     Biscoe            50.4           15.7              222.0   \n",
       "340  Gentoo     Biscoe            45.2           14.8              212.0   \n",
       "341  Gentoo     Biscoe            49.9           16.1              213.0   \n",
       "\n",
       "     body_mass_g  overweight  \n",
       "0         3750.0           0  \n",
       "1         3800.0           0  \n",
       "2         3250.0           0  \n",
       "3         3450.0           0  \n",
       "4         3650.0           0  \n",
       "..           ...         ...  \n",
       "337       4925.0           1  \n",
       "338       4850.0           1  \n",
       "339       5750.0           1  \n",
       "340       5200.0           1  \n",
       "341       5400.0           1  \n",
       "\n",
       "[342 rows x 7 columns]"
      ]
     },
     "execution_count": 30,
     "metadata": {},
     "output_type": "execute_result"
    }
   ],
   "source": [
    "penguins"
   ]
  },
  {
   "cell_type": "code",
   "execution_count": null,
   "metadata": {},
   "outputs": [],
   "source": []
  }
 ],
 "metadata": {
  "kernelspec": {
   "display_name": "venv_prob",
   "language": "python",
   "name": "python3"
  },
  "language_info": {
   "codemirror_mode": {
    "name": "ipython",
    "version": 3
   },
   "file_extension": ".py",
   "mimetype": "text/x-python",
   "name": "python",
   "nbconvert_exporter": "python",
   "pygments_lexer": "ipython3",
   "version": "3.8.10"
  },
  "orig_nbformat": 4,
  "vscode": {
   "interpreter": {
    "hash": "0857589296dd823defe80b14fd8086446e7a059f5933efc48e9854a2d027fb90"
   }
  }
 },
 "nbformat": 4,
 "nbformat_minor": 2
}
