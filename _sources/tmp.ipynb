{
 "cells": [
  {
   "cell_type": "markdown",
   "id": "874ff935",
   "metadata": {},
   "source": [
    "# Temp\n",
    "\n",
    "Let the true population be defined as a total of $1000$ people. We imagine that this is all the \n",
    "people in the world.\n",
    "\n",
    "Amongst the 1000 people, 100 people is of height 1cm, 100 people is of height 2cm, 100 people is of height 3cm, \n",
    "this holds true for all heights from 1cm to 10cm. We will assume that there are only 10 discrete heights\n",
    "that people can be. \n",
    "\n",
    "Let the experiment be a triplet $\\pspace$, this experiment is the action of ***randomly selecting***\n",
    "a person from the true population.\n",
    "\n",
    "Since our problem is about the height of the person, it is reasonable to define our sample space\n",
    "to $\\Omega = \\{1,2,3,4,5,6,7,8,9,10\\}$, where each element of the sample space is the outcome of the experiment.\n",
    "Note that our sample space is discrete and there is only 10 distinct outcomes.\n",
    "\n",
    "Now suppose I want to answer a few simple questions about the experiment. For example, I want to know\n",
    "\n",
    "1. What is the probability of selecting a person of height 1cm?\n",
    "2. What is the probability of selecting a person that is taller than 5cm (i.e. height 6cm, 7cm, 8cm, 9cm, 10cm)?\n",
    "3. What is the mean height of the true population (expected value)?\n",
    "\n",
    "\n",
    "With that, we will define a random variable $X$. Let $X$ be the height of a randomly selected person from the true population.\n",
    "\n",
    "Then since $X$ is a function $X: \\Omega \\rightarrow \\mathbb{R}$, we first check if there is a need to \n",
    "define a new mapping from $\\Omega$ to $\\mathbb{R}$. It turns out that we can just use the identity mapping\n",
    "since the sample space $\\Omega$ is already a subset of $\\mathbb{R}$, and are just numbers. With that,\n",
    "the ***state space*** $X(\\Omega)$ is $\\{1,2,3,4,5,6,7,8,9,10\\}$.\n",
    "\n",
    "Once the ***state space*** (the range) is defined, we can associate each state\n",
    "$x \\in X(\\S)$ with a probability $P(X = x)$. This is the ***probability mass function*** (PMF) of $X$."
   ]
  },
  {
   "cell_type": "code",
   "execution_count": 1,
   "id": "f5fc67e6",
   "metadata": {},
   "outputs": [
    {
     "name": "stderr",
     "output_type": "stream",
     "text": [
      "Matplotlib is building the font cache; this may take a moment.\n"
     ]
    },
    {
     "data": {
      "image/png": "[encoded data removed]",
      "text/plain": [
       "<Figure size 640x480 with 1 Axes>"
      ]
     },
     "metadata": {
      "filenames": {
       "image/png": "/home/runner/work/gaohn-probability-stats/gaohn-probability-stats/content/_build/jupyter_execute/tmp_1_1.png"
      }
     },
     "output_type": "display_data"
    }
   ],
   "source": [
    "import scipy.stats as stats\n",
    "import numpy as np\n",
    "import matplotlib.pyplot as plt\n",
    "import random\n",
    "\n",
    "random.seed(1992)\n",
    "np.random.seed(1992)\n",
    "\n",
    "true_population = np.arange(1, 11, 1).repeat(100)\n",
    "\n",
    "bins = np.arange(1, true_population.max() + 1.5) - 0.5\n",
    "fig, ax = plt.subplots()\n",
    "_ = ax.hist(\n",
    "    true_population,\n",
    "    bins,\n",
    "    density=True,\n",
    "    color=\"#0504AA\",\n",
    "    alpha=0.5,\n",
    "    edgecolor=\"black\",\n",
    "    linewidth=2,\n",
    ")\n",
    "_ = ax.set_xticks(np.arange(1, 11, 1))\n",
    "_ = ax.set_xlabel(\"Height (cm)\")\n",
    "_ = ax.set_ylabel(\"Probability\")\n",
    "_ = ax.set_title(\"PMF of the true population\")\n",
    "ax.set_xticks(bins + 0.5);"
   ]
  },
  {
   "cell_type": "markdown",
   "id": "1f93402a",
   "metadata": {},
   "source": [
    "The above is the ideal histogram, which is the PMF. More concretely, for each \n",
    "state $x \\in X(\\S)$, the probability of $X$ being $x$ is $P(X = x) = 1/10$.\n",
    "\n",
    "$$\n",
    "\\begin{align}\n",
    "\\P(X=x) = \\begin{cases}\n",
    "\\frac{1}{10} \\text{ if } x=1 \\\\\n",
    "\\frac{1}{10} \\text{ if } x=2 \\\\\n",
    "\\frac{1}{10} \\text{ if } x=3 \\\\\n",
    "\\vdots \\\\\n",
    "\\frac{1}{10} \\text{ if } x=10 \\\\\n",
    "\\end{cases}\n",
    "\\end{align}\n",
    "$$\n",
    "\n",
    "Now recall that the PMF is a probability distribution and is ***deteministic***. There is \n",
    "nothing random about the PMF since we defined it according to the true population. In other words,\n",
    "the true population, our \"universe\", has enumerated all the possible states and their probabilities.\n",
    "\n",
    "With PMF, we can also answer questions 1,2 and 3.\n",
    "\n",
    "1. $\\P(X=1) = \\frac{1}{10} = 0.1$\n",
    "2. $\\P(X > 5) = \\P(X=6) + \\P(X=7) + \\P(X=8) + \\P(X=9) + \\P(X=10) = \\frac{5}{10} = 0.5$\n",
    "3. $\\exp \\lsq X \\rsq = \\sum_{x \\in X(\\S)} x \\cdot \\P(X=x) = \\frac{1}{10} \\cdot 1 + \\frac{1}{10} \\cdot 2 + \\frac{1}{10} \\cdot 3 + \\cdots + \\frac{1}{10} \\cdot 10 = 5.5$\n",
    "\n",
    "We can also say that $X$ follows a **discrete uniform distribution**. This is also true because in probability theory and statistics, \n",
    "the discrete uniform distribution is a symmetric probability distribution wherein a finite number of\n",
    "values are equally likely to be observed; every one of n values has equal probability 1/n.\n",
    "\n",
    "Now connecting this concept back to {cite}`chan_2021` chapter 3.2.4 on PMF vs empirical histogram. The idea seems\n",
    "more apparent now.\n",
    "\n",
    "```{figure} ./assets/generative_vs_inference.PNG\n",
    "---\n",
    "name: fig:generative_vs_inference\n",
    "---\n",
    "Generative vs Inference, credits to {cite}`chan_2021`\n",
    "```\n",
    "\n",
    "Given a PMF and an associated random variable $X$, we can generate a sample of size $n$ from the PMF.\n",
    "This process is called **synthesis** ***if*** we know the true PMF, then we can generate more data\n",
    "from the true population to train a model. This is the generative process.\n",
    "\n",
    "Now, the more common case is that we do not know the true PMF. We only have a sample of size $n$ from\n",
    "the true population. We are given a dataset by our stakeholders, and then we want to estimate the\n",
    "PMF. This process is called **estimate/inference**. In our current example, this is not very \n",
    "obvious because an uniform distribution does not have parameters to estimate (i.e. [non-parametric](https://en.wikipedia.org/wiki/Discrete_uniform_distribution)).\n",
    "\n",
    "But we can still make sense of it with the following example."
   ]
  }
 ],
 "metadata": {
  "jupytext": {
   "cell_metadata_filter": "-all",
   "formats": "md:myst",
   "text_representation": {
    "extension": ".md",
    "format_name": "myst",
    "format_version": 0.13,
    "jupytext_version": "1.11.5"
   }
  },
  "kernelspec": {
   "display_name": "Python 3",
   "language": "python",
   "name": "python3"
  },
  "language_info": {
   "codemirror_mode": {
    "name": "ipython",
    "version": 3
   },
   "file_extension": ".py",
   "mimetype": "text/x-python",
   "name": "python",
   "nbconvert_exporter": "python",
   "pygments_lexer": "ipython3",
   "version": "3.8.14"
  },
  "mystnb": {
   "number_source_lines": true
  },
  "source_map": [
   16,
   52,
   79
  ]
 },
 "nbformat": 4,
 "nbformat_minor": 5
}