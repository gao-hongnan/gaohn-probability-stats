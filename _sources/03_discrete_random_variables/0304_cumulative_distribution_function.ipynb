{
 "cells": [
  {
   "cell_type": "markdown",
   "id": "078f081d",
   "metadata": {},
   "source": [
    "# Cumulative Distribution Function\n",
    "\n",
    "The PMF is one way to describe the distribution of a discrete random variable. As we will see later on,\n",
    "PMF cannot be defined for continuous random variables. The cumulative distribution function (CDF) \n",
    "of a random variable is another method to describe the distribution of random variables.\n",
    "The advantage of the CDF is that it can be defined for any kind of random variable (discrete, \n",
    "continuous, and mixed). {cite}`Cumulati3:online`.\n",
    "\n",
    "The take away lesson here is that CDF is another way to describe the distribution of a random variable.\n",
    "In particular, in continuous random variables, we do not have an equivalent of PMF, so we use CDF instead.\n",
    "\n",
    "## Definition\n",
    "\n",
    "````{prf:definition} Cumulative Distribution Function\n",
    ":label: def_cdf\n",
    "\n",
    "Let $X$ be a discrete random variable with $\\S = \\lset \\xi_1, \\xi_2, \\ldots \\rset$ where $\\xi_i \\in \\R$ for all $i$.\n",
    "\n",
    "Then the **cumulative distribution function** $\\cdf$ is defined as \n",
    "\n",
    "$$\n",
    "\\cdf(\\xi_k) \\overset{\\text{def}}{=} \\P \\lsq X \\leq \\xi_k \\rsq = \\sum_{\\ell=1}^k \\P \\lsq X = \\xi_{\\ell} \\rsq = \\sum_{\\ell=1}^k \\pmf(\\xi_{\\ell})\n",
    "$$ (eq:def_cdf)\n",
    "\n",
    "Since $\\P \\lsq X = \\xi_{\\ell} \\rsq$ is the probability mass function, we can also replace \n",
    "the symbol with the $\\pmf$ symbol.\n",
    "\n",
    "If $\\S = \\lset \\ldots, -1, 0, 1, 2, \\ldots \\rset$, then we can write the CDF as\n",
    "\n",
    "$$\n",
    "\\cdf(k) \\overset{\\text{def}}{=} \\P \\lsq X \\leq k \\rsq = \\sum_{\\ell=-\\infty}^k \\P \\lsq X = \\ell \\rsq = \\sum_{\\ell=-\\infty}^k \\pmf(\\ell)\n",
    "$$\n",
    "````\n",
    "\n",
    "````{prf:example} CDF \n",
    ":label: example_cdf\n",
    "\n",
    "Consider a random variable $X$ with the following probability mass function:\n",
    "\n",
    "$$\n",
    "\\pmf(x) = \\begin{cases}\n",
    "    \\frac{1}{4} & \\text{if } x = 0 \\\\\n",
    "    \\frac{1}{2} & \\text{if } x = 1 \\\\\n",
    "    \\frac{1}{4} & \\text{if } x = 4 \\\\\n",
    "\\end{cases}\n",
    "$$\n",
    "\n",
    "Then by definition {prf:ref}`def_cdf`, we have the CDF of $X$ to be computed as:\n",
    "\n",
    "$$\n",
    "\\begin{align}\n",
    "    \\cdf(0) & = \\P \\lsq X \\leq 0 \\rsq = \\P \\lsq X = 0 \\rsq = \\frac{1}{4}                                                                           \\\\\n",
    "    \\cdf(1) & = \\P \\lsq X \\leq 1 \\rsq = \\P \\lsq X = 0 \\rsq + \\P \\lsq X = 1 \\rsq = \\frac{1}{4} + \\frac{1}{2} = \\frac{3}{4}                          \\\\\n",
    "    \\cdf(4) & = \\P \\lsq X \\leq 4 \\rsq = \\P \\lsq X = 0 \\rsq + \\P \\lsq X = 1 \\rsq + \\P \\lsq X = 4 \\rsq = \\frac{1}{4} + \\frac{1}{2} + \\frac{1}{4} = 1\n",
    "\\end{align}\n",
    "$$\n",
    "\n",
    "Thus, our CDF is given by:\n",
    "\n",
    "$$\n",
    "\\cdf(x) = \\begin{cases}\n",
    "    \\frac{1}{4} & \\text{if } x \\leq 0 \\\\\n",
    "    \\frac{3}{4} & \\text{if } 0 < x \\leq 1 \\\\\n",
    "    1          & \\text{if } x > 1\n",
    "\\end{cases}\n",
    "$$\n",
    "````"
   ]
  },
  {
   "cell_type": "code",
   "execution_count": 1,
   "id": "5a9cf06e",
   "metadata": {
    "tags": [
     "hide-input"
    ]
   },
   "outputs": [
    {
     "data": {
      "image/png": "[encoded data removed]",
      "text/plain": [
       "<Figure size 1000x500 with 2 Axes>"
      ]
     },
     "metadata": {
      "filenames": {
       "image/png": "/home/runner/work/gaohn-probability-stats/gaohn-probability-stats/content/_build/jupyter_execute/03_discrete_random_variables/0304_cumulative_distribution_function_1_0.png"
      }
     },
     "output_type": "display_data"
    }
   ],
   "source": [
    "import warnings\n",
    "\n",
    "warnings.filterwarnings(\"ignore\")\n",
    "import numpy as np\n",
    "import matplotlib.pyplot as plt\n",
    "\n",
    "p = np.array([0.25, 0.5, 0.25])\n",
    "x = np.array([0, 1, 4])\n",
    "F = np.cumsum(p)\n",
    "# plot 2 diagrams in one figure\n",
    "# y axis start from 0 to 1\n",
    "fig, ax = plt.subplots(1, 2, sharex=False, sharey=False, figsize=(10, 5))\n",
    "ax[0].set_ylim(0, 1)\n",
    "ax[0].set_title(\"PDF\")\n",
    "ax[0].set_ylabel(\"Probability\")\n",
    "ax[0].set_xlabel(\"x\")\n",
    "ax[0].stem(x, p, use_line_collection=True)\n",
    "ax[0].grid(False)\n",
    "ax[1].set_ylim(0, 1)\n",
    "ax[1].set_title(\"CDF\")\n",
    "ax[1].set_ylabel(\"Probability\")\n",
    "ax[1].set_xlabel(\"x\")\n",
    "ax[1].step(x, F)\n",
    "ax[1].grid(False)\n",
    "plt.show()"
   ]
  },
  {
   "cell_type": "markdown",
   "id": "645a88e6",
   "metadata": {},
   "source": [
    "## Properties\n",
    "\n",
    "````{prf:theorem} Properties of CDF\n",
    ":label: thm_cdf\n",
    "\n",
    "Let $X$ be a discrete random variable with $\\S = \\lset \\xi_1, \\xi_2, \\ldots \\rset$ \n",
    "where $\\xi_i \\in \\R$ for all $i$. Then, the CDF $\\cdf$ of $X$ satisfies the following properties:\n",
    "\n",
    "1. The CDF is a staircase function and is non-decreasing. That is, for any $\\xi \\in \\S$, we have\n",
    "\n",
    "    $$\n",
    "    \\cdf(\\xi) \\leq \\cdf(\\xi+1)\n",
    "    $$\n",
    "\n",
    "2. The CDF is a probability function. That is, for any $\\xi \\in \\S$, we have\n",
    "\n",
    "    $$\n",
    "    0 \\leq \\cdf(\\xi) \\leq 1\n",
    "    $$\n",
    "\n",
    "    In particular, we have the minimum of the CDF is 0 and the maximum is 1 for \n",
    "    $\\xi = -\\infty$ and $\\xi = \\infty$ respectively.\n",
    "\n",
    "3. The CDF is right continuous. That is, for any $\\xi \\in \\S$, we have\n",
    "\n",
    "    $$\n",
    "    \\cdf(\\xi) = \\lim_{\\xi' \\to \\xi} \\cdf(\\xi')\n",
    "    $$\n",
    "````\n",
    "\n",
    "## PMF and CDF Conversion\n",
    "\n",
    "````{prf:theorem} PMF and CDF Conversion\n",
    ":label: thm_pmf_cdf\n",
    "\n",
    "Let $X$ be a discrete random variable with $\\S = \\lset \\xi_1, \\xi_2, \\ldots \\rset$ \n",
    "where $\\xi_i \\in \\R$ for all $i$. Then, the PMF of $X$ can be obtained from \n",
    "the CDF by\n",
    "\n",
    "$$\n",
    "\\pmf(\\xi_k) = \\cdf(\\xi_k) - \\cdf(\\xi_{k-1})\n",
    "$$ (eq:pmf_cdf_1)\n",
    "\n",
    "where $X$ has a countable set of states $\\S$. \n",
    "\n",
    "Furthermore, if the sample space of the random variable $X$ contains integers from $-\\infty$ to\n",
    "$\\infty$, then the CDF of $X$ can be obtained from the PMF by\n",
    "\n",
    "$$\n",
    "\\cdf(k) = \\cdf(k) - \\cdf(k-1)\n",
    "$$ (eq:pmf_cdf_2)\n",
    "````"
   ]
  }
 ],
 "metadata": {
  "jupytext": {
   "cell_metadata_filter": "-all",
   "formats": "md:myst",
   "text_representation": {
    "extension": ".md",
    "format_name": "myst",
    "format_version": 0.13,
    "jupytext_version": "1.11.5"
   }
  },
  "kernelspec": {
   "display_name": "Python 3",
   "language": "python",
   "name": "python3"
  },
  "language_info": {
   "codemirror_mode": {
    "name": "ipython",
    "version": 3
   },
   "file_extension": ".py",
   "mimetype": "text/x-python",
   "name": "python",
   "nbconvert_exporter": "python",
   "pygments_lexer": "ipython3",
   "version": "3.8.14"
  },
  "mystnb": {
   "number_source_lines": true
  },
  "source_map": [
   16,
   86,
   113
  ]
 },
 "nbformat": 4,
 "nbformat_minor": 5
}