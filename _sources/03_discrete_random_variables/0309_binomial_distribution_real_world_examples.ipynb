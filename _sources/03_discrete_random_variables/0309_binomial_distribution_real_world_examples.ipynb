{
 "cells": [
  {
   "cell_type": "markdown",
   "metadata": {},
   "source": [
    "# Real World Examples"
   ]
  },
  {
   "cell_type": "markdown",
   "metadata": {},
   "source": [
    "## Utilities"
   ]
  },
  {
   "cell_type": "code",
   "execution_count": 1,
   "metadata": {},
   "outputs": [],
   "source": [
    "import sys\n",
    "from pathlib import Path\n",
    "parent_dir = str(Path().resolve().parent)\n",
    "sys.path.append(parent_dir)\n",
    "\n",
    "import random\n",
    "import warnings\n",
    "\n",
    "import matplotlib.pyplot as plt\n",
    "import numpy as np\n",
    "import scipy.stats as stats\n",
    "\n",
    "warnings.filterwarnings(\"ignore\", category=DeprecationWarning)\n",
    "%matplotlib inline\n",
    "\n",
    "from utils import seed_all, true_pmf, empirical_pmf"
   ]
  },
  {
   "cell_type": "code",
   "execution_count": 2,
   "metadata": {},
   "outputs": [
    {
     "name": "stdout",
     "output_type": "stream",
     "text": [
      "Using Seed Number 42\n"
     ]
    }
   ],
   "source": [
    "seed_all(42)"
   ]
  },
  {
   "cell_type": "markdown",
   "metadata": {},
   "source": [
    "## Call Center Simulation\n",
    "\n",
    "This example is taken from {cite}`yiu_2019`, please take a look at this author's articles, really good!"
   ]
  },
  {
   "cell_type": "markdown",
   "metadata": {},
   "source": [
    "Let $X$ be the ***success conversion call status*** of a ***randomly chosen call made by 1 single employee***.\n",
    "\n",
    "In other words, let $X$ be the ***outcome of a call*** of a ***randomly chosen call made by 1 single employee*** where the outcome is either success or failure in conversion.\n",
    "\n",
    "Then we can model the ***probability of success*** of a call made by a ***randomly chosen employee*** as \n",
    "a Bernoulli random variable $X$ with parameter $p$ where $p$ is the ***probability of success*** of a call made by a ***randomly chosen employee***.\n",
    "We define $p=0.04$ here.\n",
    "\n",
    "- The sample space $\\S = \\{0,1\\}$ where $0$ represents ***failure*** and $1$ represents ***success***.\n",
    "- The event space $\\E = \\{\\emptyset, \\{0\\}, \\{1\\}, \\{0,1\\}\\}$.\n",
    "- The probability measure $\\P$ is defined as follows:\n",
    "    - $\\P(\\emptyset) = 0$\n",
    "    - $\\P(\\{0\\}) = 1-p = 0.96$\n",
    "    - $\\P(\\{1\\}) = p = 0.04$\n",
    "    - $\\P(\\{0,1\\}) = 1$\n",
    "- Thus our random variable $X$ is just $X: \\S \\to \\R$ where $X(\\{0\\}) = 0$ and $X(\\{1\\}) = 1$, \n",
    "or $X(0) = 0$ and $X(1) = 1$.\n",
    "- The PMF is fully determined by\n",
    "  \n",
    "  $$\n",
    "  \\begin{align}\n",
    "    f_X(x) = \\P(X=x) = \\begin{cases}\n",
    "        0.96  & \\text{if } x = 0 \\\\\n",
    "        0.04  & \\text{if } x = 1\n",
    "    \\end{cases}\n",
    "  \\end{align}\n",
    "  $$\n",
    "- $X$ is a Bernoulli Trial because we can think of it as 1 single person tossing 1 coin, then the corresponding\n",
    "random variable is **Let $X$ be the outcome of the coin toss made by a random toss by 1 single person.** Therefore,\n",
    "it can be made to fit as a Bernoulli Trial if we assume the assumptions."
   ]
  },
  {
   "cell_type": "markdown",
   "metadata": {},
   "source": [
    "Now the above details a ***single call*** made by a ***randomly chosen employee***, which follows a Bernoulli distribution.\n",
    "You can associate this with a ***single coin toss*** made by a ***randomly chosen person***, which also follows a Bernoulli distribution.\n",
    "\n",
    "Now, a single employee can make multiple calls (a sequence of calls can be $X_1, X_2, \\ldots, X_{50}$),\n",
    "if he/she does $n$ such calls which are **identically and independently distributed** (i.i.d.),\n",
    "then we can define $Y$ to be the ***number of successful conversion calls***, which now follows a ***Binomial distribution*** because\n",
    "each call made by the employee is $\\iid$ and follows a Bernoulli distribution with constant parameter $p$.\n",
    "\n",
    "We can define our $Y$ as follows since $n=50$ and $p=0.04$:\n",
    "\n",
    "$$\n",
    "Y \\sim \\binomial(50, 0.04)\n",
    "$$\n",
    "\n",
    "So $Y = X_0 + X_1 + \\ldots + X_{50}$ in this scenario, note $Y$ is still made by 1 single employee.\n",
    "It is just the total number of successful conversion calls made by 1 single employee.\n",
    "\n",
    "Each call by 1 single employee is $\\iid$, this means it is similar idea to 1 single person tossing 1 coin 50 times."
   ]
  },
  {
   "cell_type": "markdown",
   "metadata": {},
   "source": [
    "Below is a realization of the PMF of $Y$:\n",
    "\n",
    "$$\n",
    "\\begin{align}\n",
    "\\P(Y=y) = \\begin{cases}\n",
    "0.12988579352203838   &\\quad \\text{ if } y=0 \\\\\n",
    "0.2705954031709139   &\\quad \\text{ if } y=1 \\\\\n",
    "0.27623280740364115 &\\quad \\text{ if } y=2 \\\\\n",
    "\\vdots &\\quad \\vdots \\\\\n",
    "1.2676506002282307e-70   &\\quad \\text{ if } y=10 \\\\\n",
    "\\end{cases}\n",
    "\\end{align}\n",
    "$$"
   ]
  },
  {
   "cell_type": "code",
   "execution_count": 34,
   "metadata": {},
   "outputs": [
    {
     "data": {
      "image/png": "[encoded data removed]",
      "text/plain": [
       "<Figure size 2000x500 with 1 Axes>"
      ]
     },
     "metadata": {},
     "output_type": "display_data"
    }
   ],
   "source": [
    "p = 0.04\n",
    "n = 50\n",
    "\n",
    "# our random variable Y\n",
    "Y = stats.binom(n, p)\n",
    "\n",
    "y = np.arange(n + 1)  # [0, 1, ..., 50]\n",
    "\n",
    "f = Y.pmf(y)  # pmf P(Y=0) P(Y=1)\n",
    "\n",
    "fig = plt.figure(figsize=(20, 5))\n",
    "plt.plot(y, f, \"bo\", ms=10)\n",
    "plt.vlines(y, 0, f, colors=\"b\", lw=5, alpha=0.5)\n",
    "plt.xticks(y)\n",
    "plt.show();"
   ]
  },
  {
   "cell_type": "code",
   "execution_count": 36,
   "metadata": {},
   "outputs": [
    {
     "name": "stdout",
     "output_type": "stream",
     "text": [
      "PMF for Y=0 is 0.12988579352203838\n",
      "PMF for Y=1 is 0.2705954031709139\n",
      "PMF for Y=2 is 0.27623280740364115\n",
      "PMF for Y=3 is 0.18415520493576068\n",
      "PMF for Y=4 is 0.09015931908313288\n",
      "PMF for Y=5 is 0.03456107231520094\n",
      "PMF for Y=6 is 0.010800335098500296\n",
      "PMF for Y=7 is 0.002828659192464365\n",
      "PMF for Y=8 is 0.0006335017983123338\n",
      "PMF for Y=9 is 0.00012318090522739773\n",
      "PMF for Y=10 is 2.1043404643013807e-05\n",
      "PMF for Y=11 is 3.1883946428808775e-06\n",
      "PMF for Y=12 is 4.317617745567845e-07\n",
      "PMF for Y=13 is 5.2586369978069964e-08\n",
      "PMF for Y=14 is 5.790760979727912e-09\n",
      "PMF for Y=15 is 5.790760979727948e-10\n",
      "PMF for Y=16 is 5.278037351314524e-11\n",
      "PMF for Y=17 is 4.398364459428767e-12\n",
      "PMF for Y=18 is 3.3598617398414237e-13\n",
      "PMF for Y=19 is 2.3577977121694196e-14\n",
      "PMF for Y=20 is 1.5227443557760843e-15\n",
      "PMF for Y=21 is 9.063954498667164e-17\n",
      "PMF for Y=22 is 4.978308342070981e-18\n",
      "PMF for Y=23 is 2.525228869166441e-19\n",
      "PMF for Y=24 is 1.1837010324217706e-20\n",
      "PMF for Y=25 is 5.129371140494332e-22\n",
      "PMF for Y=26 is 2.055036514621123e-23\n",
      "PMF for Y=27 is 7.611246350448613e-25\n",
      "PMF for Y=28 is 2.60503967351663e-26\n",
      "PMF for Y=29 is 8.234320807092859e-28\n",
      "PMF for Y=30 is 2.4016769020687333e-29\n",
      "PMF for Y=31 is 6.456120704485886e-31\n",
      "PMF for Y=32 is 1.5972173617868683e-32\n",
      "PMF for Y=33 is 3.630039458606517e-34\n",
      "PMF for Y=34 is 7.562582205430263e-36\n",
      "PMF for Y=35 is 1.4404918486533809e-37\n",
      "PMF for Y=36 is 2.500853903912116e-39\n",
      "PMF for Y=37 is 3.9427876863479427e-41\n",
      "PMF for Y=38 is 5.620201745890709e-43\n",
      "PMF for Y=39 is 7.205386853706047e-45\n",
      "PMF for Y=40 is 8.256172436538177e-47\n",
      "PMF for Y=41 is 8.390419142823334e-49\n",
      "PMF for Y=42 is 7.491445663235104e-51\n",
      "PMF for Y=43 is 5.807322219562096e-53\n",
      "PMF for Y=44 is 3.8495507137248904e-55\n",
      "PMF for Y=45 is 2.138639285402722e-57\n",
      "PMF for Y=46 is 9.685866328816647e-60\n",
      "PMF for Y=47 is 3.434704371920785e-62\n",
      "PMF for Y=48 is 8.944542635210379e-65\n",
      "PMF for Y=49 is 1.5211807202738746e-67\n",
      "PMF for Y=50 is 1.2676506002282307e-70\n"
     ]
    }
   ],
   "source": [
    "for y in range(51):\n",
    "    print(f\"PMF for Y={y} is {Y.pmf(y)}\")"
   ]
  },
  {
   "cell_type": "markdown",
   "metadata": {},
   "source": [
    "With this realized state of the theoretical (true) PMF, we can employ **generative/synthesis** method to generate\n",
    "samples from this distribution because **we assumed that $Y$ follows a Binomial distribution prior**.\n",
    "\n",
    "So if we have `Y.rvs(size = 10)`, it simply means generate a sequence 10 random variables $Y_1, Y_2, \\ldots, Y_{10}$ of $Y$. \n",
    "\n",
    "In this context, we can be unambiguous and say that each random variable $Y_i$ corresponds to a randomly selected employee from the true population.\n",
    "I think to be more precise, $Y_i$ should be the ***number of successful conversion calls*** made by a single randomly selected employee."
   ]
  },
  {
   "cell_type": "code",
   "execution_count": 33,
   "metadata": {},
   "outputs": [
    {
     "data": {
      "text/plain": [
       "array([1, 1, 2, 0, 3, 3, 1, 2, 3, 3], dtype=int64)"
      ]
     },
     "execution_count": 33,
     "metadata": {},
     "output_type": "execute_result"
    }
   ],
   "source": [
    "# generate states from binomial distribution\n",
    "Y.rvs(size = 10)"
   ]
  },
  {
   "cell_type": "markdown",
   "metadata": {},
   "source": [
    "Here is the confusing part, why do we want to churn out 10 such random variables? We do know the true distribution, we know the expected value as well.\n",
    "\n",
    "$$\n",
    "\\exp(Y) = np = 50 \\times 0.04 = 2\n",
    "$$\n",
    "\n",
    "and therefore by this the **total revenue** can be\n",
    "\n",
    "$$\n",
    "2 \\times 100 = 200\n",
    "$$\n",
    "\n",
    "per employee. And if you have 100 such employees, then it will be \n",
    "\n",
    "$$\n",
    "200 \\times 100 = 20000\n",
    "$$\n",
    "\n",
    "The expense you spent paying each employee is\n",
    "\n",
    "$$\n",
    "100 \\times 200 = 20000\n",
    "$$\n",
    "\n",
    "so in the long run you do not earn any profits.\n",
    "\n",
    "Here you can also define the total revenue as a random variable $Z = 100Y$."
   ]
  },
  {
   "cell_type": "markdown",
   "metadata": {},
   "source": [
    "By theory, we know that increasing either $n$ or $p$ will increase the expectation\n",
    "$\\exp \\lsq Y \\rsq$ since $n$ and $p$ are both positive. Consequently, increasing both at the same \n",
    "time will also guarantee an increase in expectation.\n",
    "\n",
    "So the solutions to increase revenue/profits are:\n",
    "\n",
    "- Increase $n$, the number of calls performed by 1 single employee;\n",
    "- Increase $p$, the success rate of a call conversion by 1 single employee through techniques like not hard pressing the customers to buy something;"
   ]
  },
  {
   "cell_type": "code",
   "execution_count": null,
   "metadata": {},
   "outputs": [],
   "source": []
  },
  {
   "cell_type": "code",
   "execution_count": null,
   "metadata": {},
   "outputs": [],
   "source": []
  },
  {
   "cell_type": "code",
   "execution_count": null,
   "metadata": {},
   "outputs": [],
   "source": []
  },
  {
   "cell_type": "code",
   "execution_count": null,
   "metadata": {},
   "outputs": [],
   "source": []
  },
  {
   "cell_type": "markdown",
   "metadata": {},
   "source": [
    "**Here is his 1000 days simulation**\n",
    "\n",
    "To be more precise, he defined a new random variable $Z = 100Y$ means the revenue earned for a random day (any given day).\n",
    "\n",
    "So 1000 times simulation.\n",
    "\n",
    "But I can also find the expectation lols...\n",
    "\n",
    "$$\n",
    "\\exp \\lsq Z \\rsq = \\exp \\lsq 100Y \\rsq = 100 \\exp \\lsq Y \\rsq = 100 \\times 2 = 200\n",
    "$$\n",
    "\n",
    "Note very carefully the $100$ refers to the revenue earned per successful call conversion, not referring to $100$ employees in the previous section (consider changing the numbers so no confusion...)"
   ]
  },
  {
   "cell_type": "code",
   "execution_count": 41,
   "metadata": {},
   "outputs": [
    {
     "ename": "TypeError",
     "evalue": "unsupported operand type(s) for +: 'rv_discrete_frozen' and 'rv_discrete_frozen'",
     "output_type": "error",
     "traceback": [
      "\u001b[1;31m---------------------------------------------------------------------------\u001b[0m",
      "\u001b[1;31mTypeError\u001b[0m                                 Traceback (most recent call last)",
      "Cell \u001b[1;32mIn [41], line 1\u001b[0m\n\u001b[1;32m----> 1\u001b[0m Z \u001b[38;5;241m=\u001b[39m Y \u001b[38;5;241m+\u001b[39m Y\n",
      "\u001b[1;31mTypeError\u001b[0m: unsupported operand type(s) for +: 'rv_discrete_frozen' and 'rv_discrete_frozen'"
     ]
    }
   ],
   "source": [
    "#Z = Y + Y"
   ]
  },
  {
   "cell_type": "code",
   "execution_count": 39,
   "metadata": {},
   "outputs": [
    {
     "data": {
      "text/plain": [
       "<scipy.stats._distn_infrastructure.rv_discrete_frozen at 0x2194c9367c0>"
      ]
     },
     "execution_count": 39,
     "metadata": {},
     "output_type": "execute_result"
    }
   ],
   "source": [
    "p = 0.04\n",
    "n = 50\n",
    "\n",
    "# our random variable Y\n",
    "Y = stats.binom(n, p)"
   ]
  },
  {
   "cell_type": "code",
   "execution_count": 15,
   "metadata": {},
   "outputs": [
    {
     "name": "stdout",
     "output_type": "stream",
     "text": [
      "Help on rv_discrete_frozen in module scipy.stats._distn_infrastructure object:\n",
      "\n",
      "class rv_discrete_frozen(rv_frozen)\n",
      " |  rv_discrete_frozen(dist, *args, **kwds)\n",
      " |  \n",
      " |  Method resolution order:\n",
      " |      rv_discrete_frozen\n",
      " |      rv_frozen\n",
      " |      builtins.object\n",
      " |  \n",
      " |  Methods defined here:\n",
      " |  \n",
      " |  logpmf(self, k)\n",
      " |  \n",
      " |  pmf(self, k)\n",
      " |  \n",
      " |  ----------------------------------------------------------------------\n",
      " |  Methods inherited from rv_frozen:\n",
      " |  \n",
      " |  __init__(self, dist, *args, **kwds)\n",
      " |      Initialize self.  See help(type(self)) for accurate signature.\n",
      " |  \n",
      " |  cdf(self, x)\n",
      " |  \n",
      " |  entropy(self)\n",
      " |  \n",
      " |  expect(self, func=None, lb=None, ub=None, conditional=False, **kwds)\n",
      " |  \n",
      " |  interval(self, confidence=None, **kwds)\n",
      " |  \n",
      " |  isf(self, q)\n",
      " |  \n",
      " |  logcdf(self, x)\n",
      " |  \n",
      " |  logsf(self, x)\n",
      " |  \n",
      " |  mean(self)\n",
      " |  \n",
      " |  median(self)\n",
      " |  \n",
      " |  moment(self, order=None, **kwds)\n",
      " |  \n",
      " |  ppf(self, q)\n",
      " |  \n",
      " |  rvs(self, size=None, random_state=None)\n",
      " |  \n",
      " |  sf(self, x)\n",
      " |  \n",
      " |  stats(self, moments='mv')\n",
      " |  \n",
      " |  std(self)\n",
      " |  \n",
      " |  support(self)\n",
      " |  \n",
      " |  var(self)\n",
      " |  \n",
      " |  ----------------------------------------------------------------------\n",
      " |  Data descriptors inherited from rv_frozen:\n",
      " |  \n",
      " |  __dict__\n",
      " |      dictionary for instance variables (if defined)\n",
      " |  \n",
      " |  __weakref__\n",
      " |      list of weak references to the object (if defined)\n",
      " |  \n",
      " |  random_state\n",
      "\n"
     ]
    }
   ],
   "source": [
    "help(Y)"
   ]
  },
  {
   "cell_type": "code",
   "execution_count": 14,
   "metadata": {},
   "outputs": [
    {
     "data": {
      "text/plain": [
       "4.317617745567845e-07"
      ]
     },
     "execution_count": 14,
     "metadata": {},
     "output_type": "execute_result"
    }
   ],
   "source": [
    "Y.pmf(12)"
   ]
  },
  {
   "cell_type": "code",
   "execution_count": 19,
   "metadata": {},
   "outputs": [
    {
     "data": {
      "text/plain": [
       "array([4, 3, 2, 1, 1, 0, 4, 2, 3, 0, 5, 3, 1, 1, 1, 1, 2, 2, 1, 2, 1, 1,\n",
       "       1, 2, 3, 1, 2, 2, 0, 2, 1, 0, 4, 5, 3, 1, 0, 3, 2, 0, 2, 0, 4, 1,\n",
       "       2, 1, 2, 2, 1, 5, 3, 4, 4, 2, 4, 0, 1, 0, 1, 1, 1, 3, 1, 1, 2, 1,\n",
       "       3, 0, 6, 3, 1, 0, 3, 3, 3, 3, 0, 1, 0, 4, 2, 1, 0, 1, 1, 3, 2, 4,\n",
       "       2, 0, 3, 3, 2, 3, 2, 2, 2, 0, 0, 0], dtype=int64)"
      ]
     },
     "execution_count": 19,
     "metadata": {},
     "output_type": "execute_result"
    }
   ],
   "source": [
    "Y.rvs(size=100)"
   ]
  },
  {
   "cell_type": "code",
   "execution_count": 16,
   "metadata": {},
   "outputs": [
    {
     "data": {
      "text/plain": [
       "2.0"
      ]
     },
     "execution_count": 16,
     "metadata": {},
     "output_type": "execute_result"
    }
   ],
   "source": [
    "Y.mean() # np = 50 x 0.04"
   ]
  },
  {
   "cell_type": "markdown",
   "metadata": {},
   "source": [
    "Theoretically, expectation of $Y$ is $2$ success. This means, "
   ]
  },
  {
   "cell_type": "code",
   "execution_count": 13,
   "metadata": {},
   "outputs": [
    {
     "data": {
      "text/plain": [
       "<StemContainer object of 3 artists>"
      ]
     },
     "execution_count": 13,
     "metadata": {},
     "output_type": "execute_result"
    },
    {
     "data": {
      "image/png": "[encoded data removed]",
      "text/plain": [
       "<Figure size 640x480 with 1 Axes>"
      ]
     },
     "metadata": {},
     "output_type": "display_data"
    }
   ],
   "source": [
    "plt.stem(y, Y.pmf(y), use_line_collection=True)"
   ]
  },
  {
   "cell_type": "code",
   "execution_count": 21,
   "metadata": {},
   "outputs": [
    {
     "name": "stdout",
     "output_type": "stream",
     "text": [
      "<scipy.stats._distn_infrastructure.rv_discrete_frozen object at 0x000002194C40DB50>\n"
     ]
    }
   ],
   "source": [
    "n, p = 50, 0.04 # number of iid trials, probability of each trial\n",
    "Y = stats.binom(n, p)\n",
    "print(Y)"
   ]
  },
  {
   "cell_type": "code",
   "execution_count": 25,
   "metadata": {},
   "outputs": [
    {
     "data": {
      "text/plain": [
       "array([1, 0, 2, 2, 4, 4, 2, 3, 2, 3], dtype=int64)"
      ]
     },
     "execution_count": 25,
     "metadata": {},
     "output_type": "execute_result"
    }
   ],
   "source": [
    "# generate states from binomial distribution\n",
    "Y.rvs(size = 10)"
   ]
  },
  {
   "cell_type": "code",
   "execution_count": 22,
   "metadata": {},
   "outputs": [
    {
     "data": {
      "text/plain": [
       "(array(2.), array(1.92))"
      ]
     },
     "execution_count": 22,
     "metadata": {},
     "output_type": "execute_result"
    }
   ],
   "source": [
    "Y.stats(moments='mv')"
   ]
  },
  {
   "cell_type": "code",
   "execution_count": null,
   "metadata": {},
   "outputs": [],
   "source": []
  },
  {
   "cell_type": "code",
   "execution_count": null,
   "metadata": {},
   "outputs": [],
   "source": []
  },
  {
   "cell_type": "markdown",
   "metadata": {},
   "source": [
    "## Further Readings\n",
    "\n",
    "- https://www.youtube.com/watch?v=qIzC1-9PwQo&list=PLvxOuBpazmsNIHP5cz37oOPZx0JKyNszN&index=4\n",
    "- https://towardsdatascience.com/fun-with-the-binomial-distribution-96a5ecabf65b"
   ]
  },
  {
   "cell_type": "markdown",
   "metadata": {},
   "source": [
    "## Citations\n",
    "\n",
    "```{bibliography}\n",
    ":style: unsrt\n",
    ":filter: docname in docnames\n",
    "```"
   ]
  }
 ],
 "metadata": {
  "kernelspec": {
   "display_name": "Python 3 (ipykernel)",
   "language": "python",
   "name": "python3"
  },
  "language_info": {
   "codemirror_mode": {
    "name": "ipython",
    "version": 3
   },
   "file_extension": ".py",
   "mimetype": "text/x-python",
   "name": "python",
   "nbconvert_exporter": "python",
   "pygments_lexer": "ipython3",
   "version": "3.8.10"
  },
  "latex_envs": {
   "LaTeX_envs_menu_present": true,
   "autoclose": true,
   "autocomplete": true,
   "bibliofile": "biblio.bib",
   "cite_by": "apalike",
   "current_citInitial": 1,
   "eqLabelWithNumbers": true,
   "eqNumInitial": 1,
   "hotkeys": {
    "equation": "Ctrl-E",
    "itemize": "Ctrl-I"
   },
   "labels_anchors": false,
   "latex_user_defs": false,
   "report_style_numbering": false,
   "user_envs_cfg": false
  }
 },
 "nbformat": 4,
 "nbformat_minor": 4
}
