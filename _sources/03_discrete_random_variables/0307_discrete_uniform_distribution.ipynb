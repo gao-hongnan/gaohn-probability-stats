{
 "cells": [
  {
   "cell_type": "markdown",
   "metadata": {},
   "source": [
    "# Discrete Uniform Distribution"
   ]
  },
  {
   "cell_type": "markdown",
   "metadata": {},
   "source": [
    "## Definition\n",
    "\n",
    "```{prf:definition} Discrete Uniform Distribution\n",
    ":label: def:discrete_uniform\n",
    "\n",
    "Let $X$ be a **discrete random variable** that follows a Uniform distribution over the set $\\S$.\n",
    "This means that $X=x$ has an equally likely chance of being drawn.\n",
    "\n",
    "Then the probability mass function (PMF) of $X$ is given by \n",
    "\n",
    "$$\n",
    "\\P(X=x) = \\dfrac{1}{\\lvert \\S \\rvert}\n",
    "$$\n",
    "\n",
    "Note:\n",
    "\n",
    "1. It is non-parametric because there is no parameters associated.\n",
    "```"
   ]
  },
  {
   "cell_type": "markdown",
   "metadata": {},
   "source": [
    "## Utilities"
   ]
  },
  {
   "cell_type": "code",
   "execution_count": 1,
   "metadata": {},
   "outputs": [],
   "source": [
    "import scipy.stats as stats\n",
    "import numpy as np\n",
    "import matplotlib.pyplot as plt\n",
    "import random\n",
    "\n",
    "# mostly deprecation warnings.\n",
    "import warnings\n",
    "warnings.filterwarnings('ignore', category=DeprecationWarning)"
   ]
  },
  {
   "cell_type": "markdown",
   "metadata": {},
   "source": [
    "We will also use NumPy to create various input ranges and Matplotlib to visualize various functions:"
   ]
  },
  {
   "cell_type": "code",
   "execution_count": 74,
   "metadata": {},
   "outputs": [],
   "source": [
    "%matplotlib inline"
   ]
  },
  {
   "cell_type": "code",
   "execution_count": 75,
   "metadata": {},
   "outputs": [],
   "source": [
    "random.seed(42)\n",
    "np.random.seed(42)"
   ]
  },
  {
   "cell_type": "code",
   "execution_count": 2,
   "metadata": {},
   "outputs": [],
   "source": [
    "# create a true population of 1000 people with equal heights across 1-10cm\n",
    "true_population = np.arange(1, 11, 1).repeat(100)"
   ]
  },
  {
   "cell_type": "markdown",
   "metadata": {},
   "source": [
    "Both are the same but it is to differentiate between true and empirical."
   ]
  },
  {
   "cell_type": "code",
   "execution_count": 3,
   "metadata": {},
   "outputs": [],
   "source": [
    "def true_pmf(x: float, population: np.ndarray) -> float:\n",
    "    \"\"\"PMF of the true population: map X(\\S) to a probability.\n",
    "    \n",
    "    Note:\n",
    "        The PMF is completely determined if we know the true distribution.\n",
    "    \"\"\"\n",
    "    return np.sum(population == x) / len(population)\n",
    "\n",
    "def empirical_pmf(x: float, sample: np.ndarray):\n",
    "    \"\"\"Empirical distribution of the sample.\"\"\"\n",
    "    return np.sum(sample == x) / len(sample)\n",
    "\n",
    "# def empirical_distribution(sample: np.ndarray):\n",
    "#     \"\"\"Empirical distribution of the sample.\"\"\"\n",
    "#     return np.cumsum(np.bincount(sample)) / len(sample)"
   ]
  },
  {
   "cell_type": "code",
   "execution_count": 5,
   "metadata": {},
   "outputs": [
    {
     "name": "stdout",
     "output_type": "stream",
     "text": [
      "P(X=1) = 0.1\n"
     ]
    }
   ],
   "source": [
    "# 1. What is the probability of selecting a person of height 1cm?\n",
    "print(f\"P(X=1) = {true_pmf(1, true_population)}\")"
   ]
  },
  {
   "cell_type": "markdown",
   "metadata": {},
   "source": [
    "## The Setup"
   ]
  },
  {
   "cell_type": "markdown",
   "metadata": {},
   "source": [
    "Let the true population be defined as a total of $1000$ people. We imagine that this is all the \n",
    "people in the world.\n",
    "\n",
    "Amongst the 1000 people, 100 people is of height 1cm, 100 people is of height 2cm, 100 people is of height 3cm, \n",
    "this holds true for all heights from 1cm to 10cm. We will assume that there are only 10 distinct heights\n",
    "that people can be. Thus, this is a **discrete** distribution.\n",
    "\n",
    "Let the experiment be a triplet $\\pspace$, this experiment is the action of ***randomly selecting***\n",
    "a person from the true population.\n",
    "\n",
    "Since our problem is about the height of the person, it is reasonable to define our **sample space**\n",
    "to be $\\Omega = \\{1,2,3,4,5,6,7,8,9,10\\}$, where each element of the sample space is the **outcome** of the **experiment**.\n",
    "Note that our sample space is discrete and there are only 10 distinct outcomes.\n",
    "\n",
    "Now suppose I want to answer a few simple questions about the experiment. For example, I want to know\n",
    "\n",
    "1. What is the probability of selecting a person of height 1cm?\n",
    "2. What is the probability of selecting a person that is taller than 5cm (i.e. height 6cm, 7cm, 8cm, 9cm, 10cm)?\n",
    "3. What is the mean height of the true population (expected value)?\n",
    "\n",
    "With that, we will need to define a random variable $X$ and let $X$ be the height of a **randomly** selected person from the **true population**.\n",
    "\n",
    "In {prf:ref}`random_variables`, $X$ is a function $X: \\Omega \\rightarrow \\mathbb{R}$ which\n",
    "maps an outcome $\\xi \\in \\S$ to a real number $X(\\xi) \\in \\R$. This is needed if your outcomes are not\n",
    "numerical. We first check if there is a need to \n",
    "define a new mapping from $\\Omega$ to $\\mathbb{R}$. It turns out that we can just use the identity mapping\n",
    "since the sample space $\\Omega$ is already a subset of $\\mathbb{R}$, and are just numbers. With that, \n",
    "$X(\\S)$ is $\\{1,2,3,4,5,6,7,8,9,10\\}$.\n",
    "\n",
    "With $X(\\S)$ defined, the ***state space*** (the range) is defined as per {prf:ref}`def_state_space`, we can associate each state\n",
    "$x \\in X(\\S)$ with a probability $P(X = x)$. This is the ***probability mass function*** (PMF) of $X$.\n",
    "\n",
    "We can plot an ideal histogram to see the distribution of how the height of each person in the true population is distributed.\n",
    "\n",
    "We call this an **ideal histogram** because we know the true population, and we are plotting every single person's height in this true population."
   ]
  },
  {
   "cell_type": "code",
   "execution_count": 6,
   "metadata": {},
   "outputs": [],
   "source": [
    "def plot_true_pmf(population: np.ndarray):\n",
    "    \"\"\"Plots the PMF of the true population.\"\"\"\n",
    "    bins = np.arange(1, population.max() + 1.5) - 0.5\n",
    "    fig, ax = plt.subplots()\n",
    "    _ = ax.hist(\n",
    "        population,\n",
    "        bins,\n",
    "        density=True,\n",
    "        color=\"#0504AA\",\n",
    "        alpha=0.5,\n",
    "        edgecolor=\"black\",\n",
    "        linewidth=2,\n",
    "    )\n",
    "    _ = ax.stem(\n",
    "        population,\n",
    "        [true_pmf(x, population) for x in population],\n",
    "        linefmt=\"C3-\",\n",
    "        markerfmt=\"C3o\",\n",
    "        basefmt=\"C3-\",\n",
    "        use_line_collection=True,\n",
    "    )\n",
    "\n",
    "    _ = ax.set_xlabel(\"Height (cm)\")\n",
    "    _ = ax.set_ylabel(\"Probability\")\n",
    "    _ = ax.set_title(\"PMF of the true population\")\n",
    "    _ = ax.set_xticks(bins + 0.5)\n",
    "\n",
    "    return fig, ax"
   ]
  },
  {
   "cell_type": "code",
   "execution_count": 7,
   "metadata": {},
   "outputs": [
    {
     "data": {
      "image/png": "[encoded data removed]",
      "text/plain": [
       "<Figure size 640x480 with 1 Axes>"
      ]
     },
     "metadata": {},
     "output_type": "display_data"
    }
   ],
   "source": [
    "_ = plot_true_pmf(true_population)"
   ]
  },
  {
   "cell_type": "markdown",
   "metadata": {},
   "source": [
    "The above is the ideal histogram, which is the PMF. More concretely, for each \n",
    "state $x \\in X(\\S)$, the probability of $X$ being $x$ is $P(X = x) = 1/10$.\n",
    "\n",
    "$$\n",
    "\\begin{align}\n",
    "\\P(X=x) = \\begin{cases}\n",
    "\\frac{1}{10} \\text{ if } x=1 \\\\\n",
    "\\frac{1}{10} \\text{ if } x=2 \\\\\n",
    "\\frac{1}{10} \\text{ if } x=3 \\\\\n",
    "\\vdots \\\\\n",
    "\\frac{1}{10} \\text{ if } x=10 \\\\\n",
    "\\end{cases}\n",
    "\\end{align}\n",
    "$$\n",
    "\n",
    "Now recall that the PMF is a probability distribution and is ***deteministic***. There is \n",
    "nothing random about the PMF since we defined it according to the true population. In other words,\n",
    "the true population, our \"universe\", has enumerated all the possible states and their probabilities."
   ]
  },
  {
   "cell_type": "markdown",
   "metadata": {},
   "source": [
    "With PMF, we can also answer questions 1,2 and 3.\n",
    "\n",
    "1. $\\P(X=1) = \\frac{1}{10} = 0.1$\n",
    "2. $\\P(X > 5) = \\P(X=6) + \\P(X=7) + \\P(X=8) + \\P(X=9) + \\P(X=10) = \\frac{5}{10} = 0.5$\n",
    "3. $\\exp \\lsq X \\rsq = \\sum_{x \\in X(\\S)} x \\cdot \\P(X=x) = \\frac{1}{10} \\cdot 1 + \\frac{1}{10} \\cdot 2 + \\frac{1}{10} \\cdot 3 + \\cdots + \\frac{1}{10} \\cdot 10 = 5.5$"
   ]
  },
  {
   "cell_type": "code",
   "execution_count": 9,
   "metadata": {},
   "outputs": [
    {
     "name": "stdout",
     "output_type": "stream",
     "text": [
      "P(X=1) = 0.1\n",
      "P(X>5) = 0.5\n"
     ]
    }
   ],
   "source": [
    "# 1. What is the probability of selecting a person of height 1cm?\n",
    "print(f\"P(X=1) = {true_pmf(1, true_population)}\")\n",
    "\n",
    "# 2. What is the probability of selecting a person that is taller than 5cm?\n",
    "print(f\"P(X>5) = {true_pmf(6, true_population) + true_pmf(7, true_population) + true_pmf(8, true_population) + true_pmf(9, true_population) + true_pmf(10, true_population)}\")"
   ]
  },
  {
   "cell_type": "markdown",
   "metadata": {},
   "source": [
    "We can also say that $X$ follows a **discrete uniform distribution**, $X \\sim U(1,10)$.\n",
    "This is also true because in probability theory and statistics, \n",
    "the discrete uniform distribution is a symmetric probability distribution wherein a finite number of\n",
    "values are equally likely to be observed; every one of n values has equal probability 1/n.\n",
    "\n",
    "Now connecting this concept back to {cite}`chan_2021` chapter 3.2.4 on PMF vs empirical histogram. The idea seems\n",
    "more apparent now.\n",
    "\n",
    "```{figure} ../assets/generative_vs_inference.PNG\n",
    "---\n",
    "name: fig:generative_vs_inference\n",
    "---\n",
    "Generative vs Inference, credits to {cite}`chan_2021`\n",
    "```\n",
    "\n",
    "Given a PMF and an associated random variable $X$, we can generate a sample of size $n$ from the PMF.\n",
    "This process is called **synthesis** ***if*** we know the true PMF, then we can generate more data\n",
    "from the true population to train a model. This part is slightly confusing because if we know \n",
    "the true PMF, should we not have all the data in the true population? This is often not true\n",
    "in the real world as we won't be able to enumerate all the possible states and their probabilities.\n",
    "What we can do is to assume that the underlying distribution follows a certain distribution (say Gaussian),\n",
    "then we can generate data from this distribution. This is called **synthesis** and **generative modelling**.\n",
    "The key here is we are sure of the underlying distribution, and we can generate data from it (**KIV as a bit confused here**).\n",
    "\n",
    "In contrast, the more common case is that we do not know the true PMF. We only have a sample of size $n$ from\n",
    "the true population. We are given a dataset by our stakeholders, and then we want to estimate the\n",
    "PMF. This process is called **estimate/inference**. \n",
    "In our current example, this is not very \n",
    "obvious because an uniform distribution does not have parameters to estimate \n",
    "(i.e. [non-parametric](https://en.wikipedia.org/wiki/Discrete_uniform_distribution)).\n",
    "But the key here is given a dataset sampled from the true population, we want to first ***propose***\n",
    "a reasonable ***model/distribution***, and work towards estimating the parameters of this model/distribution.\n",
    "For example, if we propose a Gaussian distribution, we can estimate the mean and standard deviation with the given \n",
    "empirical dataset."
   ]
  },
  {
   "cell_type": "markdown",
   "metadata": {},
   "source": [
    "## Ideal Histogram/Distribution (PMF) vs Empirical Histogram/Distribution\n",
    "\n",
    "But we can still make sense of it with the following example with uniform distribution even if it is non-parametric."
   ]
  },
  {
   "cell_type": "code",
   "execution_count": 10,
   "metadata": {},
   "outputs": [],
   "source": [
    "def plot_empirical_pmf(sample: np.ndarray):\n",
    "    \"\"\"Plots the empirical histogram of a sample dataset drawn from the population.\"\"\"\n",
    "    bins = np.arange(1, sample.max() + 1.5) - 0.5\n",
    "    fig, ax = plt.subplots()\n",
    "    _ = ax.hist(\n",
    "        sample,\n",
    "        bins,\n",
    "        density=True,\n",
    "        color=\"#0504AA\",\n",
    "        alpha=0.5,\n",
    "        edgecolor=\"black\",\n",
    "        linewidth=2,\n",
    "    )\n",
    "    _ = ax.stem(\n",
    "        sample,\n",
    "        [empirical_pmf(x, sample) for x in sample],\n",
    "        linefmt=\"C3-\",\n",
    "        markerfmt=\"C3o\",\n",
    "        basefmt=\"C3-\",\n",
    "        use_line_collection=True,\n",
    "    )\n",
    "\n",
    "    _ = ax.set_xlabel(\"Height (cm)\")\n",
    "    _ = ax.set_ylabel(\"Probability\")\n",
    "    _ = ax.set_title(f\"PMF of a sample of size {len(sample)}\")\n",
    "    _ = ax.set_xticks(bins + 0.5)\n",
    "\n",
    "    return fig, ax"
   ]
  },
  {
   "cell_type": "markdown",
   "metadata": {},
   "source": [
    "We now define 3 random samples of 100, 500 and 900 people drawn from the true population drawn uniformly at random with no replacement."
   ]
  },
  {
   "cell_type": "code",
   "execution_count": 11,
   "metadata": {},
   "outputs": [],
   "source": [
    "sample_100 = np.random.choice(true_population, 100, replace=False)\n",
    "sample_500 = np.random.choice(true_population, 500, replace=False)\n",
    "sample_900 = np.random.choice(true_population, 900, replace=False)"
   ]
  },
  {
   "cell_type": "markdown",
   "metadata": {},
   "source": [
    "We then plot their histogram and compare to the ideal histogram."
   ]
  },
  {
   "cell_type": "code",
   "execution_count": 12,
   "metadata": {},
   "outputs": [
    {
     "data": {
      "image/png": "[encoded data removed]",
      "text/plain": [
       "<Figure size 2000x1000 with 4 Axes>"
      ]
     },
     "metadata": {},
     "output_type": "display_data"
    }
   ],
   "source": [
    "# ideal + empirical\n",
    "fig, axs = plt.subplots(2, 2, figsize=(20, 10))\n",
    "bins = np.arange(1, true_population.max() + 1.5) - 0.5\n",
    "axs[0, 0].hist(\n",
    "    true_population,\n",
    "    bins,\n",
    "    density=True,\n",
    "    color=\"#0504AA\",\n",
    "    alpha=0.5,\n",
    "    edgecolor=\"black\",\n",
    "    linewidth=2,\n",
    ")\n",
    "axs[0, 0].stem(\n",
    "    true_population,\n",
    "    [true_pmf(x, true_population) for x in true_population],\n",
    "    linefmt=\"C3-\",\n",
    "    markerfmt=\"C3o\",\n",
    "    basefmt=\"C3-\",\n",
    "    use_line_collection=True,\n",
    ")\n",
    "axs[0, 0].set_title(\"PMF of the true population\")\n",
    "axs[0, 0].set_xlabel(\"Height (cm)\")\n",
    "axs[0, 0].set_ylabel(\"Probability\")\n",
    "axs[0, 0].set_xticks(bins + 0.5)\n",
    "\n",
    "axs[0, 1].hist(\n",
    "    sample_100,\n",
    "    bins,\n",
    "    density=True,\n",
    "    color=\"#0504AA\",\n",
    "    alpha=0.5,\n",
    "    edgecolor=\"black\",\n",
    "    linewidth=2,\n",
    ")\n",
    "axs[0, 1].stem(\n",
    "    sample_100,\n",
    "    [empirical_pmf(x, sample_100) for x in sample_100],\n",
    "    linefmt=\"C3-\",\n",
    "    markerfmt=\"C3o\",\n",
    "    basefmt=\"C3-\",\n",
    "    use_line_collection=True,\n",
    ")\n",
    "axs[0, 1].set_title(\"PMF of a sample of size 100\")\n",
    "axs[0, 1].set_xlabel(\"Height (cm)\")\n",
    "axs[0, 1].set_ylabel(\"Probability\")\n",
    "axs[0, 1].set_xticks(bins + 0.5)\n",
    "\n",
    "axs[1, 0].hist(\n",
    "    sample_500,\n",
    "    bins,\n",
    "    density=True,\n",
    "    color=\"#0504AA\",\n",
    "    alpha=0.5,\n",
    "    edgecolor=\"black\",\n",
    "    linewidth=2,\n",
    ")\n",
    "axs[1, 0].stem(\n",
    "    sample_500,\n",
    "    [empirical_pmf(x, sample_500) for x in sample_500],\n",
    "    linefmt=\"C3-\",\n",
    "    markerfmt=\"C3o\",\n",
    "    basefmt=\"C3-\",\n",
    "    use_line_collection=True,\n",
    ")\n",
    "axs[1, 0].set_title(\"PMF of a sample of size 500\")\n",
    "axs[1, 0].set_xlabel(\"Height (cm)\")\n",
    "axs[1, 0].set_ylabel(\"Probability\")\n",
    "axs[1, 0].set_xticks(bins + 0.5)\n",
    "\n",
    "axs[1, 1].hist(\n",
    "    sample_900,\n",
    "    bins,\n",
    "    density=True,\n",
    "    color=\"#0504AA\",\n",
    "    alpha=0.5,\n",
    "    edgecolor=\"black\",\n",
    "    linewidth=2,\n",
    ")\n",
    "axs[1, 1].stem(\n",
    "    sample_900,\n",
    "    [empirical_pmf(x, sample_900) for x in sample_900],\n",
    "    linefmt=\"C3-\",\n",
    "    markerfmt=\"C3o\",\n",
    "    basefmt=\"C3-\",\n",
    "    use_line_collection=True,\n",
    ")\n",
    "axs[1, 1].set_title(\"PMF of a sample of size 900\")\n",
    "axs[1, 1].set_xlabel(\"Height (cm)\")\n",
    "axs[1, 1].set_ylabel(\"Probability\")\n",
    "axs[1, 1].set_xticks(bins + 0.5);"
   ]
  },
  {
   "cell_type": "markdown",
   "metadata": {},
   "source": [
    "- We can tell for the 100 samples, the empiricial histogram is not very close to the true pmf (true distribution).\n",
    "- We can tell for the 500 samples, the empiricial histogram is a bit closer to the true pmf (true distribution).\n",
    "- We can tell for the 900 samples, the empiricial histogram is very close to the true pmf (true distribution).\n",
    "\n",
    "Like what the professor said, if we take a large enough sample, it will be close to the true pmf\n",
    "this is obvious if we take say 900 out of 1000, then it will be closer to the true pmf\n",
    "simply because we have more representation across samples. Like\n",
    "if we only take 100 samples, maybe we a bit unlucky and get only 1 sample of height 5cm, then\n",
    "that empirical histogram will be very far from the true pmf since the prob of 5 cm in that\n",
    "example became 1/100 = 0.01! In our case, if check `sorted(sample_100)`, there are only 6 people\n",
    "with height 9 cm, so our empirical histogram tells us a empirical distribution of only $6/100 = 0.06$\n",
    "of getting a person with 9 cm, which is very different from 0.1."
   ]
  },
  {
   "cell_type": "code",
   "execution_count": 86,
   "metadata": {},
   "outputs": [],
   "source": [
    "def expected_value(population: np.ndarray) -> float:\n",
    "    \"\"\"Expected value of the true population.\"\"\"\n",
    "    return np.sum(population) / len(population)\n",
    "\n",
    "\n",
    "def empirical_mean(sample: np.ndarray) -> float:\n",
    "    \"\"\"Empirical mean of the sample.\"\"\"\n",
    "    return np.sum(sample) / len(sample)\n"
   ]
  },
  {
   "cell_type": "code",
   "execution_count": 87,
   "metadata": {},
   "outputs": [
    {
     "name": "stdout",
     "output_type": "stream",
     "text": [
      "The expected value of the true population is 5.5cm.\n"
     ]
    }
   ],
   "source": [
    "# What is the mean height of the true population (expected value)?\n",
    "print(f\"The expected value of the true population is {expected_value(true_population)}cm.\")"
   ]
  },
  {
   "cell_type": "code",
   "execution_count": 88,
   "metadata": {},
   "outputs": [
    {
     "name": "stdout",
     "output_type": "stream",
     "text": [
      "The empirical mean of the sample size of 100 is 5.38cm.\n",
      "The empirical mean of the sample size of 500 is 5.392cm.\n",
      "The empirical mean of the sample size of 900 is 5.541111111111111cm.\n"
     ]
    }
   ],
   "source": [
    "print(f\"The empirical mean of the sample size of 100 is {empirical_mean(sample_100)}cm.\")\n",
    "print(f\"The empirical mean of the sample size of 500 is {empirical_mean(sample_500)}cm.\")\n",
    "print(f\"The empirical mean of the sample size of 900 is {empirical_mean(sample_900)}cm.\")"
   ]
  },
  {
   "cell_type": "markdown",
   "metadata": {},
   "source": [
    "The law of averages also make sense once you understood why more samples converge to the true pmf, the idea is the same,\n",
    "as there are more samples, we get a more accurate representation of the true population, and therefore mean also more accurate."
   ]
  },
  {
   "cell_type": "code",
   "execution_count": 18,
   "metadata": {},
   "outputs": [
    {
     "data": {
      "image/png": "[encoded data removed]",
      "text/plain": [
       "<Figure size 432x288 with 1 Axes>"
      ]
     },
     "metadata": {
      "needs_background": "light"
     },
     "output_type": "display_data"
    }
   ],
   "source": [
    "# uvals2 = np.linspace(0, 6, 61)\n",
    "# plt.step(uvals2, U.cdf(uvals2), where=\"post\")\n",
    "\n",
    "# plt.xlabel(\"$u$\")\n",
    "# plt.ylabel(\"$F_U(u)$\");"
   ]
  },
  {
   "cell_type": "markdown",
   "metadata": {},
   "source": [
    "Finally, let's compare the cumulative histogram (with both `cumulative = True` and `density = True`) to the CDF:"
   ]
  },
  {
   "cell_type": "code",
   "execution_count": 19,
   "metadata": {},
   "outputs": [
    {
     "data": {
      "image/png": "[encoded data removed]",
      "text/plain": [
       "<Figure size 432x288 with 1 Axes>"
      ]
     },
     "metadata": {
      "needs_background": "light"
     },
     "output_type": "display_data"
    }
   ],
   "source": [
    "# uvals2 = np.linspace(0, 6, 61)\n",
    "# plt.step(uvals2, U.cdf(uvals2), where=\"post\")\n",
    "# plt.hist(u, cumulative=True, density=True, bins=newbins)\n",
    "\n",
    "# plt.xlabel(\"$u$\")\n",
    "# plt.ylabel(\"$F_U(u)$\");"
   ]
  },
  {
   "cell_type": "markdown",
   "metadata": {},
   "source": [
    "**Exercise:** What happens if we plot the cumulative histogram without specifying the bins? Why do you think that happens?"
   ]
  }
 ],
 "metadata": {
  "kernelspec": {
   "display_name": "Python 3 (ipykernel)",
   "language": "python",
   "name": "python3"
  },
  "language_info": {
   "codemirror_mode": {
    "name": "ipython",
    "version": 3
   },
   "file_extension": ".py",
   "mimetype": "text/x-python",
   "name": "python",
   "nbconvert_exporter": "python",
   "pygments_lexer": "ipython3",
   "version": "3.8.10"
  },
  "latex_envs": {
   "LaTeX_envs_menu_present": true,
   "autoclose": true,
   "autocomplete": true,
   "bibliofile": "biblio.bib",
   "cite_by": "apalike",
   "current_citInitial": 1,
   "eqLabelWithNumbers": true,
   "eqNumInitial": 1,
   "hotkeys": {
    "equation": "Ctrl-E",
    "itemize": "Ctrl-I"
   },
   "labels_anchors": false,
   "latex_user_defs": false,
   "report_style_numbering": false,
   "user_envs_cfg": false
  }
 },
 "nbformat": 4,
 "nbformat_minor": 4
}
