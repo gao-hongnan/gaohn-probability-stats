{
  "cells": [
    {
      "cell_type": "markdown",
      "metadata": {},
      "source": [
        "# Gradient Descent Construction"
      ]
    },
    {
      "cell_type": "code",
      "execution_count": 85,
      "metadata": {},
      "outputs": [],
      "source": [
        "# %pip install -q --progress-bar off d2l==1.0.0a1.post0 # replace ! with % for jupyter notebook"
      ]
    },
    {
      "cell_type": "markdown",
      "metadata": {
        "id": "EozG2fmJr9Z5"
      },
      "source": [
        "Ref: https://d2l.ai/chapter_optimization/gd.html"
      ]
    },
    {
      "cell_type": "code",
      "execution_count": 86,
      "metadata": {
        "id": "VPkEj0tZ39CT"
      },
      "outputs": [],
      "source": [
        "import copy\n",
        "from abc import ABC, abstractmethod\n",
        "from typing import Any, Callable, List, Optional, Tuple, TypeVar, Union\n",
        "\n",
        "import autograd.numpy as np  # import numpy as np\n",
        "import torch\n",
        "from autograd import grad\n",
        "from d2l import torch as d2l"
      ]
    },
    {
      "cell_type": "code",
      "execution_count": 87,
      "metadata": {},
      "outputs": [],
      "source": [
        "T = TypeVar(\"T\", bound=Union[float, np.ndarray, torch.Tensor])"
      ]
    },
    {
      "cell_type": "code",
      "execution_count": 88,
      "metadata": {
        "id": "4E--A9DdmAAo"
      },
      "outputs": [],
      "source": [
        "class Function:\n",
        "    def __init__(self, f: Callable) -> None:\n",
        "        self._f = f\n",
        "\n",
        "    def __call__(self, x: T, *args: Any, **kwargs: Any) -> T:\n",
        "        # a function returns a scalar float\n",
        "        fx = self._f(*args, **kwargs)\n",
        "        return fx\n",
        "\n",
        "\n",
        "class GradFunction:\n",
        "    def __init__(self, grad_f: Callable) -> None:\n",
        "        self._grad_f = grad_f\n",
        "\n",
        "    def __call__(self, x: T, *args: Any, **kwargs: Any) -> T:\n",
        "        # grad fn/vector returns an array of vector\n",
        "        grad_fx = self._grad_f(*args, **kwargs)\n",
        "        return grad_fx"
      ]
    },
    {
      "cell_type": "markdown",
      "metadata": {},
      "source": [
        "## Base"
      ]
    },
    {
      "cell_type": "code",
      "execution_count": 89,
      "metadata": {},
      "outputs": [],
      "source": [
        "# pylint: disable=invalid-name, redefined-outer-name, too-few-public-methods\n",
        "class Optimizer(ABC):\n",
        "    \"\"\"Abstract class for optimizers.\n",
        "    Currently, you need to define the f and grad_f functions in the constructor.\n",
        "    \"\"\"\n",
        "\n",
        "    def __init__(self, f: Callable, grad_f: Callable, lr: float, **kwargs: Any) -> None:\n",
        "        self.f = f\n",
        "        self.grad_f = grad_f\n",
        "        self.lr = lr\n",
        "        self.kwargs = kwargs\n",
        "\n",
        "    @abstractmethod\n",
        "    def step(\n",
        "        self,\n",
        "        weights: T,\n",
        "        biases: Optional[T] = None,\n",
        "    ) -> None:\n",
        "        \"\"\"Update the weights and biases.\n",
        "\n",
        "        Args:\n",
        "            weights (np.ndarray): The weights to update.\n",
        "            biases (np.ndarray): The biases to update.\n",
        "\n",
        "        Raises:\n",
        "            NotImplementedError:\n",
        "        \"\"\"\n",
        "        raise NotImplementedError"
      ]
    },
    {
      "cell_type": "markdown",
      "metadata": {},
      "source": [
        "## Gradient Descent"
      ]
    },
    {
      "cell_type": "code",
      "execution_count": 90,
      "metadata": {},
      "outputs": [],
      "source": [
        "class GradientDescent(Optimizer):\n",
        "    \"\"\"Gradient descent optimizer.\"\"\"\n",
        "\n",
        "    weights_history: List[T]\n",
        "\n",
        "    def __init__(self, f: Callable, grad_f: Callable, lr: float, **kwargs: Any) -> None:\n",
        "        super().__init__(f, grad_f, lr, **kwargs)\n",
        "        self.weights_history = []\n",
        "\n",
        "    def step(\n",
        "        self,\n",
        "        weights: T,\n",
        "        biases: Optional[T] = None,\n",
        "    ) -> Tuple[T, T, List[T]]:\n",
        "        # grad vec at each point\n",
        "        gradient_vector = self.grad_f(weights)\n",
        "        weights -= self.lr * gradient_vector\n",
        "\n",
        "        if biases is not None:\n",
        "            raise NotImplementedError(\"Biases are not implemented yet.\")\n",
        "\n",
        "        print(f\"weights {weights}, biases {biases}\")\n",
        "\n",
        "        # must use copy if not weights (np array) mutatable:\n",
        "        # https://tinyurl.com/bdff69by\n",
        "        self.weights_history.append(copy.copy(weights))\n",
        "        return weights, biases, self.weights_history\n"
      ]
    },
    {
      "cell_type": "code",
      "execution_count": 91,
      "metadata": {
        "id": "QPluNTp7kjI6"
      },
      "outputs": [],
      "source": [
        "def f(w: T) -> T:  # Objective function\n",
        "    \"\"\"f(w) = w^2\"\"\"\n",
        "    return w**2\n",
        "\n",
        "\n",
        "def grad_f(w: T) -> T:  # Gradient (derivative) of the objective function\n",
        "    \"\"\"f'(w) = 2w\"\"\"\n",
        "    return 2 * w"
      ]
    },
    {
      "cell_type": "code",
      "execution_count": 92,
      "metadata": {
        "id": "7kXXrnDX5Jha"
      },
      "outputs": [],
      "source": [
        "batch_gd = GradientDescent(f=f, grad_f=grad_f, lr=0.2)"
      ]
    },
    {
      "cell_type": "code",
      "execution_count": 93,
      "metadata": {
        "colab": {
          "base_uri": "https://localhost:8080/"
        },
        "id": "mLfdIQLg5Jjv",
        "outputId": "149da423-cf13-47b4-b79f-03c789f1fab0"
      },
      "outputs": [
        {
          "name": "stdout",
          "output_type": "stream",
          "text": [
            "weights 6.0, biases None\n",
            "weights 3.5999999999999996, biases None\n",
            "weights 2.1599999999999997, biases None\n",
            "weights 1.2959999999999998, biases None\n",
            "weights 0.7775999999999998, biases None\n",
            "weights 0.46655999999999986, biases None\n",
            "weights 0.2799359999999999, biases None\n",
            "weights 0.16796159999999993, biases None\n",
            "weights 0.10077695999999996, biases None\n",
            "weights 0.06046617599999997, biases None\n"
          ]
        }
      ],
      "source": [
        "initial_weight = 10\n",
        "initial_bias = None # we ignore bias for simplicity\n",
        "num_epochs = 10\n",
        "for epoch in range(num_epochs):\n",
        "    initial_weight, initial_bias, weights_history = batch_gd.step(\n",
        "        initial_weight, initial_bias\n",
        "    )"
      ]
    },
    {
      "cell_type": "code",
      "execution_count": 94,
      "metadata": {
        "colab": {
          "base_uri": "https://localhost:8080/",
          "height": 262
        },
        "id": "fmjigCA6LGrj",
        "outputId": "543ba928-6078-46a4-9957-0a6b2baa5cee"
      },
      "outputs": [
        {
          "data": {
            "image/svg+xml": "<?xml version=\"1.0\" encoding=\"utf-8\" standalone=\"no\"?>\n<!DOCTYPE svg PUBLIC \"-//W3C//DTD SVG 1.1//EN\"\n  \"http://www.w3.org/Graphics/SVG/1.1/DTD/svg11.dtd\">\n<svg xmlns:xlink=\"http://www.w3.org/1999/xlink\" width=\"243.103125pt\" height=\"183.35625pt\" viewBox=\"0 0 243.103125 183.35625\" xmlns=\"http://www.w3.org/2000/svg\" version=\"1.1\">\n <metadata>\n  <rdf:RDF xmlns:dc=\"http://purl.org/dc/elements/1.1/\" xmlns:cc=\"http://creativecommons.org/ns#\" xmlns:rdf=\"http://www.w3.org/1999/02/22-rdf-syntax-ns#\">\n   <cc:Work>\n    <dc:type rdf:resource=\"http://purl.org/dc/dcmitype/StillImage\"/>\n    <dc:date>2022-12-02T18:21:12.120810</dc:date>\n    <dc:format>image/svg+xml</dc:format>\n    <dc:creator>\n     <cc:Agent>\n      <dc:title>Matplotlib v3.6.2, https://matplotlib.org/</dc:title>\n     </cc:Agent>\n    </dc:creator>\n   </cc:Work>\n  </rdf:RDF>\n </metadata>\n <defs>\n  <style type=\"text/css\">*{stroke-linejoin: round; stroke-linecap: butt}</style>\n </defs>\n <g id=\"figure_1\">\n  <g id=\"patch_1\">\n   <path d=\"M 0 183.35625 \nL 243.103125 183.35625 \nL 243.103125 0 \nL 0 0 \nz\n\" style=\"fill: #ffffff\"/>\n  </g>\n  <g id=\"axes_1\">\n   <g id=\"patch_2\">\n    <path d=\"M 40.603125 145.8 \nL 235.903125 145.8 \nL 235.903125 7.2 \nL 40.603125 7.2 \nz\n\" style=\"fill: #ffffff\"/>\n   </g>\n   <g id=\"matplotlib.axis_1\">\n    <g id=\"xtick_1\">\n     <g id=\"line2d_1\">\n      <path d=\"M 64.275852 145.8 \nL 64.275852 7.2 \n\" clip-path=\"url(#p6aee37c72e)\" style=\"fill: none; stroke: #b0b0b0; stroke-width: 0.8; stroke-linecap: square\"/>\n     </g>\n     <g id=\"line2d_2\">\n      <defs>\n       <path id=\"m206cb25d6f\" d=\"M 0 0 \nL 0 3.5 \n\" style=\"stroke: #000000; stroke-width: 0.8\"/>\n      </defs>\n      <g>\n       <use xlink:href=\"#m206cb25d6f\" x=\"64.275852\" y=\"145.8\" style=\"stroke: #000000; stroke-width: 0.8\"/>\n      </g>\n     </g>\n     <g id=\"text_1\">\n      <!-- −5.0 -->\n      <g transform=\"translate(52.134446 160.398438) scale(0.1 -0.1)\">\n       <defs>\n        <path id=\"DejaVuSans-2212\" d=\"M 678 2272 \nL 4684 2272 \nL 4684 1741 \nL 678 1741 \nL 678 2272 \nz\n\" transform=\"scale(0.015625)\"/>\n        <path id=\"DejaVuSans-35\" d=\"M 691 4666 \nL 3169 4666 \nL 3169 4134 \nL 1269 4134 \nL 1269 2991 \nQ 1406 3038 1543 3061 \nQ 1681 3084 1819 3084 \nQ 2600 3084 3056 2656 \nQ 3513 2228 3513 1497 \nQ 3513 744 3044 326 \nQ 2575 -91 1722 -91 \nQ 1428 -91 1123 -41 \nQ 819 9 494 109 \nL 494 744 \nQ 775 591 1075 516 \nQ 1375 441 1709 441 \nQ 2250 441 2565 725 \nQ 2881 1009 2881 1497 \nQ 2881 1984 2565 2268 \nQ 2250 2553 1709 2553 \nQ 1456 2553 1204 2497 \nQ 953 2441 691 2322 \nL 691 4666 \nz\n\" transform=\"scale(0.015625)\"/>\n        <path id=\"DejaVuSans-2e\" d=\"M 684 794 \nL 1344 794 \nL 1344 0 \nL 684 0 \nL 684 794 \nz\n\" transform=\"scale(0.015625)\"/>\n        <path id=\"DejaVuSans-30\" d=\"M 2034 4250 \nQ 1547 4250 1301 3770 \nQ 1056 3291 1056 2328 \nQ 1056 1369 1301 889 \nQ 1547 409 2034 409 \nQ 2525 409 2770 889 \nQ 3016 1369 3016 2328 \nQ 3016 3291 2770 3770 \nQ 2525 4250 2034 4250 \nz\nM 2034 4750 \nQ 2819 4750 3233 4129 \nQ 3647 3509 3647 2328 \nQ 3647 1150 3233 529 \nQ 2819 -91 2034 -91 \nQ 1250 -91 836 529 \nQ 422 1150 422 2328 \nQ 422 3509 836 4129 \nQ 1250 4750 2034 4750 \nz\n\" transform=\"scale(0.015625)\"/>\n       </defs>\n       <use xlink:href=\"#DejaVuSans-2212\"/>\n       <use xlink:href=\"#DejaVuSans-35\" x=\"83.789062\"/>\n       <use xlink:href=\"#DejaVuSans-2e\" x=\"147.412109\"/>\n       <use xlink:href=\"#DejaVuSans-30\" x=\"179.199219\"/>\n      </g>\n     </g>\n    </g>\n    <g id=\"xtick_2\">\n     <g id=\"line2d_3\">\n      <path d=\"M 101.264489 145.8 \nL 101.264489 7.2 \n\" clip-path=\"url(#p6aee37c72e)\" style=\"fill: none; stroke: #b0b0b0; stroke-width: 0.8; stroke-linecap: square\"/>\n     </g>\n     <g id=\"line2d_4\">\n      <g>\n       <use xlink:href=\"#m206cb25d6f\" x=\"101.264489\" y=\"145.8\" style=\"stroke: #000000; stroke-width: 0.8\"/>\n      </g>\n     </g>\n     <g id=\"text_2\">\n      <!-- −2.5 -->\n      <g transform=\"translate(89.123082 160.398438) scale(0.1 -0.1)\">\n       <defs>\n        <path id=\"DejaVuSans-32\" d=\"M 1228 531 \nL 3431 531 \nL 3431 0 \nL 469 0 \nL 469 531 \nQ 828 903 1448 1529 \nQ 2069 2156 2228 2338 \nQ 2531 2678 2651 2914 \nQ 2772 3150 2772 3378 \nQ 2772 3750 2511 3984 \nQ 2250 4219 1831 4219 \nQ 1534 4219 1204 4116 \nQ 875 4013 500 3803 \nL 500 4441 \nQ 881 4594 1212 4672 \nQ 1544 4750 1819 4750 \nQ 2544 4750 2975 4387 \nQ 3406 4025 3406 3419 \nQ 3406 3131 3298 2873 \nQ 3191 2616 2906 2266 \nQ 2828 2175 2409 1742 \nQ 1991 1309 1228 531 \nz\n\" transform=\"scale(0.015625)\"/>\n       </defs>\n       <use xlink:href=\"#DejaVuSans-2212\"/>\n       <use xlink:href=\"#DejaVuSans-32\" x=\"83.789062\"/>\n       <use xlink:href=\"#DejaVuSans-2e\" x=\"147.412109\"/>\n       <use xlink:href=\"#DejaVuSans-35\" x=\"179.199219\"/>\n      </g>\n     </g>\n    </g>\n    <g id=\"xtick_3\">\n     <g id=\"line2d_5\">\n      <path d=\"M 138.253125 145.8 \nL 138.253125 7.2 \n\" clip-path=\"url(#p6aee37c72e)\" style=\"fill: none; stroke: #b0b0b0; stroke-width: 0.8; stroke-linecap: square\"/>\n     </g>\n     <g id=\"line2d_6\">\n      <g>\n       <use xlink:href=\"#m206cb25d6f\" x=\"138.253125\" y=\"145.8\" style=\"stroke: #000000; stroke-width: 0.8\"/>\n      </g>\n     </g>\n     <g id=\"text_3\">\n      <!-- 0.0 -->\n      <g transform=\"translate(130.301562 160.398438) scale(0.1 -0.1)\">\n       <use xlink:href=\"#DejaVuSans-30\"/>\n       <use xlink:href=\"#DejaVuSans-2e\" x=\"63.623047\"/>\n       <use xlink:href=\"#DejaVuSans-30\" x=\"95.410156\"/>\n      </g>\n     </g>\n    </g>\n    <g id=\"xtick_4\">\n     <g id=\"line2d_7\">\n      <path d=\"M 175.241761 145.8 \nL 175.241761 7.2 \n\" clip-path=\"url(#p6aee37c72e)\" style=\"fill: none; stroke: #b0b0b0; stroke-width: 0.8; stroke-linecap: square\"/>\n     </g>\n     <g id=\"line2d_8\">\n      <g>\n       <use xlink:href=\"#m206cb25d6f\" x=\"175.241761\" y=\"145.8\" style=\"stroke: #000000; stroke-width: 0.8\"/>\n      </g>\n     </g>\n     <g id=\"text_4\">\n      <!-- 2.5 -->\n      <g transform=\"translate(167.290199 160.398438) scale(0.1 -0.1)\">\n       <use xlink:href=\"#DejaVuSans-32\"/>\n       <use xlink:href=\"#DejaVuSans-2e\" x=\"63.623047\"/>\n       <use xlink:href=\"#DejaVuSans-35\" x=\"95.410156\"/>\n      </g>\n     </g>\n    </g>\n    <g id=\"xtick_5\">\n     <g id=\"line2d_9\">\n      <path d=\"M 212.230398 145.8 \nL 212.230398 7.2 \n\" clip-path=\"url(#p6aee37c72e)\" style=\"fill: none; stroke: #b0b0b0; stroke-width: 0.8; stroke-linecap: square\"/>\n     </g>\n     <g id=\"line2d_10\">\n      <g>\n       <use xlink:href=\"#m206cb25d6f\" x=\"212.230398\" y=\"145.8\" style=\"stroke: #000000; stroke-width: 0.8\"/>\n      </g>\n     </g>\n     <g id=\"text_5\">\n      <!-- 5.0 -->\n      <g transform=\"translate(204.278835 160.398438) scale(0.1 -0.1)\">\n       <use xlink:href=\"#DejaVuSans-35\"/>\n       <use xlink:href=\"#DejaVuSans-2e\" x=\"63.623047\"/>\n       <use xlink:href=\"#DejaVuSans-30\" x=\"95.410156\"/>\n      </g>\n     </g>\n    </g>\n    <g id=\"text_6\">\n     <!-- x -->\n     <g transform=\"translate(135.29375 174.076563) scale(0.1 -0.1)\">\n      <defs>\n       <path id=\"DejaVuSans-78\" d=\"M 3513 3500 \nL 2247 1797 \nL 3578 0 \nL 2900 0 \nL 1881 1375 \nL 863 0 \nL 184 0 \nL 1544 1831 \nL 300 3500 \nL 978 3500 \nL 1906 2253 \nL 2834 3500 \nL 3513 3500 \nz\n\" transform=\"scale(0.015625)\"/>\n      </defs>\n      <use xlink:href=\"#DejaVuSans-78\"/>\n     </g>\n    </g>\n   </g>\n   <g id=\"matplotlib.axis_2\">\n    <g id=\"ytick_1\">\n     <g id=\"line2d_11\">\n      <path d=\"M 40.603125 139.5 \nL 235.903125 139.5 \n\" clip-path=\"url(#p6aee37c72e)\" style=\"fill: none; stroke: #b0b0b0; stroke-width: 0.8; stroke-linecap: square\"/>\n     </g>\n     <g id=\"line2d_12\">\n      <defs>\n       <path id=\"m00bd395abd\" d=\"M 0 0 \nL -3.5 0 \n\" style=\"stroke: #000000; stroke-width: 0.8\"/>\n      </defs>\n      <g>\n       <use xlink:href=\"#m00bd395abd\" x=\"40.603125\" y=\"139.5\" style=\"stroke: #000000; stroke-width: 0.8\"/>\n      </g>\n     </g>\n     <g id=\"text_7\">\n      <!-- 0 -->\n      <g transform=\"translate(27.240625 143.299219) scale(0.1 -0.1)\">\n       <use xlink:href=\"#DejaVuSans-30\"/>\n      </g>\n     </g>\n    </g>\n    <g id=\"ytick_2\">\n     <g id=\"line2d_13\">\n      <path d=\"M 40.603125 104.5 \nL 235.903125 104.5 \n\" clip-path=\"url(#p6aee37c72e)\" style=\"fill: none; stroke: #b0b0b0; stroke-width: 0.8; stroke-linecap: square\"/>\n     </g>\n     <g id=\"line2d_14\">\n      <g>\n       <use xlink:href=\"#m00bd395abd\" x=\"40.603125\" y=\"104.5\" style=\"stroke: #000000; stroke-width: 0.8\"/>\n      </g>\n     </g>\n     <g id=\"text_8\">\n      <!-- 10 -->\n      <g transform=\"translate(20.878125 108.299219) scale(0.1 -0.1)\">\n       <defs>\n        <path id=\"DejaVuSans-31\" d=\"M 794 531 \nL 1825 531 \nL 1825 4091 \nL 703 3866 \nL 703 4441 \nL 1819 4666 \nL 2450 4666 \nL 2450 531 \nL 3481 531 \nL 3481 0 \nL 794 0 \nL 794 531 \nz\n\" transform=\"scale(0.015625)\"/>\n       </defs>\n       <use xlink:href=\"#DejaVuSans-31\"/>\n       <use xlink:href=\"#DejaVuSans-30\" x=\"63.623047\"/>\n      </g>\n     </g>\n    </g>\n    <g id=\"ytick_3\">\n     <g id=\"line2d_15\">\n      <path d=\"M 40.603125 69.5 \nL 235.903125 69.5 \n\" clip-path=\"url(#p6aee37c72e)\" style=\"fill: none; stroke: #b0b0b0; stroke-width: 0.8; stroke-linecap: square\"/>\n     </g>\n     <g id=\"line2d_16\">\n      <g>\n       <use xlink:href=\"#m00bd395abd\" x=\"40.603125\" y=\"69.5\" style=\"stroke: #000000; stroke-width: 0.8\"/>\n      </g>\n     </g>\n     <g id=\"text_9\">\n      <!-- 20 -->\n      <g transform=\"translate(20.878125 73.299219) scale(0.1 -0.1)\">\n       <use xlink:href=\"#DejaVuSans-32\"/>\n       <use xlink:href=\"#DejaVuSans-30\" x=\"63.623047\"/>\n      </g>\n     </g>\n    </g>\n    <g id=\"ytick_4\">\n     <g id=\"line2d_17\">\n      <path d=\"M 40.603125 34.5 \nL 235.903125 34.5 \n\" clip-path=\"url(#p6aee37c72e)\" style=\"fill: none; stroke: #b0b0b0; stroke-width: 0.8; stroke-linecap: square\"/>\n     </g>\n     <g id=\"line2d_18\">\n      <g>\n       <use xlink:href=\"#m00bd395abd\" x=\"40.603125\" y=\"34.5\" style=\"stroke: #000000; stroke-width: 0.8\"/>\n      </g>\n     </g>\n     <g id=\"text_10\">\n      <!-- 30 -->\n      <g transform=\"translate(20.878125 38.299219) scale(0.1 -0.1)\">\n       <defs>\n        <path id=\"DejaVuSans-33\" d=\"M 2597 2516 \nQ 3050 2419 3304 2112 \nQ 3559 1806 3559 1356 \nQ 3559 666 3084 287 \nQ 2609 -91 1734 -91 \nQ 1441 -91 1130 -33 \nQ 819 25 488 141 \nL 488 750 \nQ 750 597 1062 519 \nQ 1375 441 1716 441 \nQ 2309 441 2620 675 \nQ 2931 909 2931 1356 \nQ 2931 1769 2642 2001 \nQ 2353 2234 1838 2234 \nL 1294 2234 \nL 1294 2753 \nL 1863 2753 \nQ 2328 2753 2575 2939 \nQ 2822 3125 2822 3475 \nQ 2822 3834 2567 4026 \nQ 2313 4219 1838 4219 \nQ 1578 4219 1281 4162 \nQ 984 4106 628 3988 \nL 628 4550 \nQ 988 4650 1302 4700 \nQ 1616 4750 1894 4750 \nQ 2613 4750 3031 4423 \nQ 3450 4097 3450 3541 \nQ 3450 3153 3228 2886 \nQ 3006 2619 2597 2516 \nz\n\" transform=\"scale(0.015625)\"/>\n       </defs>\n       <use xlink:href=\"#DejaVuSans-33\"/>\n       <use xlink:href=\"#DejaVuSans-30\" x=\"63.623047\"/>\n      </g>\n     </g>\n    </g>\n    <g id=\"text_11\">\n     <!-- f(x) -->\n     <g transform=\"translate(14.798437 85.121094) rotate(-90) scale(0.1 -0.1)\">\n      <defs>\n       <path id=\"DejaVuSans-66\" d=\"M 2375 4863 \nL 2375 4384 \nL 1825 4384 \nQ 1516 4384 1395 4259 \nQ 1275 4134 1275 3809 \nL 1275 3500 \nL 2222 3500 \nL 2222 3053 \nL 1275 3053 \nL 1275 0 \nL 697 0 \nL 697 3053 \nL 147 3053 \nL 147 3500 \nL 697 3500 \nL 697 3744 \nQ 697 4328 969 4595 \nQ 1241 4863 1831 4863 \nL 2375 4863 \nz\n\" transform=\"scale(0.015625)\"/>\n       <path id=\"DejaVuSans-28\" d=\"M 1984 4856 \nQ 1566 4138 1362 3434 \nQ 1159 2731 1159 2009 \nQ 1159 1288 1364 580 \nQ 1569 -128 1984 -844 \nL 1484 -844 \nQ 1016 -109 783 600 \nQ 550 1309 550 2009 \nQ 550 2706 781 3412 \nQ 1013 4119 1484 4856 \nL 1984 4856 \nz\n\" transform=\"scale(0.015625)\"/>\n       <path id=\"DejaVuSans-29\" d=\"M 513 4856 \nL 1013 4856 \nQ 1481 4119 1714 3412 \nQ 1947 2706 1947 2009 \nQ 1947 1309 1714 600 \nQ 1481 -109 1013 -844 \nL 513 -844 \nQ 928 -128 1133 580 \nQ 1338 1288 1338 2009 \nQ 1338 2731 1133 3434 \nQ 928 4138 513 4856 \nz\n\" transform=\"scale(0.015625)\"/>\n      </defs>\n      <use xlink:href=\"#DejaVuSans-66\"/>\n      <use xlink:href=\"#DejaVuSans-28\" x=\"35.205078\"/>\n      <use xlink:href=\"#DejaVuSans-78\" x=\"74.21875\"/>\n      <use xlink:href=\"#DejaVuSans-29\" x=\"133.398438\"/>\n     </g>\n    </g>\n   </g>\n   <g id=\"line2d_19\">\n    <path d=\"M 49.480398 13.5 \nL 54.066988 26.183641 \nL 58.505627 37.817653 \nL 62.796308 48.465006 \nL 67.086989 58.523654 \nL 71.22972 67.676861 \nL 75.224485 75.983393 \nL 79.219261 83.779649 \nL 83.066079 90.80485 \nL 86.764943 97.113599 \nL 90.463807 102.984848 \nL 94.014716 108.209651 \nL 97.417671 112.8384 \nL 100.820625 117.09685 \nL 104.075626 120.823651 \nL 107.330623 124.211648 \nL 110.437671 127.1296 \nL 113.544717 129.73885 \nL 116.503806 131.93685 \nL 119.462898 133.85485 \nL 122.274033 135.4176 \nL 125.085171 136.72765 \nL 127.896306 137.785 \nL 130.559489 138.5536 \nL 133.22267 139.0954 \nL 135.885852 139.4104 \nL 138.549034 139.4986 \nL 141.212216 139.36 \nL 143.875398 138.9946 \nL 146.53858 138.4024 \nL 149.201762 137.5834 \nL 151.864943 136.5376 \nL 154.67608 135.18765 \nL 157.487215 133.585001 \nL 160.298352 131.72965 \nL 163.257442 129.503651 \nL 166.216534 126.99765 \nL 169.323578 124.065002 \nL 172.430624 120.823651 \nL 175.685625 117.09685 \nL 178.940625 113.03125 \nL 182.34358 108.418601 \nL 185.746535 103.43565 \nL 189.297444 97.841249 \nL 192.996308 91.584998 \nL 196.695171 84.89125 \nL 200.541989 77.46565 \nL 204.536762 69.253599 \nL 208.531534 60.53125 \nL 212.674264 50.946845 \nL 216.964946 40.441591 \nL 221.255627 29.347646 \nL 225.694266 17.251635 \nL 226.877901 13.919636 \nL 226.877901 13.919636 \n\" clip-path=\"url(#p6aee37c72e)\" style=\"fill: none; stroke: #1f77b4; stroke-width: 1.5; stroke-linecap: square\"/>\n   </g>\n   <g id=\"line2d_20\">\n    <path d=\"M 227.025852 13.5 \nL 191.516761 94.14 \nL 170.211307 123.1704 \nL 157.428034 133.621344 \nL 149.75807 137.383684 \nL 145.156092 138.738126 \nL 142.394905 139.225725 \nL 140.738193 139.401261 \nL 139.744166 139.464454 \nL 139.14775 139.487203 \n\" clip-path=\"url(#p6aee37c72e)\" style=\"fill: none; stroke: #ff7f0e; stroke-width: 1.5; stroke-linecap: square\"/>\n    <defs>\n     <path id=\"me1075d8b70\" d=\"M 0 3 \nC 0.795609 3 1.55874 2.683901 2.12132 2.12132 \nC 2.683901 1.55874 3 0.795609 3 0 \nC 3 -0.795609 2.683901 -1.55874 2.12132 -2.12132 \nC 1.55874 -2.683901 0.795609 -3 0 -3 \nC -0.795609 -3 -1.55874 -2.683901 -2.12132 -2.12132 \nC -2.683901 -1.55874 -3 -0.795609 -3 0 \nC -3 0.795609 -2.683901 1.55874 -2.12132 2.12132 \nC -1.55874 2.683901 -0.795609 3 0 3 \nz\n\" style=\"stroke: #ff7f0e\"/>\n    </defs>\n    <g clip-path=\"url(#p6aee37c72e)\">\n     <use xlink:href=\"#me1075d8b70\" x=\"227.025852\" y=\"13.5\" style=\"fill: #ff7f0e; stroke: #ff7f0e\"/>\n     <use xlink:href=\"#me1075d8b70\" x=\"191.516761\" y=\"94.14\" style=\"fill: #ff7f0e; stroke: #ff7f0e\"/>\n     <use xlink:href=\"#me1075d8b70\" x=\"170.211307\" y=\"123.1704\" style=\"fill: #ff7f0e; stroke: #ff7f0e\"/>\n     <use xlink:href=\"#me1075d8b70\" x=\"157.428034\" y=\"133.621344\" style=\"fill: #ff7f0e; stroke: #ff7f0e\"/>\n     <use xlink:href=\"#me1075d8b70\" x=\"149.75807\" y=\"137.383684\" style=\"fill: #ff7f0e; stroke: #ff7f0e\"/>\n     <use xlink:href=\"#me1075d8b70\" x=\"145.156092\" y=\"138.738126\" style=\"fill: #ff7f0e; stroke: #ff7f0e\"/>\n     <use xlink:href=\"#me1075d8b70\" x=\"142.394905\" y=\"139.225725\" style=\"fill: #ff7f0e; stroke: #ff7f0e\"/>\n     <use xlink:href=\"#me1075d8b70\" x=\"140.738193\" y=\"139.401261\" style=\"fill: #ff7f0e; stroke: #ff7f0e\"/>\n     <use xlink:href=\"#me1075d8b70\" x=\"139.744166\" y=\"139.464454\" style=\"fill: #ff7f0e; stroke: #ff7f0e\"/>\n     <use xlink:href=\"#me1075d8b70\" x=\"139.14775\" y=\"139.487203\" style=\"fill: #ff7f0e; stroke: #ff7f0e\"/>\n    </g>\n   </g>\n   <g id=\"patch_3\">\n    <path d=\"M 40.603125 145.8 \nL 40.603125 7.2 \n\" style=\"fill: none; stroke: #000000; stroke-width: 0.8; stroke-linejoin: miter; stroke-linecap: square\"/>\n   </g>\n   <g id=\"patch_4\">\n    <path d=\"M 235.903125 145.8 \nL 235.903125 7.2 \n\" style=\"fill: none; stroke: #000000; stroke-width: 0.8; stroke-linejoin: miter; stroke-linecap: square\"/>\n   </g>\n   <g id=\"patch_5\">\n    <path d=\"M 40.603125 145.8 \nL 235.903125 145.8 \n\" style=\"fill: none; stroke: #000000; stroke-width: 0.8; stroke-linejoin: miter; stroke-linecap: square\"/>\n   </g>\n   <g id=\"patch_6\">\n    <path d=\"M 40.603125 7.2 \nL 235.903125 7.2 \n\" style=\"fill: none; stroke: #000000; stroke-width: 0.8; stroke-linejoin: miter; stroke-linecap: square\"/>\n   </g>\n  </g>\n </g>\n <defs>\n  <clipPath id=\"p6aee37c72e\">\n   <rect x=\"40.603125\" y=\"7.2\" width=\"195.3\" height=\"138.6\"/>\n  </clipPath>\n </defs>\n</svg>\n",
            "text/plain": [
              "<Figure size 350x250 with 1 Axes>"
            ]
          },
          "metadata": {},
          "output_type": "display_data"
        }
      ],
      "source": [
        "def show_trace(f: Callable, results: List[T]) -> None:\n",
        "    \"\"\"Show the trace of variables during optimization.\"\"\"\n",
        "    n = max(abs(min(results)), abs(max(results)))\n",
        "    f_line = torch.arange(-n, n, 0.01)\n",
        "    d2l.set_figsize()\n",
        "    d2l.plot(\n",
        "        [f_line, results],\n",
        "        [[f(x) for x in f_line], [f(x) for x in results]],\n",
        "        \"x\",\n",
        "        \"f(x)\",\n",
        "        fmts=[\"-\", \"-o\"],\n",
        "    )\n",
        "    d2l.plt.show()\n",
        "\n",
        "show_trace(f, weights_history)"
      ]
    },
    {
      "cell_type": "markdown",
      "metadata": {
        "id": "aT4xhEudl5cX"
      },
      "source": [
        "## 2D Example"
      ]
    },
    {
      "cell_type": "markdown",
      "metadata": {
        "id": "43Ky0RWznRfF"
      },
      "source": [
        "Let the problem be a linear model involving 2 variables:\n",
        "\n",
        "$$\n",
        "y = X \\beta = \\beta_1 x_1 + \\beta_2 x_2 \n",
        "$$\n",
        "\n",
        "As usual, we know $X$ is the design matrix and we want to find optimal weights for $\\beta$.\n",
        "\n",
        "Later we will use $\\beta$ and $w$ interchangeably.\n",
        "\n",
        "Let the loss function be \n",
        "\n",
        "$$\n",
        "L(\\beta_1, \\beta_2) = \\beta_1^2 + 2\\beta_2^2\n",
        "$$\n",
        "\n",
        "Then its gradient vector at a point $(\\beta_1, \\beta_2)$ is:\n",
        "\n",
        "$$\n",
        "\\nabla L(\\beta_1, \\beta_2) = \\begin{bmatrix} 2\\beta_1 \\\\ 4\\beta_2 \\end{bmatrix}\n",
        "$$"
      ]
    },
    {
      "cell_type": "markdown",
      "metadata": {},
      "source": [
        "In the original text, the author defines the function as follows:"
      ]
    },
    {
      "cell_type": "code",
      "execution_count": 95,
      "metadata": {
        "id": "KepjQqYMQBv7"
      },
      "outputs": [],
      "source": [
        "def f_2d(w1, w2):  # Objective function\n",
        "    return w1 ** 2 + 2 * w2 ** 2\n",
        "\n",
        "def grad_f_2d(w1, w2):  # Gradient of the objective function\n",
        "    return (2 * w1, 4 * w2)"
      ]
    },
    {
      "cell_type": "markdown",
      "metadata": {
        "id": "OvmuQ0ORsBqj"
      },
      "source": [
        "We reframe the same functions below to take in only 1 weight vector so autograd can do its work."
      ]
    },
    {
      "cell_type": "code",
      "execution_count": 96,
      "metadata": {
        "id": "20wXOv17mpEj"
      },
      "outputs": [],
      "source": [
        "def f_2d(w: T) -> T:  # Objective function\n",
        "    \"\"\"w = [w1, w2] \\\\in R^2.\n",
        "    f(w) = w_1^2 + 2w_2^2\"\"\"\n",
        "    w1, w2 = w[0], w[1]\n",
        "    return w1**2 + 2 * w2**2\n",
        "\n",
        "\n",
        "def grad_f_2d(w: T) -> T:  # Gradient (derivative) of the objective function\n",
        "    \"\"\"\\\\nabla f = f'(w) = [2w_1, 4w_2] \\\\in R^2.\"\"\"\n",
        "    return np.asarray([2 * w[0], 4 * w[1]])"
      ]
    },
    {
      "cell_type": "code",
      "execution_count": 97,
      "metadata": {
        "id": "yxTey5vh5JmC"
      },
      "outputs": [],
      "source": [
        "initial_weights = np.asarray([-5, -2]).astype('float32') \n",
        "initial_biases = None # we ignore bias for simplicity\n",
        "num_epochs = 20"
      ]
    },
    {
      "cell_type": "markdown",
      "metadata": {
        "id": "hfqywiyTppHQ"
      },
      "source": [
        "We can use autograd to directly compute the gradient vector for us."
      ]
    },
    {
      "cell_type": "code",
      "execution_count": 98,
      "metadata": {
        "colab": {
          "base_uri": "https://localhost:8080/"
        },
        "id": "DIHhdtaJo_Wu",
        "outputId": "9cc37e04-1209-41c3-9d8a-407ace10d9f6"
      },
      "outputs": [],
      "source": [
        "autograd_f = grad(f_2d)\n",
        "assert autograd_f(initial_weights).all() == grad_f_2d(initial_weights).all() == np.asarray([10, -8]).all()"
      ]
    },
    {
      "cell_type": "code",
      "execution_count": 99,
      "metadata": {
        "id": "z1LEvO0rmW1Z"
      },
      "outputs": [],
      "source": [
        "batch_gd_no_autograd = GradientDescent(f=f_2d, grad_f=grad_f_2d, lr=0.1)  # no autograd\n",
        "batch_gd_with_autograd = GradientDescent(f=f_2d, grad_f=autograd_f, lr=0.1)  # autograd"
      ]
    },
    {
      "cell_type": "code",
      "execution_count": 100,
      "metadata": {
        "colab": {
          "base_uri": "https://localhost:8080/"
        },
        "id": "Z8F1Z29zoIXk",
        "outputId": "775d6b66-3a39-482a-d365-0d2af299ed60"
      },
      "outputs": [
        {
          "name": "stdout",
          "output_type": "stream",
          "text": [
            "weights [-4.  -1.2], biases None\n",
            "weights [-3.2  -0.72], biases None\n",
            "weights [-2.56  -0.432], biases None\n",
            "weights [-2.0479999 -0.2592   ], biases None\n",
            "weights [-1.6383998 -0.15552  ], biases None\n",
            "weights [-1.3107198 -0.093312 ], biases None\n",
            "weights [-1.0485759 -0.0559872], biases None\n",
            "weights [-0.8388607  -0.03359232], biases None\n",
            "weights [-0.6710886  -0.02015539], biases None\n",
            "weights [-0.53687084 -0.01209324], biases None\n",
            "weights [-0.42949668 -0.00725594], biases None\n",
            "weights [-0.34359735 -0.00435357], biases None\n",
            "weights [-0.27487788 -0.00261214], biases None\n",
            "weights [-0.2199023  -0.00156728], biases None\n",
            "weights [-0.17592184 -0.00094037], biases None\n",
            "weights [-0.14073747 -0.00056422], biases None\n",
            "weights [-0.11258998 -0.00033853], biases None\n",
            "weights [-0.09007198 -0.00020312], biases None\n",
            "weights [-0.07205759 -0.00012187], biases None\n",
            "weights [-5.7646073e-02 -7.3123170e-05], biases None\n"
          ]
        }
      ],
      "source": [
        "for epoch in range(num_epochs):\n",
        "    initial_weights, initial_biases, weights_history = batch_gd_no_autograd.step(\n",
        "        initial_weights, initial_biases\n",
        "    )"
      ]
    },
    {
      "cell_type": "code",
      "execution_count": 101,
      "metadata": {},
      "outputs": [
        {
          "name": "stdout",
          "output_type": "stream",
          "text": [
            "weights [-4.  -1.2], biases None\n",
            "weights [-3.2  -0.72], biases None\n",
            "weights [-2.56  -0.432], biases None\n",
            "weights [-2.0479999 -0.2592   ], biases None\n",
            "weights [-1.6383998  -0.15551999], biases None\n",
            "weights [-1.3107198 -0.093312 ], biases None\n",
            "weights [-1.0485759 -0.0559872], biases None\n",
            "weights [-0.8388607  -0.03359232], biases None\n",
            "weights [-0.6710886  -0.02015539], biases None\n",
            "weights [-0.53687084 -0.01209324], biases None\n",
            "weights [-0.42949668 -0.00725594], biases None\n",
            "weights [-0.34359735 -0.00435356], biases None\n",
            "weights [-0.27487788 -0.00261214], biases None\n",
            "weights [-0.2199023  -0.00156728], biases None\n",
            "weights [-0.17592184 -0.00094037], biases None\n",
            "weights [-0.14073747 -0.00056422], biases None\n",
            "weights [-0.11258998 -0.00033853], biases None\n",
            "weights [-0.09007198 -0.00020312], biases None\n",
            "weights [-0.07205759 -0.00012187], biases None\n",
            "weights [-5.7646073e-02 -7.3123156e-05], biases None\n"
          ]
        }
      ],
      "source": [
        "initial_weights = np.asarray([-5, -2]).astype('float32') \n",
        "initial_biases = None # we ignore bias for simplicity\n",
        "num_epochs = 20\n",
        "\n",
        "for epoch in range(num_epochs):\n",
        "    initial_weights, initial_biases, weights_history = batch_gd_with_autograd.step(\n",
        "        initial_weights, initial_biases\n",
        "    )"
      ]
    },
    {
      "cell_type": "code",
      "execution_count": 102,
      "metadata": {},
      "outputs": [
        {
          "data": {
            "text/plain": [
              "[array([-4. , -1.2], dtype=float32),\n",
              " array([-3.2 , -0.72], dtype=float32),\n",
              " array([-2.56 , -0.432], dtype=float32),\n",
              " array([-2.0479999, -0.2592   ], dtype=float32),\n",
              " array([-1.6383998 , -0.15551999], dtype=float32),\n",
              " array([-1.3107198, -0.093312 ], dtype=float32),\n",
              " array([-1.0485759, -0.0559872], dtype=float32),\n",
              " array([-0.8388607 , -0.03359232], dtype=float32),\n",
              " array([-0.6710886 , -0.02015539], dtype=float32),\n",
              " array([-0.53687084, -0.01209324], dtype=float32),\n",
              " array([-0.42949668, -0.00725594], dtype=float32),\n",
              " array([-0.34359735, -0.00435356], dtype=float32),\n",
              " array([-0.27487788, -0.00261214], dtype=float32),\n",
              " array([-0.2199023 , -0.00156728], dtype=float32),\n",
              " array([-0.17592184, -0.00094037], dtype=float32),\n",
              " array([-0.14073747, -0.00056422], dtype=float32),\n",
              " array([-0.11258998, -0.00033853], dtype=float32),\n",
              " array([-0.09007198, -0.00020312], dtype=float32),\n",
              " array([-0.07205759, -0.00012187], dtype=float32),\n",
              " array([-5.7646073e-02, -7.3123156e-05], dtype=float32)]"
            ]
          },
          "execution_count": 102,
          "metadata": {},
          "output_type": "execute_result"
        }
      ],
      "source": [
        "weights_history"
      ]
    },
    {
      "cell_type": "code",
      "execution_count": 103,
      "metadata": {
        "id": "2b_Th8CKoIZ3"
      },
      "outputs": [],
      "source": [
        "def show_trace_2d(f: Callable, results: List[T]) -> None:\n",
        "    \"\"\"Show the trace of 2D variables during optimization.\"\"\"\n",
        "    d2l.set_figsize()\n",
        "    d2l.plt.plot(*zip(*results), \"-o\", color=\"#ff7f0e\")\n",
        "    x1, x2 = torch.meshgrid(\n",
        "        torch.arange(-5.5, 1.0, 0.1), torch.arange(-3.0, 1.0, 0.1), indexing=\"ij\"\n",
        "    )\n",
        "    d2l.plt.contour(x1, x2, f([x1, x2]), colors=\"#1f77b4\")\n",
        "    d2l.plt.xlabel(\"x1\")\n",
        "    d2l.plt.ylabel(\"x2\")\n",
        "    d2l.plt.show()"
      ]
    },
    {
      "cell_type": "code",
      "execution_count": 104,
      "metadata": {
        "colab": {
          "base_uri": "https://localhost:8080/",
          "height": 262
        },
        "id": "ru2tNBxZoIcb",
        "outputId": "7506eb5a-1078-4528-b1d8-6fd43f9d2a15"
      },
      "outputs": [
        {
          "data": {
            "image/svg+xml": "<?xml version=\"1.0\" encoding=\"utf-8\" standalone=\"no\"?>\n<!DOCTYPE svg PUBLIC \"-//W3C//DTD SVG 1.1//EN\"\n  \"http://www.w3.org/Graphics/SVG/1.1/DTD/svg11.dtd\">\n<svg xmlns:xlink=\"http://www.w3.org/1999/xlink\" width=\"245.120313pt\" height=\"183.35625pt\" viewBox=\"0 0 245.120313 183.35625\" xmlns=\"http://www.w3.org/2000/svg\" version=\"1.1\">\n <metadata>\n  <rdf:RDF xmlns:dc=\"http://purl.org/dc/elements/1.1/\" xmlns:cc=\"http://creativecommons.org/ns#\" xmlns:rdf=\"http://www.w3.org/1999/02/22-rdf-syntax-ns#\">\n   <cc:Work>\n    <dc:type rdf:resource=\"http://purl.org/dc/dcmitype/StillImage\"/>\n    <dc:date>2022-12-02T18:21:12.742819</dc:date>\n    <dc:format>image/svg+xml</dc:format>\n    <dc:creator>\n     <cc:Agent>\n      <dc:title>Matplotlib v3.6.2, https://matplotlib.org/</dc:title>\n     </cc:Agent>\n    </dc:creator>\n   </cc:Work>\n  </rdf:RDF>\n </metadata>\n <defs>\n  <style type=\"text/css\">*{stroke-linejoin: round; stroke-linecap: butt}</style>\n </defs>\n <g id=\"figure_1\">\n  <g id=\"patch_1\">\n   <path d=\"M 0 183.35625 \nL 245.120313 183.35625 \nL 245.120313 0 \nL 0 0 \nz\n\" style=\"fill: #ffffff\"/>\n  </g>\n  <g id=\"axes_1\">\n   <g id=\"patch_2\">\n    <path d=\"M 42.620312 145.8 \nL 237.920313 145.8 \nL 237.920313 7.2 \nL 42.620312 7.2 \nz\n\" style=\"fill: #ffffff\"/>\n   </g>\n   <g id=\"matplotlib.axis_1\">\n    <g id=\"xtick_1\">\n     <g id=\"line2d_1\">\n      <defs>\n       <path id=\"m91214c4232\" d=\"M 0 0 \nL 0 3.5 \n\" style=\"stroke: #000000; stroke-width: 0.8\"/>\n      </defs>\n      <g>\n       <use xlink:href=\"#m91214c4232\" x=\"88.39375\" y=\"145.8\" style=\"stroke: #000000; stroke-width: 0.8\"/>\n      </g>\n     </g>\n     <g id=\"text_1\">\n      <!-- −4 -->\n      <g transform=\"translate(81.022656 160.398438) scale(0.1 -0.1)\">\n       <defs>\n        <path id=\"DejaVuSans-2212\" d=\"M 678 2272 \nL 4684 2272 \nL 4684 1741 \nL 678 1741 \nL 678 2272 \nz\n\" transform=\"scale(0.015625)\"/>\n        <path id=\"DejaVuSans-34\" d=\"M 2419 4116 \nL 825 1625 \nL 2419 1625 \nL 2419 4116 \nz\nM 2253 4666 \nL 3047 4666 \nL 3047 1625 \nL 3713 1625 \nL 3713 1100 \nL 3047 1100 \nL 3047 0 \nL 2419 0 \nL 2419 1100 \nL 313 1100 \nL 313 1709 \nL 2253 4666 \nz\n\" transform=\"scale(0.015625)\"/>\n       </defs>\n       <use xlink:href=\"#DejaVuSans-2212\"/>\n       <use xlink:href=\"#DejaVuSans-34\" x=\"83.789062\"/>\n      </g>\n     </g>\n    </g>\n    <g id=\"xtick_2\">\n     <g id=\"line2d_2\">\n      <g>\n       <use xlink:href=\"#m91214c4232\" x=\"149.425\" y=\"145.8\" style=\"stroke: #000000; stroke-width: 0.8\"/>\n      </g>\n     </g>\n     <g id=\"text_2\">\n      <!-- −2 -->\n      <g transform=\"translate(142.053907 160.398438) scale(0.1 -0.1)\">\n       <defs>\n        <path id=\"DejaVuSans-32\" d=\"M 1228 531 \nL 3431 531 \nL 3431 0 \nL 469 0 \nL 469 531 \nQ 828 903 1448 1529 \nQ 2069 2156 2228 2338 \nQ 2531 2678 2651 2914 \nQ 2772 3150 2772 3378 \nQ 2772 3750 2511 3984 \nQ 2250 4219 1831 4219 \nQ 1534 4219 1204 4116 \nQ 875 4013 500 3803 \nL 500 4441 \nQ 881 4594 1212 4672 \nQ 1544 4750 1819 4750 \nQ 2544 4750 2975 4387 \nQ 3406 4025 3406 3419 \nQ 3406 3131 3298 2873 \nQ 3191 2616 2906 2266 \nQ 2828 2175 2409 1742 \nQ 1991 1309 1228 531 \nz\n\" transform=\"scale(0.015625)\"/>\n       </defs>\n       <use xlink:href=\"#DejaVuSans-2212\"/>\n       <use xlink:href=\"#DejaVuSans-32\" x=\"83.789062\"/>\n      </g>\n     </g>\n    </g>\n    <g id=\"xtick_3\">\n     <g id=\"line2d_3\">\n      <g>\n       <use xlink:href=\"#m91214c4232\" x=\"210.456251\" y=\"145.8\" style=\"stroke: #000000; stroke-width: 0.8\"/>\n      </g>\n     </g>\n     <g id=\"text_3\">\n      <!-- 0 -->\n      <g transform=\"translate(207.275001 160.398438) scale(0.1 -0.1)\">\n       <defs>\n        <path id=\"DejaVuSans-30\" d=\"M 2034 4250 \nQ 1547 4250 1301 3770 \nQ 1056 3291 1056 2328 \nQ 1056 1369 1301 889 \nQ 1547 409 2034 409 \nQ 2525 409 2770 889 \nQ 3016 1369 3016 2328 \nQ 3016 3291 2770 3770 \nQ 2525 4250 2034 4250 \nz\nM 2034 4750 \nQ 2819 4750 3233 4129 \nQ 3647 3509 3647 2328 \nQ 3647 1150 3233 529 \nQ 2819 -91 2034 -91 \nQ 1250 -91 836 529 \nQ 422 1150 422 2328 \nQ 422 3509 836 4129 \nQ 1250 4750 2034 4750 \nz\n\" transform=\"scale(0.015625)\"/>\n       </defs>\n       <use xlink:href=\"#DejaVuSans-30\"/>\n      </g>\n     </g>\n    </g>\n    <g id=\"text_4\">\n     <!-- x1 -->\n     <g transform=\"translate(134.129687 174.076563) scale(0.1 -0.1)\">\n      <defs>\n       <path id=\"DejaVuSans-78\" d=\"M 3513 3500 \nL 2247 1797 \nL 3578 0 \nL 2900 0 \nL 1881 1375 \nL 863 0 \nL 184 0 \nL 1544 1831 \nL 300 3500 \nL 978 3500 \nL 1906 2253 \nL 2834 3500 \nL 3513 3500 \nz\n\" transform=\"scale(0.015625)\"/>\n       <path id=\"DejaVuSans-31\" d=\"M 794 531 \nL 1825 531 \nL 1825 4091 \nL 703 3866 \nL 703 4441 \nL 1819 4666 \nL 2450 4666 \nL 2450 531 \nL 3481 531 \nL 3481 0 \nL 794 0 \nL 794 531 \nz\n\" transform=\"scale(0.015625)\"/>\n      </defs>\n      <use xlink:href=\"#DejaVuSans-78\"/>\n      <use xlink:href=\"#DejaVuSans-31\" x=\"59.179688\"/>\n     </g>\n    </g>\n   </g>\n   <g id=\"matplotlib.axis_2\">\n    <g id=\"ytick_1\">\n     <g id=\"line2d_4\">\n      <defs>\n       <path id=\"me6d5ab76d8\" d=\"M 0 0 \nL -3.5 0 \n\" style=\"stroke: #000000; stroke-width: 0.8\"/>\n      </defs>\n      <g>\n       <use xlink:href=\"#me6d5ab76d8\" x=\"42.620312\" y=\"145.8\" style=\"stroke: #000000; stroke-width: 0.8\"/>\n      </g>\n     </g>\n     <g id=\"text_5\">\n      <!-- −3 -->\n      <g transform=\"translate(20.878125 149.599219) scale(0.1 -0.1)\">\n       <defs>\n        <path id=\"DejaVuSans-33\" d=\"M 2597 2516 \nQ 3050 2419 3304 2112 \nQ 3559 1806 3559 1356 \nQ 3559 666 3084 287 \nQ 2609 -91 1734 -91 \nQ 1441 -91 1130 -33 \nQ 819 25 488 141 \nL 488 750 \nQ 750 597 1062 519 \nQ 1375 441 1716 441 \nQ 2309 441 2620 675 \nQ 2931 909 2931 1356 \nQ 2931 1769 2642 2001 \nQ 2353 2234 1838 2234 \nL 1294 2234 \nL 1294 2753 \nL 1863 2753 \nQ 2328 2753 2575 2939 \nQ 2822 3125 2822 3475 \nQ 2822 3834 2567 4026 \nQ 2313 4219 1838 4219 \nQ 1578 4219 1281 4162 \nQ 984 4106 628 3988 \nL 628 4550 \nQ 988 4650 1302 4700 \nQ 1616 4750 1894 4750 \nQ 2613 4750 3031 4423 \nQ 3450 4097 3450 3541 \nQ 3450 3153 3228 2886 \nQ 3006 2619 2597 2516 \nz\n\" transform=\"scale(0.015625)\"/>\n       </defs>\n       <use xlink:href=\"#DejaVuSans-2212\"/>\n       <use xlink:href=\"#DejaVuSans-33\" x=\"83.789062\"/>\n      </g>\n     </g>\n    </g>\n    <g id=\"ytick_2\">\n     <g id=\"line2d_5\">\n      <g>\n       <use xlink:href=\"#me6d5ab76d8\" x=\"42.620312\" y=\"110.261538\" style=\"stroke: #000000; stroke-width: 0.8\"/>\n      </g>\n     </g>\n     <g id=\"text_6\">\n      <!-- −2 -->\n      <g transform=\"translate(20.878125 114.060757) scale(0.1 -0.1)\">\n       <use xlink:href=\"#DejaVuSans-2212\"/>\n       <use xlink:href=\"#DejaVuSans-32\" x=\"83.789062\"/>\n      </g>\n     </g>\n    </g>\n    <g id=\"ytick_3\">\n     <g id=\"line2d_6\">\n      <g>\n       <use xlink:href=\"#me6d5ab76d8\" x=\"42.620312\" y=\"74.723076\" style=\"stroke: #000000; stroke-width: 0.8\"/>\n      </g>\n     </g>\n     <g id=\"text_7\">\n      <!-- −1 -->\n      <g transform=\"translate(20.878125 78.522295) scale(0.1 -0.1)\">\n       <use xlink:href=\"#DejaVuSans-2212\"/>\n       <use xlink:href=\"#DejaVuSans-31\" x=\"83.789062\"/>\n      </g>\n     </g>\n    </g>\n    <g id=\"ytick_4\">\n     <g id=\"line2d_7\">\n      <g>\n       <use xlink:href=\"#me6d5ab76d8\" x=\"42.620312\" y=\"39.184615\" style=\"stroke: #000000; stroke-width: 0.8\"/>\n      </g>\n     </g>\n     <g id=\"text_8\">\n      <!-- 0 -->\n      <g transform=\"translate(29.257812 42.983833) scale(0.1 -0.1)\">\n       <use xlink:href=\"#DejaVuSans-30\"/>\n      </g>\n     </g>\n    </g>\n    <g id=\"text_9\">\n     <!-- x2 -->\n     <g transform=\"translate(14.798437 82.640625) rotate(-90) scale(0.1 -0.1)\">\n      <use xlink:href=\"#DejaVuSans-78\"/>\n      <use xlink:href=\"#DejaVuSans-32\" x=\"59.179688\"/>\n     </g>\n    </g>\n   </g>\n   <g id=\"line2d_8\">\n    <path d=\"M 88.39375 81.830771 \nL 112.806249 64.772308 \nL 132.336252 54.537231 \nL 147.960255 48.396184 \nL 160.459455 44.711556 \nL 170.458815 42.50078 \nL 178.458302 41.174314 \nL 184.857892 40.378434 \nL 189.977563 39.900906 \nL 194.073301 39.61439 \nL 197.349891 39.44248 \nL 199.971163 39.339334 \nL 202.06818 39.277446 \nL 203.745794 39.240314 \nL 205.087886 39.218034 \nL 206.161559 39.204666 \nL 207.020497 39.196646 \nL 207.707648 39.191833 \nL 208.257368 39.188946 \nL 208.697145 39.187213 \n\" clip-path=\"url(#pc383101026)\" style=\"fill: none; stroke: #ff7f0e; stroke-width: 1.5; stroke-linecap: square\"/>\n    <defs>\n     <path id=\"m0a6cb6b6e7\" d=\"M 0 3 \nC 0.795609 3 1.55874 2.683901 2.12132 2.12132 \nC 2.683901 1.55874 3 0.795609 3 0 \nC 3 -0.795609 2.683901 -1.55874 2.12132 -2.12132 \nC 1.55874 -2.683901 0.795609 -3 0 -3 \nC -0.795609 -3 -1.55874 -2.683901 -2.12132 -2.12132 \nC -2.683901 -1.55874 -3 -0.795609 -3 0 \nC -3 0.795609 -2.683901 1.55874 -2.12132 2.12132 \nC -1.55874 2.683901 -0.795609 3 0 3 \nz\n\" style=\"stroke: #ff7f0e\"/>\n    </defs>\n    <g clip-path=\"url(#pc383101026)\">\n     <use xlink:href=\"#m0a6cb6b6e7\" x=\"88.39375\" y=\"81.830771\" style=\"fill: #ff7f0e; stroke: #ff7f0e\"/>\n     <use xlink:href=\"#m0a6cb6b6e7\" x=\"112.806249\" y=\"64.772308\" style=\"fill: #ff7f0e; stroke: #ff7f0e\"/>\n     <use xlink:href=\"#m0a6cb6b6e7\" x=\"132.336252\" y=\"54.537231\" style=\"fill: #ff7f0e; stroke: #ff7f0e\"/>\n     <use xlink:href=\"#m0a6cb6b6e7\" x=\"147.960255\" y=\"48.396184\" style=\"fill: #ff7f0e; stroke: #ff7f0e\"/>\n     <use xlink:href=\"#m0a6cb6b6e7\" x=\"160.459455\" y=\"44.711556\" style=\"fill: #ff7f0e; stroke: #ff7f0e\"/>\n     <use xlink:href=\"#m0a6cb6b6e7\" x=\"170.458815\" y=\"42.50078\" style=\"fill: #ff7f0e; stroke: #ff7f0e\"/>\n     <use xlink:href=\"#m0a6cb6b6e7\" x=\"178.458302\" y=\"41.174314\" style=\"fill: #ff7f0e; stroke: #ff7f0e\"/>\n     <use xlink:href=\"#m0a6cb6b6e7\" x=\"184.857892\" y=\"40.378434\" style=\"fill: #ff7f0e; stroke: #ff7f0e\"/>\n     <use xlink:href=\"#m0a6cb6b6e7\" x=\"189.977563\" y=\"39.900906\" style=\"fill: #ff7f0e; stroke: #ff7f0e\"/>\n     <use xlink:href=\"#m0a6cb6b6e7\" x=\"194.073301\" y=\"39.61439\" style=\"fill: #ff7f0e; stroke: #ff7f0e\"/>\n     <use xlink:href=\"#m0a6cb6b6e7\" x=\"197.349891\" y=\"39.44248\" style=\"fill: #ff7f0e; stroke: #ff7f0e\"/>\n     <use xlink:href=\"#m0a6cb6b6e7\" x=\"199.971163\" y=\"39.339334\" style=\"fill: #ff7f0e; stroke: #ff7f0e\"/>\n     <use xlink:href=\"#m0a6cb6b6e7\" x=\"202.06818\" y=\"39.277446\" style=\"fill: #ff7f0e; stroke: #ff7f0e\"/>\n     <use xlink:href=\"#m0a6cb6b6e7\" x=\"203.745794\" y=\"39.240314\" style=\"fill: #ff7f0e; stroke: #ff7f0e\"/>\n     <use xlink:href=\"#m0a6cb6b6e7\" x=\"205.087886\" y=\"39.218034\" style=\"fill: #ff7f0e; stroke: #ff7f0e\"/>\n     <use xlink:href=\"#m0a6cb6b6e7\" x=\"206.161559\" y=\"39.204666\" style=\"fill: #ff7f0e; stroke: #ff7f0e\"/>\n     <use xlink:href=\"#m0a6cb6b6e7\" x=\"207.020497\" y=\"39.196646\" style=\"fill: #ff7f0e; stroke: #ff7f0e\"/>\n     <use xlink:href=\"#m0a6cb6b6e7\" x=\"207.707648\" y=\"39.191833\" style=\"fill: #ff7f0e; stroke: #ff7f0e\"/>\n     <use xlink:href=\"#m0a6cb6b6e7\" x=\"208.257368\" y=\"39.188946\" style=\"fill: #ff7f0e; stroke: #ff7f0e\"/>\n     <use xlink:href=\"#m0a6cb6b6e7\" x=\"208.697145\" y=\"39.187213\" style=\"fill: #ff7f0e; stroke: #ff7f0e\"/>\n    </g>\n   </g>\n   <g id=\"PathCollection_1\"/>\n   <g id=\"PathCollection_2\">\n    <path d=\"M 133.389338 7.2 \nL 131.354961 10.753845 \nL 131.115628 11.22768 \nL 129.618631 14.307692 \nL 128.121641 17.861537 \nL 128.064069 18.023063 \nL 126.898922 21.415384 \nL 125.900228 24.96923 \nL 125.123465 28.523076 \nL 125.012502 29.233828 \nL 124.58421 32.076922 \nL 124.262994 35.630769 \nL 124.155921 39.184615 \nL 124.262994 42.738461 \nL 124.58421 46.292308 \nL 125.012502 49.135401 \nL 125.123465 49.846154 \nL 125.900228 53.400001 \nL 126.898922 56.953846 \nL 128.064069 60.346166 \nL 128.121641 60.507693 \nL 129.618631 64.061538 \nL 131.115628 67.141548 \nL 131.354961 67.615382 \nL 133.389338 71.169229 \nL 134.167188 72.38502 \nL 135.724107 74.723076 \nL 137.218755 76.753852 \nL 138.387435 78.276924 \nL 140.270314 80.517389 \nL 141.423126 81.830766 \nL 143.321874 83.820924 \nL 144.883135 85.384613 \nL 146.373441 86.766672 \nL 148.829573 88.93846 \nL 149.425 89.428646 \nL 152.476564 91.818304 \nL 153.383783 92.492307 \nL 155.528127 93.98263 \nL 158.57969 95.988833 \nL 158.672164 96.046154 \nL 161.631253 97.76923 \nL 164.682813 99.438459 \nL 164.998499 99.600001 \nL 167.734376 100.92 \nL 170.785939 102.290771 \nL 172.861005 103.153848 \nL 173.837499 103.538045 \nL 176.889062 104.64262 \nL 179.940626 105.651142 \nL 182.992189 106.563617 \nL 183.530712 106.707695 \nL 186.04375 107.345562 \nL 189.095313 108.028995 \nL 192.146877 108.621302 \nL 195.198438 109.122485 \nL 198.250001 109.532545 \nL 201.301564 109.851478 \nL 204.353126 110.07929 \nL 207.404689 110.215975 \nL 210.456251 110.261538 \nL 210.456251 110.261538 \nL 210.456251 110.261538 \nL 213.507813 110.215975 \nL 216.559376 110.07929 \nL 219.610939 109.851478 \nL 222.662501 109.532545 \nL 225.714063 109.122485 \nL 228.765626 108.621302 \nL 231.817188 108.028995 \nL 234.868751 107.345562 \nL 237.38179 106.707695 \nL 237.920313 106.563617 \n\" clip-path=\"url(#pc383101026)\" style=\"fill: none; stroke: #1f77b4; stroke-width: 1.5\"/>\n   </g>\n   <g id=\"PathCollection_3\">\n    <path d=\"M 94.741 7.2 \nL 94.496869 7.827163 \nL 93.387217 10.753845 \nL 92.198295 14.307692 \nL 91.44531 16.904747 \nL 91.174923 17.861537 \nL 90.325119 21.415384 \nL 89.629825 24.96923 \nL 89.089044 28.523076 \nL 88.702769 32.076922 \nL 88.471007 35.630769 \nL 88.393757 39.184276 \nL 88.39375 39.184615 \nL 88.393757 39.184954 \nL 88.471007 42.738461 \nL 88.702769 46.292308 \nL 89.089044 49.846154 \nL 89.629825 53.400001 \nL 90.325119 56.953846 \nL 91.174923 60.507693 \nL 91.44531 61.464482 \nL 92.198295 64.061538 \nL 93.387217 67.615382 \nL 94.496869 70.542066 \nL 94.741 71.169229 \nL 96.287127 74.723076 \nL 97.548436 77.346149 \nL 98.008263 78.276924 \nL 99.931161 81.830766 \nL 100.599996 82.967996 \nL 102.061308 85.384613 \nL 103.651563 87.819658 \nL 104.403397 88.93846 \nL 106.703122 92.12466 \nL 106.976403 92.492307 \nL 109.754682 95.988822 \nL 109.801639 96.046154 \nL 112.806249 99.492307 \nL 112.903126 99.600001 \nL 115.857816 102.696925 \nL 116.308047 103.153848 \nL 118.909375 105.651142 \nL 120.04725 106.707695 \nL 121.960942 108.393495 \nL 124.155924 110.261538 \nL 125.012502 110.954971 \nL 128.064069 113.338652 \nL 128.697415 113.81539 \nL 131.115628 115.550988 \nL 133.748347 117.369232 \nL 134.167188 117.645641 \nL 137.218755 119.580512 \nL 139.426266 120.923075 \nL 140.270314 121.414565 \nL 143.321874 123.115875 \nL 145.876677 124.476926 \nL 146.373441 124.730771 \nL 149.425 126.217583 \nL 152.476564 127.631866 \nL 153.383788 128.030769 \nL 155.528127 128.936653 \nL 158.57969 130.156112 \nL 161.631253 131.305886 \nL 162.418734 131.584612 \nL 164.682813 132.355733 \nL 167.734376 133.328012 \nL 170.785939 134.233237 \nL 173.837499 135.071408 \nL 174.102859 135.138463 \nL 176.889062 135.816922 \nL 179.940626 136.495383 \nL 182.992189 137.109229 \nL 186.04375 137.65846 \nL 189.095313 138.143075 \nL 192.146877 138.563078 \nL 193.256511 138.692306 \nL 195.198438 138.910526 \nL 198.250001 139.191094 \nL 201.301564 139.409311 \nL 204.353126 139.565181 \nL 207.404689 139.658704 \nL 210.456251 139.689878 \nL 213.507813 139.658704 \nL 216.559376 139.565181 \nL 219.610939 139.409311 \nL 222.662501 139.191094 \nL 225.714063 138.910526 \nL 227.655991 138.692306 \nL 228.765626 138.563078 \nL 231.817188 138.143075 \nL 234.868751 137.65846 \nL 237.920313 137.109229 \n\" clip-path=\"url(#pc383101026)\" style=\"fill: none; stroke: #1f77b4; stroke-width: 1.5\"/>\n   </g>\n   <g id=\"PathCollection_4\">\n    <path d=\"M 66.101283 7.2 \nL 65.009145 10.753845 \nL 64.045489 14.307692 \nL 63.981244 14.581071 \nL 63.226219 17.861537 \nL 62.534115 21.415384 \nL 61.967845 24.96923 \nL 61.527415 28.523076 \nL 61.21282 32.076922 \nL 61.024065 35.630769 \nL 60.961145 39.184615 \nL 61.024065 42.738461 \nL 61.21282 46.292308 \nL 61.527415 49.846154 \nL 61.967845 53.400001 \nL 62.534115 56.953846 \nL 63.226219 60.507693 \nL 63.981244 63.788159 \nL 64.045489 64.061538 \nL 65.009145 67.615382 \nL 66.101283 71.169229 \nL 67.032818 73.88139 \nL 67.328125 74.723076 \nL 68.706252 78.276924 \nL 70.084378 81.521744 \nL 70.218509 81.830766 \nL 71.895191 85.384613 \nL 73.135938 87.819658 \nL 73.718821 88.93846 \nL 75.70748 92.492307 \nL 76.187512 93.294806 \nL 77.871125 96.046154 \nL 79.239071 98.146162 \nL 80.208385 99.600001 \nL 82.290631 102.544624 \nL 82.731817 103.153848 \nL 85.342191 106.563617 \nL 85.455214 106.707695 \nL 88.39375 110.261538 \nL 88.393757 110.261547 \nL 91.44531 113.68536 \nL 91.564212 113.81539 \nL 94.496869 116.873336 \nL 94.98513 117.369232 \nL 97.548436 119.85692 \nL 98.677098 120.923075 \nL 100.599996 122.662189 \nL 102.66303 124.476926 \nL 103.651563 125.31099 \nL 106.703122 127.813182 \nL 106.976403 128.030769 \nL 109.754682 130.156105 \nL 111.679511 131.584612 \nL 112.806249 132.389261 \nL 115.857816 134.501452 \nL 116.808306 135.138463 \nL 118.909375 136.495381 \nL 121.960942 138.401542 \nL 122.442758 138.692306 \nL 125.012502 140.188665 \nL 128.064069 141.903241 \nL 128.697416 142.246157 \nL 131.115628 143.511083 \nL 134.167188 145.047066 \nL 135.724104 145.8 \n\" clip-path=\"url(#pc383101026)\" style=\"fill: none; stroke: #1f77b4; stroke-width: 1.5\"/>\n   </g>\n   <g id=\"PathCollection_5\">\n    <path d=\"M 42.620312 72.385026 \nL 43.320213 74.723076 \nL 44.496043 78.276924 \nL 45.671872 81.521729 \nL 45.785952 81.830766 \nL 47.211915 85.384613 \nL 48.723432 88.872634 \nL 48.7525 88.93846 \nL 50.438126 92.492307 \nL 51.775006 95.129054 \nL 52.249024 96.046154 \nL 54.204398 99.600001 \nL 54.826565 100.666162 \nL 56.307021 103.153848 \nL 57.878125 105.651143 \nL 58.556253 106.707695 \nL 60.929685 110.215966 \nL 60.961151 110.261538 \nL 63.540821 113.81539 \nL 63.981244 114.393913 \nL 66.294014 117.369232 \nL 67.032818 118.277443 \nL 69.231252 120.923075 \nL 70.084378 121.906056 \nL 72.364666 124.476926 \nL 73.135938 125.31099 \nL 75.70748 128.030769 \nL 76.187512 128.518562 \nL 79.239071 131.549789 \nL 79.274952 131.584612 \nL 82.290631 134.400881 \nL 83.09947 135.138463 \nL 85.342191 137.109235 \nL 87.188189 138.692306 \nL 88.393757 139.689886 \nL 91.44531 142.152627 \nL 91.564212 142.246157 \nL 94.496869 144.474831 \nL 96.287127 145.8 \n\" clip-path=\"url(#pc383101026)\" style=\"fill: none; stroke: #1f77b4; stroke-width: 1.5\"/>\n   </g>\n   <g id=\"PathCollection_6\">\n    <path d=\"M 42.620312 117.645641 \nL 44.943982 120.923075 \nL 45.671872 121.90605 \nL 47.611182 124.476926 \nL 48.723432 125.891204 \nL 50.438126 128.030769 \nL 51.775006 129.633492 \nL 53.434101 131.584612 \nL 54.826565 133.160378 \nL 56.609163 135.138463 \nL 57.878125 136.495381 \nL 59.974143 138.692306 \nL 60.929685 139.658706 \nL 63.540815 142.246157 \nL 63.981244 142.667798 \nL 67.032818 145.528954 \nL 67.32812 145.8 \n\" clip-path=\"url(#pc383101026)\" style=\"fill: none; stroke: #1f77b4; stroke-width: 1.5\"/>\n   </g>\n   <g id=\"PathCollection_7\">\n    <path d=\"M 42.620312 145.047067 \nL 43.320214 145.8 \n\" clip-path=\"url(#pc383101026)\" style=\"fill: none; stroke: #1f77b4; stroke-width: 1.5\"/>\n   </g>\n   <g id=\"PathCollection_8\"/>\n   <g id=\"patch_3\">\n    <path d=\"M 42.620312 145.8 \nL 42.620312 7.2 \n\" style=\"fill: none; stroke: #000000; stroke-width: 0.8; stroke-linejoin: miter; stroke-linecap: square\"/>\n   </g>\n   <g id=\"patch_4\">\n    <path d=\"M 237.920313 145.8 \nL 237.920313 7.2 \n\" style=\"fill: none; stroke: #000000; stroke-width: 0.8; stroke-linejoin: miter; stroke-linecap: square\"/>\n   </g>\n   <g id=\"patch_5\">\n    <path d=\"M 42.620312 145.8 \nL 237.920313 145.8 \n\" style=\"fill: none; stroke: #000000; stroke-width: 0.8; stroke-linejoin: miter; stroke-linecap: square\"/>\n   </g>\n   <g id=\"patch_6\">\n    <path d=\"M 42.620312 7.2 \nL 237.920313 7.2 \n\" style=\"fill: none; stroke: #000000; stroke-width: 0.8; stroke-linejoin: miter; stroke-linecap: square\"/>\n   </g>\n  </g>\n </g>\n <defs>\n  <clipPath id=\"pc383101026\">\n   <rect x=\"42.620312\" y=\"7.2\" width=\"195.3\" height=\"138.6\"/>\n  </clipPath>\n </defs>\n</svg>\n",
            "text/plain": [
              "<Figure size 350x250 with 1 Axes>"
            ]
          },
          "metadata": {},
          "output_type": "display_data"
        }
      ],
      "source": [
        "show_trace_2d(f_2d, weights_history)"
      ]
    }
  ],
  "metadata": {
    "colab": {
      "collapsed_sections": [],
      "provenance": []
    },
    "kernelspec": {
      "display_name": "Python 3.8.13 ('trainer')",
      "language": "python",
      "name": "python3"
    },
    "language_info": {
      "codemirror_mode": {
        "name": "ipython",
        "version": 3
      },
      "file_extension": ".py",
      "mimetype": "text/x-python",
      "name": "python",
      "nbconvert_exporter": "python",
      "pygments_lexer": "ipython3",
      "version": "3.8.13"
    },
    "vscode": {
      "interpreter": {
        "hash": "53390442d6eec5aea77cbc4145ee98f31622ea5a9408eff13a818af2150b8a26"
      }
    }
  },
  "nbformat": 4,
  "nbformat_minor": 0
}
