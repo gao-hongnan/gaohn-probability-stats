{
 "cells": [
  {
   "cell_type": "markdown",
   "id": "c1b2a1ae",
   "metadata": {},
   "source": [
    "# Convolution and Sum of Random Variables\n",
    "\n",
    "In {cite}`chan_2021`, the author gave us an intuitive treatment of the origin of\n",
    "Gaussian random variables before the formal mathematical treatment\n",
    "of the Central Limit Theorem in a later chapter.\n",
    "\n",
    "Let's say we are rolling a fair dice and we can model the problem as a\n",
    "discrete random variable $X$ with discrete uniform distribution, $X \\sim \\uniform(1, 6)$.\n",
    "The empirical histograms after repeating, say, $10000$ times can be seen below. The\n",
    "histogram is almost equal in height across the 6 states, as expected.\n",
    "\n",
    "Now, let's say we are rolling two fair dice and we are interested in the sum of the\n",
    "two dice. We can denote roll 1 as $X_1$ and roll 2 as $X_2$, both of which follow\n",
    "the same discrete uniform distribution. The sum of the two dice is then $Z = X_1 + X_2$.\n",
    "To find the empirical distribution of $Z$, we list out the sample space of $Z$ to be\n",
    "$\\lset (1, 1), (1, 2), \\ldots, (6, 6) \\rset$ and this is mapped to the set of integers\n",
    "$\\lset 2, 3, \\ldots, 12 \\rset$. The empirical histogram of $Z$ is shown below.\n",
    "It should not be a surprise that the histogram has a triangular shape, since we do expect\n",
    "the sum of two dice to be more likely to be closer to 7 than 2 or 12, simply because\n",
    "there are more way to get a sum of 7 (e.g. $(1, 6)$, $(2, 5)$, $(3, 4)$ ...) than\n",
    "to get a sum of 2 or 12 (e.g. $(1, 1)$, $(6, 6)$)."
   ]
  },
  {
   "cell_type": "code",
   "execution_count": 1,
   "id": "f3f571ba",
   "metadata": {
    "tags": [
     "hide-input"
    ]
   },
   "outputs": [
    {
     "ename": "ImportError",
     "evalue": "cannot import name 'plot_sum_of_uniform_distribution' from 'utils' (/home/runner/work/gaohn-probability-stats/gaohn-probability-stats/content/utils.py)",
     "output_type": "error",
     "traceback": [
      "\u001b[0;31m---------------------------------------------------------------------------\u001b[0m",
      "\u001b[0;31mImportError\u001b[0m                               Traceback (most recent call last)",
      "Cell \u001b[0;32mIn [1], line 6\u001b[0m\n\u001b[1;32m      3\u001b[0m parent_dir \u001b[38;5;241m=\u001b[39m \u001b[38;5;28mstr\u001b[39m(Path()\u001b[38;5;241m.\u001b[39mresolve()\u001b[38;5;241m.\u001b[39mparent)\n\u001b[1;32m      4\u001b[0m sys\u001b[38;5;241m.\u001b[39mpath\u001b[38;5;241m.\u001b[39mappend(parent_dir)\n\u001b[0;32m----> 6\u001b[0m \u001b[38;5;28;01mfrom\u001b[39;00m \u001b[38;5;21;01mutils\u001b[39;00m \u001b[38;5;28;01mimport\u001b[39;00m plot_sum_of_uniform_distribution\n\u001b[1;32m      8\u001b[0m plot_sum_of_uniform_distribution()\n",
      "\u001b[0;31mImportError\u001b[0m: cannot import name 'plot_sum_of_uniform_distribution' from 'utils' (/home/runner/work/gaohn-probability-stats/gaohn-probability-stats/content/utils.py)"
     ]
    }
   ],
   "source": [
    "import sys\n",
    "from pathlib import Path\n",
    "parent_dir = str(Path().resolve().parent)\n",
    "sys.path.append(parent_dir)\n",
    "\n",
    "from utils import plot_sum_of_uniform_distribution\n",
    "\n",
    "plot_sum_of_uniform_distribution()"
   ]
  }
 ],
 "metadata": {
  "jupytext": {
   "cell_metadata_filter": "-all",
   "formats": "md:myst",
   "text_representation": {
    "extension": ".md",
    "format_name": "myst",
    "format_version": 0.13,
    "jupytext_version": "1.11.5"
   }
  },
  "kernelspec": {
   "display_name": "Python 3",
   "language": "python",
   "name": "python3"
  },
  "language_info": {
   "codemirror_mode": {
    "name": "ipython",
    "version": 3
   },
   "file_extension": ".py",
   "mimetype": "text/x-python",
   "name": "python",
   "nbconvert_exporter": "python",
   "pygments_lexer": "ipython3",
   "version": "3.8.14"
  },
  "mystnb": {
   "number_source_lines": true
  },
  "source_map": [
   16,
   41
  ]
 },
 "nbformat": 4,
 "nbformat_minor": 5
}